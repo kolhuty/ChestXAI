{
 "cells": [
  {
   "cell_type": "code",
   "execution_count": 1,
   "id": "a0552526-de70-4dc1-9cf2-3e065ac85527",
   "metadata": {
    "execution": {
     "iopub.execute_input": "2025-10-04T19:23:02.107126Z",
     "iopub.status.busy": "2025-10-04T19:23:02.106867Z",
     "iopub.status.idle": "2025-10-04T19:23:02.111742Z",
     "shell.execute_reply": "2025-10-04T19:23:02.110733Z",
     "shell.execute_reply.started": "2025-10-04T19:23:02.107102Z"
    }
   },
   "outputs": [],
   "source": [
    "#pip install torch torchvision numpy pandas opencv-python scikit-learn"
   ]
  },
  {
   "cell_type": "code",
   "execution_count": 2,
   "id": "453df966-6da4-4104-a0c0-cc350b7413f7",
   "metadata": {
    "execution": {
     "iopub.execute_input": "2025-10-04T19:23:02.113914Z",
     "iopub.status.busy": "2025-10-04T19:23:02.113681Z",
     "iopub.status.idle": "2025-10-04T19:23:10.471600Z",
     "shell.execute_reply": "2025-10-04T19:23:10.471013Z",
     "shell.execute_reply.started": "2025-10-04T19:23:02.113891Z"
    }
   },
   "outputs": [],
   "source": [
    "import os\n",
    "import cv2\n",
    "import math\n",
    "import numpy as np\n",
    "import pandas as pd\n",
    "import matplotlib.pyplot as plt\n",
    "from tqdm import tqdm\n",
    "from PIL import Image\n",
    "\n",
    "import torch\n",
    "import torch.nn as nn\n",
    "import torch.nn.functional as F\n",
    "from torch.utils.data import Dataset, DataLoader\n",
    "import torchvision.models as models\n",
    "from torchvision import transforms\n",
    "\n",
    "from sklearn.metrics import roc_auc_score, f1_score, precision_score, recall_score, precision_recall_curve\n",
    "from sklearn.model_selection import train_test_split\n",
    "from sklearn.preprocessing import LabelEncoder"
   ]
  },
  {
   "cell_type": "code",
   "execution_count": 3,
   "id": "1e5adc33-1a94-426e-9f66-ef2984c92620",
   "metadata": {
    "execution": {
     "iopub.execute_input": "2025-10-04T19:23:10.472631Z",
     "iopub.status.busy": "2025-10-04T19:23:10.472259Z",
     "iopub.status.idle": "2025-10-04T19:23:10.543550Z",
     "shell.execute_reply": "2025-10-04T19:23:10.542777Z",
     "shell.execute_reply.started": "2025-10-04T19:23:10.472611Z"
    }
   },
   "outputs": [],
   "source": [
    "IMG_SIZE = (512, 512)\n",
    "BATCH_SIZE = 8\n",
    "NUM_CLASSES = 14\n",
    "NUM_EPOCHS = 10\n",
    "LR = 5e-5\n",
    "DEVICE = torch.device(\"cuda\" if torch.cuda.is_available() else \"cpu\")\n",
    "\n",
    "IMAGE_DIR_TRAIN = '/kaggle/input/grand-xray-slam-division-b/train2/'\n",
    "SAMPLE_SUBMISSION_CSV = '/kaggle/input/grand-xray-slam-division-b/sample_submission_2.csv'"
   ]
  },
  {
   "cell_type": "code",
   "execution_count": 4,
   "id": "af624cd0-f4a5-43bb-a252-75537bcd3118",
   "metadata": {
    "execution": {
     "iopub.execute_input": "2025-10-04T19:23:10.544773Z",
     "iopub.status.busy": "2025-10-04T19:23:10.544494Z",
     "iopub.status.idle": "2025-10-04T19:23:10.851539Z",
     "shell.execute_reply": "2025-10-04T19:23:10.850723Z",
     "shell.execute_reply.started": "2025-10-04T19:23:10.544749Z"
    }
   },
   "outputs": [
    {
     "name": "stdout",
     "output_type": "stream",
     "text": [
      "Loaded train1.csv with 108494 rows\n",
      "Train samples: 17359, Validation samples: 4340\n"
     ]
    }
   ],
   "source": [
    "# load train.csv\n",
    "try:\n",
    "    train_df = pd.read_csv('/kaggle/input/grand-xray-slam-division-b/train2.csv')\n",
    "    print(f\"Loaded train1.csv with {len(train_df)} rows\")\n",
    "except FileNotFoundError:\n",
    "    print(\"Error: train1.csv not found. Ensure dataset is attached.\")\n",
    "    raise\n",
    "\n",
    "label_columns = [\n",
    "    'Atelectasis', 'Cardiomegaly', 'Consolidation', 'Edema', 'Enlarged Cardiomediastinum',\n",
    "    'Fracture', 'Lung Lesion', 'Lung Opacity', 'No Finding', 'Pleural Effusion',\n",
    "    'Pleural Other', 'Pneumonia', 'Pneumothorax', 'Support Devices'\n",
    "]\n",
    "\n",
    "missing_cols = [col for col in label_columns if col not in train_df.columns]\n",
    "if missing_cols:\n",
    "    raise KeyError(f\"Missing columns: {missing_cols}\")\n",
    "\n",
    "subset_frac = 0.2\n",
    "df_small = train_df.sample(frac=subset_frac, random_state=42)\n",
    "\n",
    "# split into train and validation 80/20\n",
    "train_data, val_data = train_test_split(df_small, test_size=0.2, random_state=42)\n",
    "\n",
    "print(f\"Train samples: {len(train_data)}, Validation samples: {len(val_data)}\")"
   ]
  },
  {
   "cell_type": "code",
   "execution_count": null,
   "id": "844970f0-392d-4380-9149-5aa09a2706f5",
   "metadata": {
    "execution": {
     "iopub.execute_input": "2025-10-04T19:23:10.852580Z",
     "iopub.status.busy": "2025-10-04T19:23:10.852359Z",
     "iopub.status.idle": "2025-10-04T19:23:11.325463Z",
     "shell.execute_reply": "2025-10-04T19:23:11.324817Z",
     "shell.execute_reply.started": "2025-10-04T19:23:10.852563Z"
    }
   },
   "outputs": [
    {
     "name": "stdout",
     "output_type": "stream",
     "text": [
      "pos_weight: tensor([ 1.7230,  2.0012,  2.5748,  2.8774,  1.8044,  6.3400,  7.4185,  1.1553,\n",
      "         2.2765,  2.0653, 13.7988,  6.2329, 11.8111,  1.8707], device='cuda:0')\n"
     ]
    }
   ],
   "source": [
    "pos_counts = train_data[label_columns].sum(axis=0).values  # count 1s for each class\n",
    "neg_counts = len(train_data) - pos_counts                  # count 0s for each class\n",
    "\n",
    "pos_weight = torch.tensor(neg_counts / (pos_counts + 1e-5), dtype=torch.float32).to(DEVICE)\n",
    "\n",
    "print(\"pos_weight:\", pos_weight)"
   ]
  },
  {
   "cell_type": "code",
   "execution_count": null,
   "id": "55361d06-278b-4587-a9a5-747f5f368fd9",
   "metadata": {
    "execution": {
     "iopub.execute_input": "2025-10-04T19:23:11.371368Z",
     "iopub.status.busy": "2025-10-04T19:23:11.371095Z",
     "iopub.status.idle": "2025-10-04T19:23:12.795761Z",
     "shell.execute_reply": "2025-10-04T19:23:12.795055Z",
     "shell.execute_reply.started": "2025-10-04T19:23:11.371350Z"
    }
   },
   "outputs": [
    {
     "name": "stderr",
     "output_type": "stream",
     "text": [
      "/tmp/ipykernel_36/1914071829.py:6: UserWarning: Argument(s) 'value' are not valid for transform PadIfNeeded\n",
      "  A.PadIfNeeded(min_height=512, min_width=512, border_mode=0, value=0),\n",
      "/usr/local/lib/python3.11/dist-packages/albumentations/core/validation.py:114: UserWarning: ShiftScaleRotate is a special case of Affine transform. Please use Affine transform instead.\n",
      "  original_init(self, **validated_kwargs)\n",
      "/tmp/ipykernel_36/1914071829.py:9: UserWarning: Argument(s) 'value' are not valid for transform ShiftScaleRotate\n",
      "  A.ShiftScaleRotate(\n",
      "/tmp/ipykernel_36/1914071829.py:26: UserWarning: Argument(s) 'value' are not valid for transform PadIfNeeded\n",
      "  A.PadIfNeeded(min_height=512, min_width=512, border_mode=0, value=0),\n"
     ]
    }
   ],
   "source": [
    "import albumentations as A\n",
    "from albumentations.pytorch import ToTensorV2\n",
    "\n",
    "train_transform = A.Compose([\n",
    "    A.LongestMaxSize(max_size=512),   # preserve proportions, reduce long side\n",
    "    A.PadIfNeeded(min_height=512, min_width=512, border_mode=0, value=0),  \n",
    "    \n",
    "    A.HorizontalFlip(p=0.5),          # flips\n",
    "    A.ShiftScaleRotate(\n",
    "        shift_limit=0.02, scale_limit=0.05, rotate_limit=5, \n",
    "        border_mode=0, value=0, p=0.3\n",
    "    ),  # small shifts/scales/angles\n",
    "    \n",
    "    A.RandomBrightnessContrast(\n",
    "        brightness_limit=0.05, contrast_limit=0.05, p=0.3\n",
    "    ),  # light correction\n",
    "    \n",
    "    A.CLAHE(clip_limit=2.0, tile_grid_size=(8,8), p=0.2),  # soft contrast enhancement\n",
    "    \n",
    "    A.Normalize(mean=(0.5,), std=(0.5,)),  \n",
    "    ToTensorV2()\n",
    "])\n",
    "\n",
    "val_transform = A.Compose([\n",
    "    A.LongestMaxSize(max_size=512),\n",
    "    A.PadIfNeeded(min_height=512, min_width=512, border_mode=0, value=0),\n",
    "    A.Normalize(mean=(0.5,), std=(0.5,)),\n",
    "    ToTensorV2()\n",
    "])"
   ]
  },
  {
   "cell_type": "code",
   "execution_count": 8,
   "id": "8848d812-146d-44ce-a069-53a9d4808dcb",
   "metadata": {
    "execution": {
     "iopub.execute_input": "2025-10-04T19:23:12.796718Z",
     "iopub.status.busy": "2025-10-04T19:23:12.796485Z",
     "iopub.status.idle": "2025-10-04T19:23:12.803969Z",
     "shell.execute_reply": "2025-10-04T19:23:12.803217Z",
     "shell.execute_reply.started": "2025-10-04T19:23:12.796689Z"
    }
   },
   "outputs": [],
   "source": [
    "class ChestXRayDataset(Dataset):\n",
    "    def __init__(self, df: pd.DataFrame, image_dir: str, img_size=IMG_SIZE, \n",
    "                             is_test=False, label_cols=None, transform=None):\n",
    "        self.df = df.reset_index(drop=True)\n",
    "        self.image_dir = image_dir\n",
    "        self.img_size = img_size\n",
    "        self.is_test = is_test\n",
    "        self.label_cols = label_cols\n",
    "        self.transform = transform\n",
    "\n",
    "        if not os.path.exists(self.image_dir):\n",
    "            raise FileNotFoundError(f\"Image directory {self.image_dir} not found.\")\n",
    "\n",
    "    def __len__(self):\n",
    "        return len(self.df)\n",
    "    \n",
    "    def __getitem__(self, idx):\n",
    "        row = self.df.iloc[idx]\n",
    "        img_name = row['Image_name']\n",
    "        img_path = os.path.join(self.image_dir, img_name)\n",
    "    \n",
    "        # load grayscale image\n",
    "        img = cv2.imread(img_path, cv2.IMREAD_GRAYSCALE)\n",
    "        if img is None or img.size == 0:\n",
    "            img = np.zeros(self.img_size, dtype=np.uint8)\n",
    "        else:\n",
    "            img = cv2.resize(img, self.img_size)\n",
    "    \n",
    "        # make (H, W, 1) for albumentations\n",
    "        img = np.expand_dims(img, axis=-1)\n",
    "    \n",
    "        # augmentation\n",
    "        if self.transform:\n",
    "            # albumentations expects dict\n",
    "            img = self.transform(image=img)[\"image\"]\n",
    "        else:\n",
    "            # fallback: to tensor\n",
    "            img = transforms.ToTensor()(img)\n",
    "    \n",
    "        if self.is_test:\n",
    "            return img\n",
    "        else:\n",
    "            labels = torch.tensor(row[self.label_cols].values.astype(np.float32))\n",
    "            return img, labels"
   ]
  },
  {
   "cell_type": "code",
   "execution_count": 9,
   "id": "107b70ca-1f3a-4402-b39d-450d2dbb0617",
   "metadata": {
    "execution": {
     "iopub.execute_input": "2025-10-04T19:23:12.804998Z",
     "iopub.status.busy": "2025-10-04T19:23:12.804737Z",
     "iopub.status.idle": "2025-10-04T19:23:13.012989Z",
     "shell.execute_reply": "2025-10-04T19:23:13.012204Z",
     "shell.execute_reply.started": "2025-10-04T19:23:12.804972Z"
    }
   },
   "outputs": [],
   "source": [
    "class CNNClassifier(nn.Module):\n",
    "    def __init__(self, backbone, feature_dim, num_classes):\n",
    "        super().__init__()\n",
    "        self.backbone = backbone\n",
    "        self.fc = nn.Sequential(\n",
    "            nn.Linear(feature_dim, 512),\n",
    "            nn.ReLU(),\n",
    "            nn.Dropout(0.3),\n",
    "            nn.Linear(512, num_classes)\n",
    "        )\n",
    "\n",
    "    def forward(self, x):\n",
    "        features = self.backbone(x)\n",
    "        return self.fc(features)"
   ]
  },
  {
   "cell_type": "code",
   "execution_count": null,
   "id": "a0088c4a-76d8-489e-8348-246c773a841a",
   "metadata": {
    "execution": {
     "iopub.execute_input": "2025-10-04T19:23:13.014277Z",
     "iopub.status.busy": "2025-10-04T19:23:13.014012Z",
     "iopub.status.idle": "2025-10-04T19:23:13.033326Z",
     "shell.execute_reply": "2025-10-04T19:23:13.032601Z",
     "shell.execute_reply.started": "2025-10-04T19:23:13.014248Z"
    }
   },
   "outputs": [],
   "source": [
    "class MetricCalculator:\n",
    "    def __init__(self, class_names=label_columns, threshold=0.5):\n",
    "        self.class_names = class_names\n",
    "        self.threshold = threshold\n",
    "    \n",
    "    def _apply_thresholds(self, y_pred):\n",
    "        if isinstance(self.threshold, (float, int)):\n",
    "            return (y_pred >= self.threshold).astype(int)\n",
    "        else:\n",
    "            return (y_pred >= self.threshold[None, :]).astype(int)\n",
    "\n",
    "    def compute_auc(self, y_true, y_pred):\n",
    "        aucs = []\n",
    "        for i in range(y_true.shape[1]):\n",
    "            try:\n",
    "                auc = roc_auc_score(y_true[:, i], y_pred[:, i])\n",
    "            except ValueError:\n",
    "                raise ValueError(\"Empty array for metric\")\n",
    "            aucs.append(auc)\n",
    "        return np.nanmean(aucs), np.array(aucs, dtype=np.float32)\n",
    "    \n",
    "    def compute_f1(self, y_true, y_pred):\n",
    "        y_pred_binary = self._apply_thresholds(y_pred)\n",
    "        f1_scores = []\n",
    "        for i in range(y_true.shape[1]):\n",
    "            try:\n",
    "                f1 = f1_score(y_true[:, i], y_pred_binary[:, i], zero_division=0)\n",
    "            except ValueError:\n",
    "                raise ValueError(\"Empty array for metric\")\n",
    "            f1_scores.append(f1)\n",
    "        return np.nanmean(f1_scores), np.array(f1_scores, dtype=np.float32)\n",
    "    \n",
    "    def compute_precision(self, y_true, y_pred):\n",
    "        y_pred_binary = self._apply_thresholds(y_pred)\n",
    "        precision_scores = []\n",
    "        for i in range(y_true.shape[1]):\n",
    "            try:\n",
    "                precision = precision_score(y_true[:, i], y_pred_binary[:, i], zero_division=0)\n",
    "            except ValueError:\n",
    "                raise ValueError(\"Empty array for metric\")\n",
    "            precision_scores.append(precision)\n",
    "        return np.nanmean(precision_scores), np.array(precision_scores, dtype=np.float32)\n",
    "    \n",
    "    def compute_recall(self, y_true, y_pred):\n",
    "        y_pred_binary = self._apply_thresholds(y_pred)\n",
    "        recall_scores = []\n",
    "        for i in range(y_true.shape[1]):\n",
    "            try:\n",
    "                recall = recall_score(y_true[:, i], y_pred_binary[:, i], zero_division=0)\n",
    "            except ValueError:\n",
    "                raise ValueError(\"Empty array for metric\")\n",
    "            recall_scores.append(recall)\n",
    "        return np.nanmean(recall_scores), np.array(recall_scores, dtype=np.float32)\n",
    "    \n",
    "    def compute_all_metrics(self, y_true, y_pred):\n",
    "        auc_mean, auc_per_class = self.compute_auc(y_true, y_pred)\n",
    "        f1_mean, f1_per_class = self.compute_f1(y_true, y_pred)\n",
    "        precision_mean, precision_per_class = self.compute_precision(y_true, y_pred)\n",
    "        recall_mean, recall_per_class = self.compute_recall(y_true, y_pred)\n",
    "        \n",
    "        return {\n",
    "            'auc': (auc_mean, auc_per_class),\n",
    "            'f1': (f1_mean, f1_per_class),\n",
    "            'precision': (precision_mean, precision_per_class),\n",
    "            'recall': (recall_mean, recall_per_class)\n",
    "        }\n",
    "\n",
    "    def find_best_thresholds(self, y_true, y_probs):\n",
    "        C = y_true.shape[1]\n",
    "        best_thresholds = np.zeros(C)\n",
    "        best_f1s = np.zeros(C)\n",
    "        for c in range(C):\n",
    "            y_c = y_true[:, c]\n",
    "            p_c = y_probs[:, c]\n",
    "\n",
    "            if y_c.sum() == 0:  # if there are no positive examples\n",
    "                best_thresholds[c] = 0.5\n",
    "                best_f1s[c] = 0.0\n",
    "                continue\n",
    "\n",
    "            prec, rec, thr = precision_recall_curve(y_c, p_c)\n",
    "            f1 = (2 * prec * rec) / (prec + rec + 1e-12)\n",
    "            f1 = f1[:-1]  # align with thr\n",
    "            idx = np.argmax(f1)\n",
    "            best_thresholds[c] = thr[idx]\n",
    "            best_f1s[c] = f1[idx]\n",
    "\n",
    "        self.threshold = best_thresholds\n",
    "\n",
    "    def print_detailed_metrics(self, metrics, phase=\"Train\"):\n",
    "        print(f\"\\n{phase} metrics\")\n",
    "        print(f\"AUC: {metrics['auc'][0]:.3f}\")\n",
    "        print(f\"F1: {metrics['f1'][0]:.3f}\")\n",
    "        print(f\"Precision: {metrics['precision'][0]:.3f}\")\n",
    "        print(f\"Recall: {metrics['recall'][0]:.3f}\")\n",
    "        print(f\"Optimal thresholds per class: {self.threshold}\")\n",
    "        self._print_problematic_classes(metrics)\n",
    "    \n",
    "    def _print_problematic_classes(self, metrics, threshold=0.7):\n",
    "        auc_per_class = metrics['auc'][1]\n",
    "        f1_per_class = metrics['f1'][1]\n",
    "        problematic_classes = []\n",
    "        for i, (auc, f1) in enumerate(zip(auc_per_class, f1_per_class)):\n",
    "            if auc < threshold or f1 < threshold:\n",
    "                class_name = self.class_names[i]\n",
    "                problematic_classes.append((class_name, auc, f1))\n",
    "        \n",
    "        if problematic_classes:\n",
    "            print(\"\\nProblematic classes:\")\n",
    "            for class_name, auc, f1 in problematic_classes:\n",
    "                print(f\"  {class_name}: AUC={auc:.3f}, F1={f1:.3f}\")\n"
   ]
  },
  {
   "cell_type": "code",
   "execution_count": 11,
   "id": "4b35c908-afb6-4886-94cb-dfcbe2cf9656",
   "metadata": {
    "execution": {
     "iopub.execute_input": "2025-10-04T19:23:13.034394Z",
     "iopub.status.busy": "2025-10-04T19:23:13.034098Z",
     "iopub.status.idle": "2025-10-04T19:23:13.050554Z",
     "shell.execute_reply": "2025-10-04T19:23:13.049972Z",
     "shell.execute_reply.started": "2025-10-04T19:23:13.034370Z"
    }
   },
   "outputs": [],
   "source": [
    "def plot_learning_curves(model_name, history, num_epochs=NUM_EPOCHS):\n",
    "    epochs = np.arange(1, num_epochs+1)\n",
    "\n",
    "    plt.figure(figsize=(15,4))\n",
    "    # loss\n",
    "    plt.subplot(1,3,1)\n",
    "    plt.plot(epochs, history['train']['loss'], label='train loss')\n",
    "    plt.plot(epochs, history['val']['loss'], label='val loss')\n",
    "    plt.xlabel('Epoch'); plt.ylabel('Loss'); plt.legend()\n",
    "    plt.title(f'Loss {model_name}')\n",
    "    # auc\n",
    "    plt.subplot(1,3,2)\n",
    "    plt.plot(epochs, history['train']['auc'], label='train AUC')\n",
    "    plt.plot(epochs, history['val']['auc'], label='val AUC')\n",
    "    plt.xlabel('Epoch'); plt.ylabel('AUC'); plt.legend()\n",
    "    plt.title(f'AUC {model_name}')\n",
    "    # f1\n",
    "    plt.subplot(1,3,3)\n",
    "    plt.plot(epochs, history['train']['f1'], label='train F1')\n",
    "    plt.plot(epochs, history['val']['f1'], label='val F1')\n",
    "    plt.xlabel('Epoch'); plt.ylabel('F1'); plt.legend()\n",
    "    plt.title(f'F1 {model_name}')\n",
    "    plt.tight_layout()\n",
    "    plt.show()"
   ]
  },
  {
   "cell_type": "code",
   "execution_count": 12,
   "id": "0e00ba56-4236-41b8-a1aa-32426c021006",
   "metadata": {
    "execution": {
     "iopub.execute_input": "2025-10-04T19:23:13.051506Z",
     "iopub.status.busy": "2025-10-04T19:23:13.051308Z",
     "iopub.status.idle": "2025-10-04T19:23:13.065035Z",
     "shell.execute_reply": "2025-10-04T19:23:13.064506Z",
     "shell.execute_reply.started": "2025-10-04T19:23:13.051490Z"
    }
   },
   "outputs": [],
   "source": [
    "def bar_aucs(aucs_per_classes):\n",
    "    plt.figure(figsize=(30,4))\n",
    "    plt.bar(label_columns, aucs_per_classes)\n",
    "    plt.xlabel('class'); plt.ylabel('auc'); plt.legend()\n",
    "    plt.title(f'AUCs by classes')\n",
    "    plt.show()"
   ]
  },
  {
   "cell_type": "code",
   "execution_count": 13,
   "id": "d9604481-54a6-460b-a051-fce93ffc2b68",
   "metadata": {
    "execution": {
     "iopub.execute_input": "2025-10-04T19:23:13.065878Z",
     "iopub.status.busy": "2025-10-04T19:23:13.065655Z",
     "iopub.status.idle": "2025-10-04T19:23:13.082063Z",
     "shell.execute_reply": "2025-10-04T19:23:13.081341Z",
     "shell.execute_reply.started": "2025-10-04T19:23:13.065852Z"
    }
   },
   "outputs": [],
   "source": [
    "train_dataset = ChestXRayDataset(train_data, IMAGE_DIR_TRAIN, img_size=IMG_SIZE, \n",
    "                                 is_test=False, label_cols=label_columns, transform=train_transform)\n",
    "\n",
    "val_dataset = ChestXRayDataset(val_data, IMAGE_DIR_TRAIN, img_size=IMG_SIZE, \n",
    "                               is_test=False, label_cols=label_columns, transform=val_transform)\n",
    "\n",
    "\n",
    "train_loader = DataLoader(train_dataset, batch_size=BATCH_SIZE, shuffle=True, num_workers=3, pin_memory=True)\n",
    "val_loader   = DataLoader(val_dataset, batch_size=BATCH_SIZE, shuffle=False, num_workers=3, pin_memory=True)"
   ]
  },
  {
   "cell_type": "code",
   "execution_count": 14,
   "id": "4767c999-1199-4f97-8fd4-43887ac0dc7f",
   "metadata": {
    "execution": {
     "iopub.execute_input": "2025-10-04T19:23:13.082901Z",
     "iopub.status.busy": "2025-10-04T19:23:13.082715Z",
     "iopub.status.idle": "2025-10-04T19:23:13.090739Z",
     "shell.execute_reply": "2025-10-04T19:23:13.090002Z",
     "shell.execute_reply.started": "2025-10-04T19:23:13.082887Z"
    }
   },
   "outputs": [],
   "source": [
    "def save_results_csv(model_name, history, num_epochs, lr, filepath=\"results_without_metadata_efficientnet2.csv\"):\n",
    "    row = {\n",
    "        \"Model\": model_name,\n",
    "        \"AUC\": max(history['val']['auc']),\n",
    "        \"F1\": max(history['val']['f1']),\n",
    "        \"epoch\": num_epochs,\n",
    "        \"learning rate\": lr\n",
    "    }\n",
    "\n",
    "    if os.path.exists(filepath):\n",
    "        df = pd.read_csv(filepath)\n",
    "        df = pd.concat([df, pd.DataFrame([row])], ignore_index=True)\n",
    "    else:\n",
    "        df = pd.DataFrame([row])\n",
    "\n",
    "    df.to_csv(filepath, index=False)"
   ]
  },
  {
   "cell_type": "code",
   "execution_count": null,
   "id": "e1826085-a1eb-46cd-b7e4-d5a004862110",
   "metadata": {
    "execution": {
     "iopub.execute_input": "2025-10-04T19:23:13.091825Z",
     "iopub.status.busy": "2025-10-04T19:23:13.091590Z",
     "iopub.status.idle": "2025-10-04T19:23:13.108641Z",
     "shell.execute_reply": "2025-10-04T19:23:13.108072Z",
     "shell.execute_reply.started": "2025-10-04T19:23:13.091804Z"
    }
   },
   "outputs": [],
   "source": [
    "def training_and_validation(model_name, model, optimizer, criterion, num_epochs=NUM_EPOCHS, lr=LR):\n",
    "\n",
    "    print(f'Model_name: {model_name}')\n",
    "\n",
    "    metric_calculator = MetricCalculator()\n",
    "    \n",
    "    # initialize history\n",
    "    history = {\n",
    "        'train': {'loss': [], 'auc': [], 'f1': [], 'precision': [], 'recall': []},\n",
    "        'val': {'loss': [], 'auc': [], 'f1': [], 'precision': [], 'recall': []}\n",
    "    }\n",
    "    best_val_auc = 0\n",
    "\n",
    "    # train\n",
    "    for epoch in range(num_epochs):\n",
    "        model.train()\n",
    "        running_loss = 0.0\n",
    "    \n",
    "        train_labels = []\n",
    "        train_preds = []\n",
    "    \n",
    "        pbar = tqdm(train_loader, desc=f\"Epoch {epoch+1}/{num_epochs} - train\")\n",
    "        for imgs, labels in pbar:\n",
    "            imgs = imgs.to(DEVICE, dtype=torch.float)\n",
    "            labels = labels.to(DEVICE, dtype=torch.float)\n",
    "    \n",
    "            optimizer.zero_grad()\n",
    "            logits = model(imgs)\n",
    "            loss = criterion(logits, labels)\n",
    "            loss.backward()\n",
    "            optimizer.step()\n",
    "    \n",
    "            running_loss += loss.item() * BATCH_SIZE\n",
    "    \n",
    "            # collect predictions\n",
    "            probs = torch.sigmoid(logits).detach().cpu().numpy()\n",
    "            train_preds.append(probs)\n",
    "            train_labels.append(labels.cpu().numpy())\n",
    "            # mean loss\n",
    "            pbar.set_postfix({'Loss': f\"{running_loss / ((pbar.n+1)*BATCH_SIZE):.2f}\"})\n",
    "\n",
    "        train_preds = np.vstack(train_preds)\n",
    "        train_labels = np.vstack(train_labels)\n",
    "    \n",
    "        train_epoch_loss = running_loss / len(train_dataset)\n",
    "        train_metrics = metric_calculator.compute_all_metrics(train_labels, train_preds)\n",
    "        \n",
    "        history['train']['loss'].append(train_epoch_loss)\n",
    "        history['train']['auc'].append(train_metrics['auc'][0])\n",
    "        history['train']['f1'].append(train_metrics['f1'][0])\n",
    "        history['train']['precision'].append(train_metrics['precision'][0])\n",
    "        history['train']['recall'].append(train_metrics['recall'][0])\n",
    "    \n",
    "        print(f\"Epoch {epoch+1} train loss: {train_epoch_loss:.2f}\")\n",
    "        if ((epoch+1)%5 == 0):\n",
    "            metric_calculator.print_detailed_metrics(train_metrics, phase=\"Train\")\n",
    "    \n",
    "        # validation\n",
    "        model.eval()\n",
    "\n",
    "        val_logits_all = []\n",
    "        val_probs_all = []\n",
    "        val_labels_all = []\n",
    "        \n",
    "        with torch.no_grad():\n",
    "            for imgs, labels in tqdm(val_loader, desc=\"Validation\"):\n",
    "                imgs = imgs.to(DEVICE, dtype=torch.float)\n",
    "                labels = labels.to(DEVICE, dtype=torch.float)\n",
    "        \n",
    "                logits = model(imgs)\n",
    "                probs = torch.sigmoid(logits)\n",
    "        \n",
    "                val_logits_all.append(logits.detach())\n",
    "                val_probs_all.append(probs.detach().cpu().numpy())\n",
    "                val_labels_all.append(labels.detach())\n",
    "        \n",
    "        # concatenate\n",
    "        val_logits = torch.cat(val_logits_all).to(DEVICE)       # [N, C]\n",
    "        val_labels = torch.cat(val_labels_all).to(DEVICE)       # [N, C]\n",
    "        val_preds  = np.vstack(val_probs_all)                   # для метрик\n",
    "\n",
    "        val_epoch_loss = criterion(val_logits, val_labels).item()\n",
    "\n",
    "        metric_calculator.find_best_thresholds(val_labels.cpu().numpy(), val_preds)\n",
    "        val_metrics = metric_calculator.compute_all_metrics(val_labels.cpu().numpy(), val_preds)\n",
    "\n",
    "        history['val']['loss'].append(val_epoch_loss)\n",
    "        history['val']['auc'].append(val_metrics['auc'][0])\n",
    "        history['val']['f1'].append(val_metrics['f1'][0])\n",
    "        history['val']['precision'].append(val_metrics['precision'][0])\n",
    "        history['val']['recall'].append(val_metrics['recall'][0])\n",
    "        \n",
    "        print(f\"Epoch {epoch+1} validation loss: {val_epoch_loss:.2f}\")\n",
    "        #if ((epoch+1)%5 == 0):\n",
    "        metric_calculator.print_detailed_metrics(val_metrics, phase=\"Validation\")\n",
    "\n",
    "    best_val_auc = max(history['val']['auc'])\n",
    "    print(f\"The best validation AUC: {best_val_auc}\")\n",
    "\n",
    "    # plot curves\n",
    "    plot_learning_curves(model_name, history, num_epochs)\n",
    "    bar_aucs(val_metrics['auc'][1])\n",
    "    # save results\n",
    "    save_results_csv(model_name, history, num_epochs, lr)"
   ]
  },
  {
   "cell_type": "code",
   "execution_count": null,
   "id": "6d1311f8-55ac-4157-8149-67a975d7cb7d",
   "metadata": {
    "execution": {
     "iopub.execute_input": "2025-10-04T19:23:13.109581Z",
     "iopub.status.busy": "2025-10-04T19:23:13.109310Z",
     "iopub.status.idle": "2025-10-04T22:23:07.959532Z",
     "shell.execute_reply": "2025-10-04T22:23:07.958683Z",
     "shell.execute_reply.started": "2025-10-04T19:23:13.109558Z"
    }
   },
   "outputs": [
    {
     "name": "stderr",
     "output_type": "stream",
     "text": [
      "Downloading: \"https://download.pytorch.org/models/efficientnet_v2_m-dc08266a.pth\" to /root/.cache/torch/hub/checkpoints/efficientnet_v2_m-dc08266a.pth\n",
      "100%|██████████| 208M/208M [00:01<00:00, 202MB/s]  \n"
     ]
    },
    {
     "name": "stdout",
     "output_type": "stream",
     "text": [
      "Model_name: efficientnet_v2_m\n"
     ]
    },
    {
     "name": "stderr",
     "output_type": "stream",
     "text": [
      "Epoch 1/10 - train: 100%|██████████| 2170/2170 [16:52<00:00,  2.14it/s, Loss=0.77]\n"
     ]
    },
    {
     "name": "stdout",
     "output_type": "stream",
     "text": [
      "Epoch 1 train loss: 0.77\n"
     ]
    },
    {
     "name": "stderr",
     "output_type": "stream",
     "text": [
      "Validation: 100%|██████████| 543/543 [01:16<00:00,  7.13it/s]\n"
     ]
    },
    {
     "name": "stdout",
     "output_type": "stream",
     "text": [
      "Epoch 1 validation loss: 0.70\n",
      "\n",
      "Validation metrics\n",
      "AUC: 0.862\n",
      "F1: 0.629\n",
      "Precision: 0.579\n",
      "Recall: 0.702\n",
      "Optimal thresholds per class: [0.74289632 0.64232486 0.76882225 0.73854077 0.61460435 0.69635713\n",
      " 0.54519129 0.59676701 0.6295082  0.6390599  0.81857127 0.74584752\n",
      " 0.83535624 0.63011646]\n",
      "\n",
      "Problematic classes:\n",
      "  Fracture: AUC=0.874, F1=0.515\n",
      "  Lung Lesion: AUC=0.720, F1=0.325\n",
      "  No Finding: AUC=0.855, F1=0.682\n",
      "  Pleural Effusion: AUC=0.857, F1=0.690\n",
      "  Pleural Other: AUC=0.791, F1=0.343\n",
      "  Pneumonia: AUC=0.834, F1=0.487\n",
      "  Pneumothorax: AUC=0.813, F1=0.392\n"
     ]
    },
    {
     "name": "stderr",
     "output_type": "stream",
     "text": [
      "Epoch 2/10 - train: 100%|██████████| 2170/2170 [16:49<00:00,  2.15it/s, Loss=0.67]\n"
     ]
    },
    {
     "name": "stdout",
     "output_type": "stream",
     "text": [
      "Epoch 2 train loss: 0.67\n"
     ]
    },
    {
     "name": "stderr",
     "output_type": "stream",
     "text": [
      "Validation: 100%|██████████| 543/543 [01:14<00:00,  7.30it/s]\n"
     ]
    },
    {
     "name": "stdout",
     "output_type": "stream",
     "text": [
      "Epoch 2 validation loss: 0.62\n",
      "\n",
      "Validation metrics\n",
      "AUC: 0.887\n",
      "F1: 0.671\n",
      "Precision: 0.636\n",
      "Recall: 0.714\n",
      "Optimal thresholds per class: [0.53583986 0.59806842 0.60513991 0.62806064 0.59710598 0.62080097\n",
      " 0.64236051 0.38247567 0.56258368 0.48589614 0.7738117  0.72807449\n",
      " 0.68508631 0.57745093]\n",
      "\n",
      "Problematic classes:\n",
      "  Fracture: AUC=0.901, F1=0.588\n",
      "  Lung Lesion: AUC=0.783, F1=0.414\n",
      "  Pleural Other: AUC=0.822, F1=0.391\n",
      "  Pneumonia: AUC=0.855, F1=0.535\n",
      "  Pneumothorax: AUC=0.846, F1=0.462\n"
     ]
    },
    {
     "name": "stderr",
     "output_type": "stream",
     "text": [
      "Epoch 3/10 - train: 100%|██████████| 2170/2170 [16:48<00:00,  2.15it/s, Loss=0.62]\n"
     ]
    },
    {
     "name": "stdout",
     "output_type": "stream",
     "text": [
      "Epoch 3 train loss: 0.62\n"
     ]
    },
    {
     "name": "stderr",
     "output_type": "stream",
     "text": [
      "Validation: 100%|██████████| 543/543 [01:08<00:00,  7.96it/s]\n"
     ]
    },
    {
     "name": "stdout",
     "output_type": "stream",
     "text": [
      "Epoch 3 validation loss: 0.63\n",
      "\n",
      "Validation metrics\n",
      "AUC: 0.890\n",
      "F1: 0.678\n",
      "Precision: 0.656\n",
      "Recall: 0.706\n",
      "Optimal thresholds per class: [0.55500841 0.51348621 0.65972871 0.55071563 0.58513975 0.76161873\n",
      " 0.68874025 0.48236322 0.62822151 0.68689382 0.92049801 0.81977141\n",
      " 0.86330831 0.66087514]\n",
      "\n",
      "Problematic classes:\n",
      "  Fracture: AUC=0.906, F1=0.600\n",
      "  Lung Lesion: AUC=0.776, F1=0.439\n",
      "  Pleural Other: AUC=0.829, F1=0.398\n",
      "  Pneumonia: AUC=0.861, F1=0.555\n",
      "  Pneumothorax: AUC=0.860, F1=0.498\n"
     ]
    },
    {
     "name": "stderr",
     "output_type": "stream",
     "text": [
      "Epoch 4/10 - train: 100%|██████████| 2170/2170 [16:48<00:00,  2.15it/s, Loss=0.58]\n"
     ]
    },
    {
     "name": "stdout",
     "output_type": "stream",
     "text": [
      "Epoch 4 train loss: 0.58\n"
     ]
    },
    {
     "name": "stderr",
     "output_type": "stream",
     "text": [
      "Validation: 100%|██████████| 543/543 [01:07<00:00,  8.02it/s]\n"
     ]
    },
    {
     "name": "stdout",
     "output_type": "stream",
     "text": [
      "Epoch 4 validation loss: 0.61\n",
      "\n",
      "Validation metrics\n",
      "AUC: 0.900\n",
      "F1: 0.693\n",
      "Precision: 0.662\n",
      "Recall: 0.730\n",
      "Optimal thresholds per class: [0.65243107 0.70545721 0.6470713  0.73511738 0.59124452 0.57211727\n",
      " 0.57607514 0.35399002 0.65219277 0.56480932 0.74206257 0.67542171\n",
      " 0.59031975 0.51417023]\n",
      "\n",
      "Problematic classes:\n",
      "  Fracture: AUC=0.918, F1=0.634\n",
      "  Lung Lesion: AUC=0.808, F1=0.469\n",
      "  Pleural Other: AUC=0.853, F1=0.423\n",
      "  Pneumonia: AUC=0.876, F1=0.575\n",
      "  Pneumothorax: AUC=0.860, F1=0.488\n"
     ]
    },
    {
     "name": "stderr",
     "output_type": "stream",
     "text": [
      "Epoch 5/10 - train: 100%|██████████| 2170/2170 [16:48<00:00,  2.15it/s, Loss=0.54]\n"
     ]
    },
    {
     "name": "stdout",
     "output_type": "stream",
     "text": [
      "Epoch 5 train loss: 0.54\n",
      "\n",
      "Train metrics\n",
      "AUC: 0.917\n",
      "F1: 0.698\n",
      "Precision: 0.656\n",
      "Recall: 0.774\n",
      "Optimal thresholds per class: [0.65243107 0.70545721 0.6470713  0.73511738 0.59124452 0.57211727\n",
      " 0.57607514 0.35399002 0.65219277 0.56480932 0.74206257 0.67542171\n",
      " 0.59031975 0.51417023]\n",
      "\n",
      "Problematic classes:\n",
      "  Fracture: AUC=0.928, F1=0.621\n",
      "  Lung Lesion: AUC=0.837, F1=0.463\n",
      "  Pleural Other: AUC=0.907, F1=0.487\n",
      "  Pneumonia: AUC=0.895, F1=0.602\n",
      "  Pneumothorax: AUC=0.911, F1=0.480\n"
     ]
    },
    {
     "name": "stderr",
     "output_type": "stream",
     "text": [
      "Validation: 100%|██████████| 543/543 [01:06<00:00,  8.18it/s]\n"
     ]
    },
    {
     "name": "stdout",
     "output_type": "stream",
     "text": [
      "Epoch 5 validation loss: 0.60\n",
      "\n",
      "Validation metrics\n",
      "AUC: 0.903\n",
      "F1: 0.694\n",
      "Precision: 0.660\n",
      "Recall: 0.733\n",
      "Optimal thresholds per class: [0.52593768 0.45683402 0.53887665 0.54114062 0.36194071 0.75363749\n",
      " 0.76065052 0.42836344 0.55973601 0.50805682 0.85973078 0.79425675\n",
      " 0.75441694 0.57873636]\n",
      "\n",
      "Problematic classes:\n",
      "  Fracture: AUC=0.915, F1=0.620\n",
      "  Lung Lesion: AUC=0.821, F1=0.494\n",
      "  Pleural Other: AUC=0.854, F1=0.418\n",
      "  Pneumonia: AUC=0.879, F1=0.568\n",
      "  Pneumothorax: AUC=0.869, F1=0.488\n"
     ]
    },
    {
     "name": "stderr",
     "output_type": "stream",
     "text": [
      "Epoch 6/10 - train: 100%|██████████| 2170/2170 [16:48<00:00,  2.15it/s, Loss=0.50]\n"
     ]
    },
    {
     "name": "stdout",
     "output_type": "stream",
     "text": [
      "Epoch 6 train loss: 0.50\n"
     ]
    },
    {
     "name": "stderr",
     "output_type": "stream",
     "text": [
      "Validation: 100%|██████████| 543/543 [01:06<00:00,  8.19it/s]\n"
     ]
    },
    {
     "name": "stdout",
     "output_type": "stream",
     "text": [
      "Epoch 6 validation loss: 0.63\n",
      "\n",
      "Validation metrics\n",
      "AUC: 0.903\n",
      "F1: 0.698\n",
      "Precision: 0.673\n",
      "Recall: 0.732\n",
      "Optimal thresholds per class: [0.63612217 0.5466966  0.59398162 0.58143824 0.5780437  0.66627908\n",
      " 0.6983673  0.37934312 0.56975627 0.64959979 0.67498493 0.745574\n",
      " 0.82666928 0.76968485]\n",
      "\n",
      "Problematic classes:\n",
      "  Fracture: AUC=0.915, F1=0.627\n",
      "  Lung Lesion: AUC=0.829, F1=0.506\n",
      "  Pleural Other: AUC=0.847, F1=0.415\n",
      "  Pneumonia: AUC=0.876, F1=0.588\n",
      "  Pneumothorax: AUC=0.867, F1=0.503\n"
     ]
    },
    {
     "name": "stderr",
     "output_type": "stream",
     "text": [
      "Epoch 7/10 - train: 100%|██████████| 2170/2170 [16:48<00:00,  2.15it/s, Loss=0.46]\n"
     ]
    },
    {
     "name": "stdout",
     "output_type": "stream",
     "text": [
      "Epoch 7 train loss: 0.46\n"
     ]
    },
    {
     "name": "stderr",
     "output_type": "stream",
     "text": [
      "Validation: 100%|██████████| 543/543 [01:06<00:00,  8.18it/s]\n"
     ]
    },
    {
     "name": "stdout",
     "output_type": "stream",
     "text": [
      "Epoch 7 validation loss: 0.66\n",
      "\n",
      "Validation metrics\n",
      "AUC: 0.901\n",
      "F1: 0.695\n",
      "Precision: 0.666\n",
      "Recall: 0.733\n",
      "Optimal thresholds per class: [0.75278586 0.5273844  0.67375046 0.42326739 0.46618211 0.76668876\n",
      " 0.68425661 0.45366815 0.5019542  0.69713598 0.95277584 0.79085428\n",
      " 0.76394594 0.34099483]\n",
      "\n",
      "Problematic classes:\n",
      "  Fracture: AUC=0.919, F1=0.617\n",
      "  Lung Lesion: AUC=0.814, F1=0.491\n",
      "  Pleural Other: AUC=0.842, F1=0.421\n",
      "  Pneumonia: AUC=0.870, F1=0.569\n",
      "  Pneumothorax: AUC=0.879, F1=0.521\n"
     ]
    },
    {
     "name": "stderr",
     "output_type": "stream",
     "text": [
      "Validation: 100%|██████████| 543/543 [01:06<00:00,  8.11it/s] 2.15it/s, Loss=0.42]\n"
     ]
    },
    {
     "name": "stdout",
     "output_type": "stream",
     "text": [
      "Epoch 8 validation loss: 0.74\n",
      "\n",
      "Validation metrics\n",
      "AUC: 0.899\n",
      "F1: 0.691\n",
      "Precision: 0.658\n",
      "Recall: 0.736\n",
      "Optimal thresholds per class: [0.49520257 0.49609315 0.61117929 0.77444011 0.53685194 0.50668913\n",
      " 0.81702179 0.46412027 0.53577858 0.57185936 0.59340328 0.51703221\n",
      " 0.6657539  0.69362181]\n",
      "\n",
      "Problematic classes:\n",
      "  Fracture: AUC=0.912, F1=0.624\n",
      "  Lung Lesion: AUC=0.826, F1=0.501\n",
      "  Pleural Other: AUC=0.856, F1=0.435\n",
      "  Pneumonia: AUC=0.863, F1=0.544\n",
      "  Pneumothorax: AUC=0.848, F1=0.468\n"
     ]
    },
    {
     "name": "stderr",
     "output_type": "stream",
     "text": [
      "Epoch 9/10 - train: 100%|██████████| 2170/2170 [16:48<00:00,  2.15it/s, Loss=0.38]\n"
     ]
    },
    {
     "name": "stdout",
     "output_type": "stream",
     "text": [
      "Epoch 9 train loss: 0.38\n"
     ]
    },
    {
     "name": "stderr",
     "output_type": "stream",
     "text": [
      "Validation: 100%|██████████| 543/543 [01:17<00:00,  6.96it/s]\n"
     ]
    },
    {
     "name": "stdout",
     "output_type": "stream",
     "text": [
      "Epoch 9 validation loss: 0.73\n",
      "\n",
      "Validation metrics\n",
      "AUC: 0.897\n",
      "F1: 0.684\n",
      "Precision: 0.644\n",
      "Recall: 0.732\n",
      "Optimal thresholds per class: [0.51903868 0.50485963 0.5776512  0.54047853 0.43221578 0.56174433\n",
      " 0.7517159  0.37367499 0.51851737 0.34968036 0.69014806 0.75707996\n",
      " 0.85710275 0.54898131]\n",
      "\n",
      "Problematic classes:\n",
      "  Fracture: AUC=0.912, F1=0.620\n",
      "  Lung Lesion: AUC=0.812, F1=0.469\n",
      "  Pleural Other: AUC=0.839, F1=0.389\n",
      "  Pneumonia: AUC=0.864, F1=0.546\n",
      "  Pneumothorax: AUC=0.859, F1=0.479\n"
     ]
    },
    {
     "name": "stderr",
     "output_type": "stream",
     "text": [
      "Epoch 10/10 - train: 100%|██████████| 2170/2170 [16:48<00:00,  2.15it/s, Loss=0.35]\n"
     ]
    },
    {
     "name": "stdout",
     "output_type": "stream",
     "text": [
      "Epoch 10 train loss: 0.35\n",
      "\n",
      "Train metrics\n",
      "AUC: 0.962\n",
      "F1: 0.805\n",
      "Precision: 0.748\n",
      "Recall: 0.878\n",
      "Optimal thresholds per class: [0.51903868 0.50485963 0.5776512  0.54047853 0.43221578 0.56174433\n",
      " 0.7517159  0.37367499 0.51851737 0.34968036 0.69014806 0.75707996\n",
      " 0.85710275 0.54898131]\n",
      "\n",
      "Problematic classes:\n",
      "  Pleural Other: AUC=0.979, F1=0.690\n"
     ]
    },
    {
     "name": "stderr",
     "output_type": "stream",
     "text": [
      "Validation: 100%|██████████| 543/543 [01:06<00:00,  8.20it/s]\n"
     ]
    },
    {
     "name": "stdout",
     "output_type": "stream",
     "text": [
      "Epoch 10 validation loss: 0.78\n",
      "\n",
      "Validation metrics\n",
      "AUC: 0.898\n",
      "F1: 0.687\n",
      "Precision: 0.662\n",
      "Recall: 0.721\n",
      "Optimal thresholds per class: [0.48129389 0.52997547 0.65930253 0.69541401 0.56115657 0.81813115\n",
      " 0.85870022 0.49649054 0.50393558 0.43825531 0.65140474 0.85658288\n",
      " 0.84414083 0.62333858]\n",
      "\n",
      "Problematic classes:\n",
      "  Fracture: AUC=0.917, F1=0.629\n",
      "  Lung Lesion: AUC=0.817, F1=0.486\n",
      "  Pleural Other: AUC=0.845, F1=0.394\n",
      "  Pneumonia: AUC=0.864, F1=0.551\n",
      "  Pneumothorax: AUC=0.846, F1=0.467\n",
      "The best validation AUC: 0.903116619264794\n"
     ]
    },
    {
     "data": {
      "image/png": "[encoded data removed]",
      "text/plain": [
       "<Figure size 1500x400 with 3 Axes>"
      ]
     },
     "metadata": {},
     "output_type": "display_data"
    },
    {
     "data": {
      "image/png": "[encoded data removed]",
      "text/plain": [
       "<Figure size 3000x400 with 1 Axes>"
      ]
     },
     "metadata": {},
     "output_type": "display_data"
    }
   ],
   "source": [
    "model_name = 'efficientnet_v2_m'\n",
    "\n",
    "backbone = models.efficientnet_v2_m(weights=\"IMAGENET1K_V1\")\n",
    "# take the original first conv\n",
    "orig_conv = backbone.features[0][0]\n",
    "\n",
    "# create a new conv with 1 input channel and the same number of output channels\n",
    "backbone.features[0][0] = nn.Conv2d(\n",
    "    1,\n",
    "    orig_conv.out_channels,\n",
    "    kernel_size=orig_conv.kernel_size,\n",
    "    stride=orig_conv.stride,\n",
    "    padding=orig_conv.padding,\n",
    "    bias=False\n",
    ")\n",
    "feature_dim = backbone.classifier[1].in_features\n",
    "backbone.classifier = nn.Identity()\n",
    "\n",
    "model = CNNClassifier(backbone, feature_dim=feature_dim, num_classes=NUM_CLASSES)\n",
    "model.to(DEVICE)\n",
    "\n",
    "first_layer_params = list(model.backbone.features[0][0].parameters())\n",
    "other_backbone_params = [p for n, p in model.backbone.named_parameters() \n",
    "                         if \"features.0.0\" not in n]\n",
    "fc_params = model.fc.parameters()\n",
    "\n",
    "# optimizer with different LR\n",
    "optimizer = torch.optim.Adam([\n",
    "    {'params': first_layer_params, 'lr': 1e-3},\n",
    "    {'params': other_backbone_params, 'lr': LR},\n",
    "    {'params': fc_params, 'lr': 1e-3}\n",
    "])\n",
    "\n",
    "criterion = nn.BCEWithLogitsLoss(pos_weight=pos_weight)\n",
    "training_and_validation(model_name, model, optimizer, criterion)"
   ]
  },
  {
   "cell_type": "code",
   "execution_count": 21,
   "id": "46ddd119-e8b0-4302-9305-ed61dd8be346",
   "metadata": {
    "execution": {
     "iopub.execute_input": "2025-10-04T22:56:33.560265Z",
     "iopub.status.busy": "2025-10-04T22:56:33.559918Z",
     "iopub.status.idle": "2025-10-04T22:56:34.287298Z",
     "shell.execute_reply": "2025-10-04T22:56:34.286474Z",
     "shell.execute_reply.started": "2025-10-04T22:56:33.560241Z"
    }
   },
   "outputs": [],
   "source": [
    "torch.save(model, f\"{model_name}_full.pth\")"
   ]
  }
 ],
 "metadata": {
  "kaggle": {
   "accelerator": "gpu",
   "dataSources": [
    {
     "databundleVersionId": 13471427,
     "sourceId": 113002,
     "sourceType": "competition"
    }
   ],
   "dockerImageVersionId": 31090,
   "isGpuEnabled": true,
   "isInternetEnabled": true,
   "language": "python",
   "sourceType": "notebook"
  },
  "kernelspec": {
   "display_name": "Python 3 (ipykernel)",
   "language": "python",
   "name": "python3"
  },
  "language_info": {
   "codemirror_mode": {
    "name": "ipython",
    "version": 3
   },
   "file_extension": ".py",
   "mimetype": "text/x-python",
   "name": "python",
   "nbconvert_exporter": "python",
   "pygments_lexer": "ipython3",
   "version": "3.13.5"
  }
 },
 "nbformat": 4,
 "nbformat_minor": 5
}
