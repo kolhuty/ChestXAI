{
 "cells": [
  {
   "cell_type": "code",
   "execution_count": 1,
   "metadata": {
    "_kg_hide-output": true,
    "execution": {
     "iopub.execute_input": "2025-10-01T15:08:30.684311Z",
     "iopub.status.busy": "2025-10-01T15:08:30.684155Z",
     "iopub.status.idle": "2025-10-01T15:08:30.689028Z",
     "shell.execute_reply": "2025-10-01T15:08:30.687980Z",
     "shell.execute_reply.started": "2025-10-01T15:08:30.684295Z"
    },
    "trusted": true
   },
   "outputs": [],
   "source": [
    "#pip install torch torchvision numpy pandas opencv-python scikit-learn"
   ]
  },
  {
   "cell_type": "code",
   "execution_count": null,
   "metadata": {
    "execution": {
     "iopub.execute_input": "2025-10-01T15:08:30.689927Z",
     "iopub.status.busy": "2025-10-01T15:08:30.689714Z",
     "iopub.status.idle": "2025-10-01T15:08:39.463266Z",
     "shell.execute_reply": "2025-10-01T15:08:39.462699Z",
     "shell.execute_reply.started": "2025-10-01T15:08:30.689912Z"
    },
    "trusted": true
   },
   "outputs": [],
   "source": [
    "import os\n",
    "import cv2\n",
    "import math\n",
    "import numpy as np\n",
    "import pandas as pd\n",
    "import matplotlib.pyplot as plt\n",
    "from tqdm.notebook import tqdm\n",
    "from PIL import Image\n",
    "\n",
    "import torch\n",
    "import torch.nn as nn\n",
    "import torch.nn.functional as F\n",
    "from torch.utils.data import Dataset, DataLoader\n",
    "import torchvision.models as models\n",
    "from torchvision import transforms\n",
    "\n",
    "from sklearn.metrics import roc_auc_score\n",
    "from sklearn.model_selection import train_test_split"
   ]
  },
  {
   "cell_type": "markdown",
   "metadata": {},
   "source": [
    "### Setting and parameters"
   ]
  },
  {
   "cell_type": "code",
   "execution_count": null,
   "metadata": {
    "execution": {
     "iopub.execute_input": "2025-10-01T15:08:39.465092Z",
     "iopub.status.busy": "2025-10-01T15:08:39.464794Z",
     "iopub.status.idle": "2025-10-01T15:08:39.529032Z",
     "shell.execute_reply": "2025-10-01T15:08:39.528136Z",
     "shell.execute_reply.started": "2025-10-01T15:08:39.465075Z"
    },
    "trusted": true
   },
   "outputs": [],
   "source": [
    "IMG_SIZE = (224, 224)\n",
    "BATCH_SIZE = 16\n",
    "NUM_CLASSES = 14\n",
    "NUM_EPOCHS = 20\n",
    "LR = 1e-5\n",
    "DEVICE = torch.device(\"cuda\" if torch.cuda.is_available() else \"cpu\")\n",
    "IMAGE_DIR_TRAIN = '/kaggle/input/grand-xray-slam-division-b/train2/'"
   ]
  },
  {
   "cell_type": "markdown",
   "metadata": {},
   "source": [
    "### Load train data"
   ]
  },
  {
   "cell_type": "code",
   "execution_count": null,
   "metadata": {
    "execution": {
     "iopub.execute_input": "2025-10-01T15:08:39.530308Z",
     "iopub.status.busy": "2025-10-01T15:08:39.530018Z",
     "iopub.status.idle": "2025-10-01T15:08:39.843748Z",
     "shell.execute_reply": "2025-10-01T15:08:39.843144Z",
     "shell.execute_reply.started": "2025-10-01T15:08:39.530280Z"
    },
    "trusted": true
   },
   "outputs": [
    {
     "name": "stdout",
     "output_type": "stream",
     "text": [
      "Loaded train1.csv with 108494 rows\n",
      "Train samples: 4340, Validation samples: 1085\n"
     ]
    }
   ],
   "source": [
    "try:\n",
    "    train_df = pd.read_csv('/kaggle/input/grand-xray-slam-division-b/train2.csv')\n",
    "    print(f\"Loaded train2.csv with {len(train_df)} rows\")\n",
    "except FileNotFoundError:\n",
    "    print(\"Error: train2.csv not found. Ensure dataset is attached.\")\n",
    "    raise\n",
    "\n",
    "label_columns = [\n",
    "    'Atelectasis', 'Cardiomegaly', 'Consolidation', 'Edema', 'Enlarged Cardiomediastinum',\n",
    "    'Fracture', 'Lung Lesion', 'Lung Opacity', 'No Finding', 'Pleural Effusion',\n",
    "    'Pleural Other', 'Pneumonia', 'Pneumothorax', 'Support Devices'\n",
    "]\n",
    "\n",
    "missing_cols = [col for col in label_columns if col not in train_df.columns]\n",
    "if missing_cols:\n",
    "    raise KeyError(f\"Missing columns: {missing_cols}\")\n",
    "\n",
    "subset_frac = 0.05\n",
    "df_small = train_df.sample(frac=subset_frac, random_state=42)\n",
    "\n",
    "# split into train and validation (80/20)\n",
    "train_data, val_data = train_test_split(\n",
    "    df_small, test_size=0.2, random_state=42, stratify=df_small['No Finding']\n",
    ")\n",
    "print(f\"Train samples: {len(train_data)}, Validation samples: {len(val_data)}\")"
   ]
  },
  {
   "cell_type": "markdown",
   "metadata": {},
   "source": [
    "### Augmentations"
   ]
  },
  {
   "cell_type": "code",
   "execution_count": null,
   "metadata": {
    "execution": {
     "iopub.execute_input": "2025-10-01T15:08:39.885559Z",
     "iopub.status.busy": "2025-10-01T15:08:39.885387Z",
     "iopub.status.idle": "2025-10-01T15:08:39.890356Z",
     "shell.execute_reply": "2025-10-01T15:08:39.889773Z",
     "shell.execute_reply.started": "2025-10-01T15:08:39.885545Z"
    },
    "trusted": true
   },
   "outputs": [],
   "source": [
    "import albumentations as A\n",
    "from albumentations.pytorch import ToTensorV2\n",
    "\n",
    "train_transform = A.Compose([\n",
    "    A.LongestMaxSize(max_size=IMG_SIZE[0]),   \n",
    "    A.PadIfNeeded(min_height=IMG_SIZE[0], min_width=IMG_SIZE[1], border_mode=0),  \n",
    "    \n",
    "    A.HorizontalFlip(p=0.5),\n",
    "    A.ShiftScaleRotate(\n",
    "        shift_limit=0.02, scale_limit=0.05, rotate_limit=5, \n",
    "        border_mode=0, p=0.3\n",
    "    ),\n",
    "    A.RandomBrightnessContrast(\n",
    "        brightness_limit=0.05, contrast_limit=0.05, p=0.3\n",
    "    ),\n",
    "    A.CLAHE(clip_limit=2.0, tile_grid_size=(8,8), p=0.2),\n",
    "    \n",
    "    A.Normalize(mean=(0.5,), std=(0.5,)),  \n",
    "    ToTensorV2()\n",
    "])\n",
    "\n",
    "val_transform = A.Compose([\n",
    "    A.LongestMaxSize(max_size=IMG_SIZE[0]),\n",
    "    A.PadIfNeeded(min_height=IMG_SIZE[0], min_width=IMG_SIZE[1], border_mode=0),\n",
    "    A.Normalize(mean=(0.5,), std=(0.5,)),\n",
    "    ToTensorV2()\n",
    "])"
   ]
  },
  {
   "cell_type": "markdown",
   "metadata": {},
   "source": [
    "### Processing images"
   ]
  },
  {
   "cell_type": "code",
   "execution_count": null,
   "metadata": {
    "execution": {
     "iopub.execute_input": "2025-10-01T15:08:39.891417Z",
     "iopub.status.busy": "2025-10-01T15:08:39.891022Z",
     "iopub.status.idle": "2025-10-01T15:08:39.906277Z",
     "shell.execute_reply": "2025-10-01T15:08:39.905691Z",
     "shell.execute_reply.started": "2025-10-01T15:08:39.891398Z"
    },
    "trusted": true
   },
   "outputs": [],
   "source": [
    "class ChestXRayDataset(Dataset):\n",
    "    def __init__(self, df: pd.DataFrame, image_dir: str, img_size=IMG_SIZE, \n",
    "                             is_test=False, label_cols=None, transform=None):\n",
    "        self.df = df.reset_index(drop=True)\n",
    "        self.image_dir = image_dir\n",
    "        self.img_size = img_size\n",
    "        self.is_test = is_test\n",
    "        self.label_cols = label_cols\n",
    "        self.transform = transform\n",
    "\n",
    "        if not os.path.exists(self.image_dir):\n",
    "            raise FileNotFoundError(f\"Image directory {self.image_dir} not found.\")\n",
    "\n",
    "    def __len__(self):\n",
    "        return len(self.df)\n",
    "\n",
    "    def __getitem__(self, idx):\n",
    "        row = self.df.iloc[idx]\n",
    "        img_name = row['Image_name']\n",
    "        img_path = os.path.join(self.image_dir, img_name)\n",
    "    \n",
    "        # load grayscale image\n",
    "        img = cv2.imread(img_path, cv2.IMREAD_GRAYSCALE)\n",
    "        if img is None or img.size == 0:\n",
    "            img = np.zeros(self.img_size, dtype=np.uint8)\n",
    "        else:\n",
    "            img = cv2.resize(img, self.img_size)\n",
    "    \n",
    "        # make (H, W, 1) for albumentations\n",
    "        img = np.expand_dims(img, axis=-1)\n",
    "    \n",
    "        # augmentation\n",
    "        if self.transform:\n",
    "            # albumentations expects dict\n",
    "            img = self.transform(image=img)[\"image\"]\n",
    "        else:\n",
    "            # fallback: to tensor\n",
    "            img = transforms.ToTensor()(img)\n",
    "    \n",
    "        if self.is_test:\n",
    "            return img\n",
    "        else:\n",
    "            labels = torch.tensor(row[self.label_cols].values.astype(np.float32))\n",
    "            return img, labels"
   ]
  },
  {
   "cell_type": "markdown",
   "metadata": {},
   "source": [
    "### Wrapper"
   ]
  },
  {
   "cell_type": "code",
   "execution_count": null,
   "metadata": {
    "execution": {
     "iopub.execute_input": "2025-10-01T15:08:39.907162Z",
     "iopub.status.busy": "2025-10-01T15:08:39.906916Z",
     "iopub.status.idle": "2025-10-01T15:08:39.924588Z",
     "shell.execute_reply": "2025-10-01T15:08:39.924025Z",
     "shell.execute_reply.started": "2025-10-01T15:08:39.907143Z"
    },
    "trusted": true
   },
   "outputs": [],
   "source": [
    "class CNNWrapper(nn.Module):\n",
    "    def __init__(self, model_name):\n",
    "        super().__init__()\n",
    "        self.backbone, self.feature_dim = _get_backbone(model_name)\n",
    "        self.fc = nn.Sequential(\n",
    "            nn.Linear(feature_dim, 256),\n",
    "            nn.ReLU(),\n",
    "            nn.Dropout(0.3),\n",
    "            nn.Linear(256, num_classes)\n",
    "        )\n",
    "\n",
    "    def forward(self, x):\n",
    "        features = self.backbone(x)\n",
    "        return self.fc(features)\n",
    "\n",
    "\n",
    "    def _get_backbone(self, model_name, pretrained=True):\n",
    "        if model_name == \"resnet18\":\n",
    "            model = models.resnet18(pretrained=pretrained)\n",
    "            model.conv1 = nn.Conv2d(1, 64, 7, 2, 3, bias=False)\n",
    "            feature_dim = model.fc.in_features\n",
    "            model.fc = nn.Identity()\n",
    "\n",
    "        elif model_name == \"resnext50\":\n",
    "            model = models.resnext50_32x4d(pretrained=pretrained)\n",
    "            model.conv1 = nn.Conv2d(1, 64, 7, 2, 3, bias=False)\n",
    "            feature_dim = model.fc.in_features\n",
    "            model.fc = nn.Identity()\n",
    "\n",
    "        elif model_name == \"efficientnet_b0\":\n",
    "            model = models.efficientnet_b0(pretrained=pretrained)\n",
    "            model.features[0][0] = nn.Conv2d(1, 32, 3, 2, 1, bias=False)\n",
    "            feature_dim = model.classifier[1].in_features\n",
    "            model.classifier = nn.Identity()\n",
    "\n",
    "        elif model_name == \"densenet121\":\n",
    "            model = models.densenet121(pretrained=pretrained)\n",
    "            model.features.conv0 = nn.Conv2d(1, 64, 7, 2, 3, bias=False)\n",
    "            feature_dim = model.classifier.in_features\n",
    "            model.classifier = nn.Identity()\n",
    "\n",
    "        elif model_name == \"simplecnn\":\n",
    "            model = SimpleCNN()\n",
    "            feature_dim = model.fc_out_layer.in_features\n",
    "            model.fc_out = nn.Identity()\n",
    "\n",
    "        else:\n",
    "            raise ValueError(f\"Unknown model: {model_name}\")\n",
    "\n",
    "        return model, feature_dim\n"
   ]
  },
  {
   "cell_type": "markdown",
   "metadata": {},
   "source": [
    "### Baseline CNN model"
   ]
  },
  {
   "cell_type": "code",
   "execution_count": 9,
   "metadata": {
    "execution": {
     "iopub.execute_input": "2025-10-01T15:08:39.927369Z",
     "iopub.status.busy": "2025-10-01T15:08:39.926844Z",
     "iopub.status.idle": "2025-10-01T15:08:39.943367Z",
     "shell.execute_reply": "2025-10-01T15:08:39.942702Z",
     "shell.execute_reply.started": "2025-10-01T15:08:39.927351Z"
    },
    "trusted": true
   },
   "outputs": [],
   "source": [
    "class SimpleCNN(nn.Module):\n",
    "    def __init__(self, num_classes=NUM_CLASSES):\n",
    "        super().__init__()\n",
    "        self.conv1 = nn.Conv2d(1, 32, 3)\n",
    "        self.pool = nn.MaxPool2d(2)\n",
    "        self.conv2 = nn.Conv2d(32, 64, 3)\n",
    "        self.conv3 = nn.Conv2d(64, 128, 3)\n",
    "        self.flattened_size = 128 * 26 * 26\n",
    "        self.fc = nn.Linear(self.flattened_size, 128)\n",
    "        self.dropout = nn.Dropout(0.5)\n",
    "        self.fc_out_layer = nn.Linear(128, num_classes)\n",
    "        self.fc_out = nn.Identity()\n",
    "\n",
    "    def forward(self, x):\n",
    "        x = F.relu(self.conv1(x))\n",
    "        x = self.pool(x)\n",
    "        x = F.relu(self.conv2(x))\n",
    "        x = self.pool(x)\n",
    "        x = F.relu(self.conv3(x))\n",
    "        x = self.pool(x)\n",
    "        x = x.view(x.size(0), -1)\n",
    "        x = F.relu(self.fc(x))\n",
    "        x = self.dropout(x)\n",
    "        return x  # feature vector\n"
   ]
  },
  {
   "cell_type": "markdown",
   "metadata": {},
   "source": [
    "### Metrics"
   ]
  },
  {
   "cell_type": "code",
   "execution_count": null,
   "metadata": {
    "execution": {
     "iopub.execute_input": "2025-10-01T15:08:39.961639Z",
     "iopub.status.busy": "2025-10-01T15:08:39.961418Z",
     "iopub.status.idle": "2025-10-01T15:08:39.977016Z",
     "shell.execute_reply": "2025-10-01T15:08:39.976446Z",
     "shell.execute_reply.started": "2025-10-01T15:08:39.961617Z"
    },
    "trusted": true
   },
   "outputs": [],
   "source": [
    "class MetricCalculator:\n",
    "    def __init__(self, class_names=label_columns):\n",
    "        self.class_names = class_names\n",
    "    \n",
    "    def compute_auc(self, y_true, y_pred):\n",
    "        \"\"\"Вычисляет средний AUC и AUC по каждому классу.\"\"\"\n",
    "        aucs = []\n",
    "        for i in range(y_true.shape[1]):\n",
    "            try:\n",
    "                auc = roc_auc_score(y_true[:, i], y_pred[:, i])\n",
    "            except ValueError:\n",
    "                auc = np.nan  # если для класса нет положительных/отрицательных примеров\n",
    "            aucs.append(auc)\n",
    "        aucs = np.array(aucs, dtype=np.float32)\n",
    "        return np.nanmean(aucs), aucs\n",
    "    \n",
    "    def print_auc(self, auc_mean, auc_per_class, phase=\"Train\"):\n",
    "        print(f\"\\n{phase} AUC: {auc_mean:.4f}\")\n"
   ]
  },
  {
   "cell_type": "markdown",
   "metadata": {},
   "source": [
    "### Plots"
   ]
  },
  {
   "cell_type": "code",
   "execution_count": null,
   "metadata": {
    "execution": {
     "iopub.execute_input": "2025-10-01T15:08:39.977989Z",
     "iopub.status.busy": "2025-10-01T15:08:39.977697Z",
     "iopub.status.idle": "2025-10-01T15:08:39.994060Z",
     "shell.execute_reply": "2025-10-01T15:08:39.993462Z",
     "shell.execute_reply.started": "2025-10-01T15:08:39.977973Z"
    },
    "trusted": true
   },
   "outputs": [],
   "source": [
    "def plot_learning_curves(model_name, history, num_epochs=NUM_EPOCHS):\n",
    "    epochs = np.arange(1, num_epochs+1)\n",
    "    os.makedirs(\"plots\", exist_ok=True)\n",
    "    \n",
    "    plt.figure(figsize=(10,4))\n",
    "    # loss\n",
    "    plt.subplot(1,2,1)\n",
    "    plt.plot(epochs, history['train']['loss'], label='train loss')\n",
    "    plt.plot(epochs, history['val']['loss'], label='val loss')\n",
    "    plt.xlabel('Epoch'); plt.ylabel('Loss'); plt.legend()\n",
    "    plt.title(f'Loss {model_name}')\n",
    "    # auc\n",
    "    plt.subplot(1,2,2)\n",
    "    plt.plot(epochs, history['train']['auc'], label='train AUC')\n",
    "    plt.plot(epochs, history['val']['auc'], label='val AUC')\n",
    "    plt.xlabel('Epoch'); plt.ylabel('AUC'); plt.legend()\n",
    "    plt.title(f'AUC {model_name}')\n",
    "\n",
    "    plt.tight_layout()\n",
    "\n",
    "    save_path = os.path.join(\"plots\", f\"{model_name}_learning_curves_{num_epochs}_epochs.png\")\n",
    "    plt.savefig(save_path, dpi=300, bbox_inches='tight')\n",
    "    plt.close()\n",
    "    print(f\"Saved learning curves to: {save_path}\")"
   ]
  },
  {
   "cell_type": "code",
   "execution_count": null,
   "metadata": {
    "execution": {
     "iopub.execute_input": "2025-10-01T15:08:39.995243Z",
     "iopub.status.busy": "2025-10-01T15:08:39.994814Z",
     "iopub.status.idle": "2025-10-01T15:08:40.009253Z",
     "shell.execute_reply": "2025-10-01T15:08:40.008702Z",
     "shell.execute_reply.started": "2025-10-01T15:08:39.995226Z"
    },
    "trusted": true
   },
   "outputs": [],
   "source": [
    "def bar_aucs(aucs_per_classes, model_name=\"model\"):\n",
    "    os.makedirs(\"plots\", exist_ok=True)\n",
    "\n",
    "    plt.figure(figsize=(30, 4))\n",
    "    plt.bar(label_columns, aucs_per_classes)\n",
    "    plt.xlabel('Class')\n",
    "    plt.ylabel('AUC')\n",
    "    plt.title(f'AUCs by Classes ({model_name})')\n",
    "\n",
    "    save_path = os.path.join(\"plots\", f\"{model_name}_aucs_per_class.png\")\n",
    "    plt.savefig(save_path, dpi=300, bbox_inches='tight')\n",
    "    plt.close()\n",
    "    print(f\"Saved per-class AUC bar chart to: {save_path}\")"
   ]
  },
  {
   "cell_type": "markdown",
   "metadata": {},
   "source": [
    "### Loaders"
   ]
  },
  {
   "cell_type": "code",
   "execution_count": null,
   "metadata": {
    "execution": {
     "iopub.execute_input": "2025-10-01T15:08:40.010069Z",
     "iopub.status.busy": "2025-10-01T15:08:40.009886Z",
     "iopub.status.idle": "2025-10-01T15:08:40.024579Z",
     "shell.execute_reply": "2025-10-01T15:08:40.023839Z",
     "shell.execute_reply.started": "2025-10-01T15:08:40.010055Z"
    },
    "trusted": true
   },
   "outputs": [],
   "source": [
    "train_dataset = ChestXRayDataset(train_data, IMAGE_DIR_TRAIN, img_size=IMG_SIZE, \n",
    "                                 is_test=False, label_cols=label_columns, transform=train_transform)\n",
    "\n",
    "val_dataset = ChestXRayDataset(val_data, IMAGE_DIR_TRAIN, img_size=IMG_SIZE, \n",
    "                               is_test=False, label_cols=label_columns, transform=val_transform)\n",
    "\n",
    "\n",
    "train_loader = DataLoader(train_dataset, batch_size=BATCH_SIZE, shuffle=True, num_workers=3, pin_memory=True)\n",
    "val_loader   = DataLoader(val_dataset, batch_size=BATCH_SIZE, shuffle=False, num_workers=3, pin_memory=True)"
   ]
  },
  {
   "cell_type": "markdown",
   "metadata": {},
   "source": [
    "### Save results"
   ]
  },
  {
   "cell_type": "code",
   "execution_count": null,
   "metadata": {
    "execution": {
     "iopub.execute_input": "2025-10-01T15:08:40.025616Z",
     "iopub.status.busy": "2025-10-01T15:08:40.025386Z",
     "iopub.status.idle": "2025-10-01T15:08:40.037819Z",
     "shell.execute_reply": "2025-10-01T15:08:40.037243Z",
     "shell.execute_reply.started": "2025-10-01T15:08:40.025598Z"
    },
    "trusted": true
   },
   "outputs": [],
   "source": [
    "def save_results_csv(model_name, history, num_epochs, lr, filepath=\"results.csv\"):\n",
    "    row = {\n",
    "        \"Model\": model_name,\n",
    "        \"AUC\": max(history['val']['auc']),\n",
    "        \"epochs\": num_epochs,\n",
    "        \"lr\": lr\n",
    "    }\n",
    "\n",
    "    if os.path.exists(filepath):\n",
    "        df = pd.read_csv(filepath)\n",
    "        df = pd.concat([df, pd.DataFrame([row])], ignore_index=True)\n",
    "    else:\n",
    "        df = pd.DataFrame([row])\n",
    "\n",
    "    df.to_csv(filepath, index=False)"
   ]
  },
  {
   "cell_type": "markdown",
   "metadata": {},
   "source": [
    "### Train loop"
   ]
  },
  {
   "cell_type": "code",
   "execution_count": null,
   "metadata": {
    "execution": {
     "iopub.execute_input": "2025-10-01T15:08:40.038813Z",
     "iopub.status.busy": "2025-10-01T15:08:40.038577Z",
     "iopub.status.idle": "2025-10-01T15:08:40.057274Z",
     "shell.execute_reply": "2025-10-01T15:08:40.056692Z",
     "shell.execute_reply.started": "2025-10-01T15:08:40.038798Z"
    },
    "trusted": true
   },
   "outputs": [],
   "source": [
    "def training_and_validation(model_name, model, optimizer, criterion, num_epochs=NUM_EPOCHS, lr=LR):\n",
    "    print(f'Model_name: {model_name}')\n",
    "    \n",
    "    metric_calculator = MetricCalculator()\n",
    "\n",
    "    # initialize history (только loss и AUC)\n",
    "    history = {\n",
    "        'train': {'loss': [], 'auc': []},\n",
    "        'val': {'loss': [], 'auc': []}\n",
    "    }\n",
    "\n",
    "    best_val_auc = 0.0\n",
    "    best_epoch = 0\n",
    "    best_val_auc_per_class = None  # здесь будем хранить AUC по классам для лучшей модели\n",
    "\n",
    "    for epoch in range(7, num_epochs):\n",
    "         # ---------------------- TRAIN ----------------------\n",
    "        model.train()\n",
    "        running_loss = 0.0\n",
    "        train_labels, train_preds = [], []\n",
    "\n",
    "        pbar = tqdm(train_loader, desc=f\"Epoch {epoch+1}/{num_epochs} - train\", mininterval=20)\n",
    "        for batch_idx, (imgs, labels) in enumerate(pbar):\n",
    "        \n",
    "            imgs = imgs.to(DEVICE, dtype=torch.float)\n",
    "            labels = labels.to(DEVICE, dtype=torch.float)\n",
    "        \n",
    "            optimizer.zero_grad()\n",
    "            logits = model(imgs)\n",
    "            loss = criterion(logits, labels)\n",
    "            loss.backward()\n",
    "            optimizer.step()\n",
    "        \n",
    "            running_loss += loss.item() * imgs.size(0)\n",
    "            probs = torch.sigmoid(logits).detach().cpu().numpy()\n",
    "            train_preds.append(probs)\n",
    "            train_labels.append(labels.cpu().numpy())\n",
    "        \n",
    "            # Обновляем tqdm\n",
    "            pbar.set_postfix({'Loss': f\"{running_loss / ((pbar.n+1)*BATCH_SIZE):.2f}\"})\n",
    "\n",
    "            if batch_idx % 1000 == 0:\n",
    "                print(f\"[Epoch {epoch+1}/{num_epochs}] Batch {batch_idx}/{len(train_loader)} | \"\n",
    "                      f\"Loss: {loss.item():.4f}\", flush=True)\n",
    "\n",
    "\n",
    "        train_preds = np.vstack(train_preds)\n",
    "        train_labels = np.vstack(train_labels)\n",
    "        train_epoch_loss = running_loss / len(train_dataset)\n",
    "        train_auc_mean, train_auc_per_class = metric_calculator.compute_auc(train_labels, train_preds)\n",
    "\n",
    "        history['train']['loss'].append(train_epoch_loss)\n",
    "        history['train']['auc'].append(train_auc_mean)\n",
    "\n",
    "        print(f\"\\nEpoch {epoch+1} Train loss: {train_epoch_loss:.2f}\")\n",
    "        metric_calculator.print_auc(train_auc_mean, train_auc_per_class, phase=\"Train\")\n",
    "\n",
    "        # ---------------------- VALIDATION ----------------------\n",
    "        model.eval()\n",
    "        val_loss = 0.0\n",
    "        val_preds = []\n",
    "        val_labels = []\n",
    "\n",
    "        with torch.no_grad():\n",
    "            for imgs, labels in tqdm(val_loader, desc=\"Validation\"):\n",
    "                imgs = imgs.to(DEVICE, dtype=torch.float)\n",
    "                labels = labels.to(DEVICE, dtype=torch.float)\n",
    "        \n",
    "                logits = model(imgs)\n",
    "                loss = criterion(logits, labels)\n",
    "                val_loss += loss.item() * imgs.size(0)\n",
    "        \n",
    "                probs = torch.sigmoid(logits).detach().cpu().numpy()\n",
    "                val_preds.append(probs)\n",
    "                val_labels.append(labels.cpu().numpy())\n",
    "\n",
    "                del imgs, labels, logits, probs\n",
    "        torch.cuda.empty_cache()\n",
    "        \n",
    "        val_preds = np.vstack(val_preds)\n",
    "        val_labels = np.vstack(val_labels)\n",
    "        \n",
    "        val_epoch_loss = val_loss / len(val_dataset)\n",
    "        val_auc_mean, val_auc_per_class = metric_calculator.compute_auc(val_labels, val_preds)\n",
    "\n",
    "        history['val']['loss'].append(val_epoch_loss)\n",
    "        history['val']['auc'].append(val_auc_mean)\n",
    "\n",
    "        print(f\"\\nEpoch {epoch+1} Validation loss: {val_epoch_loss:.2f}\")\n",
    "        metric_calculator.print_auc(val_auc_mean, val_auc_per_class, phase=\"Validation\")\n",
    "\n",
    "\n",
    "        #if (epoch+1)%5 == 0: plot_learning_curves(model_name, history, epoch+1)\n",
    "\n",
    "        # ---------------------- SAVE BEST MODEL ----------------------\n",
    "        if val_auc_mean > best_val_auc:\n",
    "            best_val_auc = val_auc_mean\n",
    "            best_val_auc_per_class = val_auc_per_class.copy()  # сохраняем для bar-графика\n",
    "            best_epoch = epoch + 1\n",
    "            save_path = f\"best_{model_name}_epoch_{best_epoch}_auc{best_val_auc:.4f}.pth\"\n",
    "            torch.save(model.state_dict(), save_path)\n",
    "            print(f\"\\nSaved new best model at epoch {best_epoch} with AUC={best_val_auc:.4f}: {save_path}\")\n",
    "\n",
    "    print(f\"\\nTraining finished. Best validation AUC={best_val_auc:.4f} at epoch {best_epoch}\")\n",
    "\n",
    "    \n",
    "    # ---------------------- PLOTS & SAVE HISTORY ----------------------\n",
    "    #plot_learning_curves(model_name, history, num_epochs)\n",
    "    bar_aucs(best_val_auc_per_class, model_name)\n",
    "\n",
    "    save_results_csv(model_name, history, num_epochs, lr)"
   ]
  },
  {
   "cell_type": "markdown",
   "metadata": {},
   "source": [
    "### Main"
   ]
  },
  {
   "cell_type": "code",
   "execution_count": null,
   "metadata": {
    "execution": {
     "iopub.execute_input": "2025-10-01T15:08:40.058252Z",
     "iopub.status.busy": "2025-10-01T15:08:40.057934Z",
     "iopub.status.idle": "2025-10-01T15:08:40.072753Z",
     "shell.execute_reply": "2025-10-01T15:08:40.072050Z",
     "shell.execute_reply.started": "2025-10-01T15:08:40.058226Z"
    },
    "trusted": true
   },
   "outputs": [],
   "source": [
    "MODEL_NAMES = [\"simplecnn\", \"resnet18\", \"resnext50\", \"efficientnet_b0\", \"densenet121\", \"efficientnet_v2_s\"]"
   ]
  },
  {
   "cell_type": "code",
   "execution_count": null,
   "metadata": {
    "execution": {
     "iopub.execute_input": "2025-10-01T15:08:40.073888Z",
     "iopub.status.busy": "2025-10-01T15:08:40.073622Z",
     "iopub.status.idle": "2025-10-01T16:19:13.013370Z",
     "shell.execute_reply": "2025-10-01T16:19:13.012693Z",
     "shell.execute_reply.started": "2025-10-01T15:08:40.073868Z"
    },
    "trusted": true
   },
   "outputs": [
    {
     "name": "stdout",
     "output_type": "stream",
     "text": [
      "Model_name: simplecnn\n"
     ]
    },
    {
     "name": "stderr",
     "output_type": "stream",
     "text": [
      "Epoch 1/10 - train: 100%|██████████| 543/543 [01:29<00:00,  6.05it/s, Loss=0.58]\n"
     ]
    },
    {
     "name": "stdout",
     "output_type": "stream",
     "text": [
      "Epoch 1 train loss: 0.58\n",
      "\n",
      "Train metrics\n",
      "AUC: 0.6\n",
      "F1: 0.3\n",
      "Precision: 0.3\n",
      "Recall: 0.2\n",
      "\n",
      "Problematic classes:\n",
      "  Atelectasis: AUC=0.582, F1=0.440\n",
      "  Cardiomegaly: AUC=0.566, F1=0.358\n",
      "  Consolidation: AUC=0.606, F1=0.332\n",
      "  Edema: AUC=0.597, F1=0.337\n",
      "  Enlarged Cardiomediastinum: AUC=0.643, F1=0.472\n",
      "  Fracture: AUC=0.502, F1=0.109\n",
      "  Lung Lesion: AUC=0.496, F1=0.054\n",
      "  Lung Opacity: AUC=0.605, F1=0.556\n",
      "  No Finding: AUC=0.610, F1=0.273\n",
      "  Pleural Effusion: AUC=0.585, F1=0.376\n",
      "  Pleural Other: AUC=0.491, F1=0.007\n",
      "  Pneumonia: AUC=0.481, F1=0.069\n",
      "  Pneumothorax: AUC=0.463, F1=0.014\n",
      "  Support Devices: AUC=0.563, F1=0.372\n"
     ]
    },
    {
     "name": "stderr",
     "output_type": "stream",
     "text": [
      "Validation: 100%|██████████| 136/136 [00:21<00:00,  6.31it/s]\n"
     ]
    },
    {
     "name": "stdout",
     "output_type": "stream",
     "text": [
      "Epoch 1 validation loss: 0.74\n",
      "\n",
      "Validation metrics\n",
      "AUC: 0.7\n",
      "F1: 0.4\n",
      "Precision: 0.4\n",
      "Recall: 0.3\n",
      "\n",
      "Problematic classes:\n",
      "  Atelectasis: AUC=0.794, F1=0.632\n",
      "  Cardiomegaly: AUC=0.818, F1=0.641\n",
      "  Consolidation: AUC=0.794, F1=0.514\n",
      "  Edema: AUC=0.816, F1=0.535\n",
      "  Fracture: AUC=0.627, F1=0.000\n",
      "  Lung Lesion: AUC=0.566, F1=0.000\n",
      "  No Finding: AUC=0.718, F1=0.402\n",
      "  Pleural Effusion: AUC=0.748, F1=0.536\n",
      "  Pleural Other: AUC=0.466, F1=0.000\n",
      "  Pneumonia: AUC=0.645, F1=0.000\n",
      "  Pneumothorax: AUC=0.511, F1=0.000\n",
      "  Support Devices: AUC=0.788, F1=0.410\n"
     ]
    },
    {
     "name": "stderr",
     "output_type": "stream",
     "text": [
      "Epoch 2/10 - train: 100%|██████████| 543/543 [01:04<00:00,  8.38it/s, Loss=0.49]\n"
     ]
    },
    {
     "name": "stdout",
     "output_type": "stream",
     "text": [
      "Epoch 2 train loss: 0.49\n",
      "\n",
      "Train metrics\n",
      "AUC: 0.7\n",
      "F1: 0.3\n",
      "Precision: 0.4\n",
      "Recall: 0.3\n",
      "\n",
      "Problematic classes:\n",
      "  Atelectasis: AUC=0.723, F1=0.553\n",
      "  Cardiomegaly: AUC=0.750, F1=0.527\n",
      "  Consolidation: AUC=0.742, F1=0.419\n",
      "  Edema: AUC=0.730, F1=0.386\n",
      "  Enlarged Cardiomediastinum: AUC=0.820, F1=0.655\n",
      "  Fracture: AUC=0.611, F1=0.076\n",
      "  Lung Lesion: AUC=0.530, F1=0.019\n",
      "  Lung Opacity: AUC=0.747, F1=0.668\n",
      "  No Finding: AUC=0.685, F1=0.410\n",
      "  Pleural Effusion: AUC=0.691, F1=0.450\n",
      "  Pleural Other: AUC=0.518, F1=0.000\n",
      "  Pneumonia: AUC=0.573, F1=0.043\n",
      "  Pneumothorax: AUC=0.530, F1=0.006\n",
      "  Support Devices: AUC=0.712, F1=0.479\n"
     ]
    },
    {
     "name": "stderr",
     "output_type": "stream",
     "text": [
      "Validation: 100%|██████████| 136/136 [00:14<00:00,  9.12it/s]\n"
     ]
    },
    {
     "name": "stdout",
     "output_type": "stream",
     "text": [
      "Epoch 2 validation loss: 0.74\n",
      "\n",
      "Validation metrics\n",
      "AUC: 0.8\n",
      "F1: 0.4\n",
      "Precision: 0.4\n",
      "Recall: 0.5\n",
      "\n",
      "Problematic classes:\n",
      "  Atelectasis: AUC=0.823, F1=0.679\n",
      "  Consolidation: AUC=0.818, F1=0.628\n",
      "  Edema: AUC=0.848, F1=0.632\n",
      "  Fracture: AUC=0.771, F1=0.000\n",
      "  Lung Lesion: AUC=0.596, F1=0.000\n",
      "  No Finding: AUC=0.754, F1=0.493\n",
      "  Pleural Effusion: AUC=0.759, F1=0.581\n",
      "  Pleural Other: AUC=0.525, F1=0.000\n",
      "  Pneumonia: AUC=0.728, F1=0.000\n",
      "  Pneumothorax: AUC=0.604, F1=0.000\n"
     ]
    },
    {
     "name": "stderr",
     "output_type": "stream",
     "text": [
      "Epoch 3/10 - train: 100%|██████████| 543/543 [01:04<00:00,  8.41it/s, Loss=0.46]\n"
     ]
    },
    {
     "name": "stdout",
     "output_type": "stream",
     "text": [
      "Epoch 3 train loss: 0.46\n",
      "\n",
      "Train metrics\n",
      "AUC: 0.7\n",
      "F1: 0.4\n",
      "Precision: 0.4\n",
      "Recall: 0.3\n",
      "\n",
      "Problematic classes:\n",
      "  Atelectasis: AUC=0.755, F1=0.592\n",
      "  Cardiomegaly: AUC=0.806, F1=0.617\n",
      "  Consolidation: AUC=0.781, F1=0.484\n",
      "  Edema: AUC=0.785, F1=0.474\n",
      "  Fracture: AUC=0.677, F1=0.088\n",
      "  Lung Lesion: AUC=0.568, F1=0.008\n",
      "  No Finding: AUC=0.735, F1=0.481\n",
      "  Pleural Effusion: AUC=0.727, F1=0.491\n",
      "  Pleural Other: AUC=0.570, F1=0.000\n",
      "  Pneumonia: AUC=0.655, F1=0.037\n",
      "  Pneumothorax: AUC=0.527, F1=0.000\n",
      "  Support Devices: AUC=0.773, F1=0.564\n"
     ]
    },
    {
     "name": "stderr",
     "output_type": "stream",
     "text": [
      "Validation: 100%|██████████| 136/136 [00:15<00:00,  9.03it/s]\n"
     ]
    },
    {
     "name": "stdout",
     "output_type": "stream",
     "text": [
      "Epoch 3 validation loss: 0.73\n",
      "\n",
      "Validation metrics\n",
      "AUC: 0.8\n",
      "F1: 0.4\n",
      "Precision: 0.4\n",
      "Recall: 0.5\n",
      "\n",
      "Problematic classes:\n",
      "  Atelectasis: AUC=0.836, F1=0.691\n",
      "  Consolidation: AUC=0.832, F1=0.652\n",
      "  Edema: AUC=0.862, F1=0.667\n",
      "  Fracture: AUC=0.783, F1=0.000\n",
      "  Lung Lesion: AUC=0.606, F1=0.000\n",
      "  No Finding: AUC=0.773, F1=0.542\n",
      "  Pleural Effusion: AUC=0.771, F1=0.586\n",
      "  Pleural Other: AUC=0.524, F1=0.000\n",
      "  Pneumonia: AUC=0.759, F1=0.000\n",
      "  Pneumothorax: AUC=0.630, F1=0.000\n"
     ]
    },
    {
     "name": "stderr",
     "output_type": "stream",
     "text": [
      "Epoch 4/10 - train: 100%|██████████| 543/543 [01:03<00:00,  8.49it/s, Loss=0.44]\n"
     ]
    },
    {
     "name": "stdout",
     "output_type": "stream",
     "text": [
      "Epoch 4 train loss: 0.44\n",
      "\n",
      "Train metrics\n",
      "AUC: 0.7\n",
      "F1: 0.4\n",
      "Precision: 0.5\n",
      "Recall: 0.4\n",
      "\n",
      "Problematic classes:\n",
      "  Atelectasis: AUC=0.768, F1=0.619\n",
      "  Cardiomegaly: AUC=0.822, F1=0.635\n",
      "  Consolidation: AUC=0.805, F1=0.521\n",
      "  Edema: AUC=0.808, F1=0.511\n",
      "  Fracture: AUC=0.714, F1=0.069\n",
      "  Lung Lesion: AUC=0.569, F1=0.004\n",
      "  No Finding: AUC=0.751, F1=0.482\n",
      "  Pleural Effusion: AUC=0.747, F1=0.517\n",
      "  Pleural Other: AUC=0.599, F1=0.000\n",
      "  Pneumonia: AUC=0.689, F1=0.040\n",
      "  Pneumothorax: AUC=0.569, F1=0.000\n",
      "  Support Devices: AUC=0.816, F1=0.618\n"
     ]
    },
    {
     "name": "stderr",
     "output_type": "stream",
     "text": [
      "Validation: 100%|██████████| 136/136 [00:15<00:00,  9.03it/s]\n"
     ]
    },
    {
     "name": "stdout",
     "output_type": "stream",
     "text": [
      "Epoch 4 validation loss: 0.73\n",
      "\n",
      "Validation metrics\n",
      "AUC: 0.8\n",
      "F1: 0.4\n",
      "Precision: 0.4\n",
      "Recall: 0.5\n",
      "\n",
      "Problematic classes:\n",
      "  Atelectasis: AUC=0.829, F1=0.683\n",
      "  Consolidation: AUC=0.827, F1=0.641\n",
      "  Edema: AUC=0.860, F1=0.680\n",
      "  Fracture: AUC=0.788, F1=0.000\n",
      "  Lung Lesion: AUC=0.615, F1=0.000\n",
      "  No Finding: AUC=0.780, F1=0.507\n",
      "  Pleural Effusion: AUC=0.771, F1=0.588\n",
      "  Pleural Other: AUC=0.563, F1=0.000\n",
      "  Pneumonia: AUC=0.753, F1=0.000\n",
      "  Pneumothorax: AUC=0.641, F1=0.000\n"
     ]
    },
    {
     "name": "stderr",
     "output_type": "stream",
     "text": [
      "Epoch 5/10 - train: 100%|██████████| 543/543 [01:04<00:00,  8.36it/s, Loss=0.43]\n"
     ]
    },
    {
     "name": "stdout",
     "output_type": "stream",
     "text": [
      "Epoch 5 train loss: 0.43\n",
      "\n",
      "Train metrics\n",
      "AUC: 0.8\n",
      "F1: 0.4\n",
      "Precision: 0.5\n",
      "Recall: 0.4\n",
      "\n",
      "Problematic classes:\n",
      "  Atelectasis: AUC=0.780, F1=0.636\n",
      "  Cardiomegaly: AUC=0.842, F1=0.669\n",
      "  Consolidation: AUC=0.818, F1=0.549\n",
      "  Edema: AUC=0.809, F1=0.511\n",
      "  Fracture: AUC=0.725, F1=0.068\n",
      "  Lung Lesion: AUC=0.582, F1=0.004\n",
      "  No Finding: AUC=0.762, F1=0.491\n",
      "  Pleural Effusion: AUC=0.753, F1=0.546\n",
      "  Pleural Other: AUC=0.625, F1=0.000\n",
      "  Pneumonia: AUC=0.705, F1=0.047\n",
      "  Pneumothorax: AUC=0.594, F1=0.000\n",
      "  Support Devices: AUC=0.827, F1=0.627\n"
     ]
    },
    {
     "name": "stderr",
     "output_type": "stream",
     "text": [
      "Validation: 100%|██████████| 136/136 [00:15<00:00,  9.06it/s]\n"
     ]
    },
    {
     "name": "stdout",
     "output_type": "stream",
     "text": [
      "Epoch 5 validation loss: 0.72\n",
      "\n",
      "Validation metrics\n",
      "AUC: 0.8\n",
      "F1: 0.4\n",
      "Precision: 0.4\n",
      "Recall: 0.5\n",
      "\n",
      "Problematic classes:\n",
      "  Atelectasis: AUC=0.833, F1=0.689\n",
      "  Consolidation: AUC=0.839, F1=0.635\n",
      "  Edema: AUC=0.869, F1=0.650\n",
      "  Fracture: AUC=0.805, F1=0.000\n",
      "  Lung Lesion: AUC=0.603, F1=0.000\n",
      "  No Finding: AUC=0.787, F1=0.503\n",
      "  Pleural Effusion: AUC=0.773, F1=0.571\n",
      "  Pleural Other: AUC=0.624, F1=0.000\n",
      "  Pneumonia: AUC=0.767, F1=0.000\n",
      "  Pneumothorax: AUC=0.672, F1=0.000\n"
     ]
    },
    {
     "name": "stderr",
     "output_type": "stream",
     "text": [
      "Epoch 6/10 - train: 100%|██████████| 543/543 [01:04<00:00,  8.38it/s, Loss=0.42]\n"
     ]
    },
    {
     "name": "stdout",
     "output_type": "stream",
     "text": [
      "Epoch 6 train loss: 0.42\n",
      "\n",
      "Train metrics\n",
      "AUC: 0.8\n",
      "F1: 0.4\n",
      "Precision: 0.5\n",
      "Recall: 0.4\n",
      "\n",
      "Problematic classes:\n",
      "  Atelectasis: AUC=0.792, F1=0.637\n",
      "  Cardiomegaly: AUC=0.854, F1=0.686\n",
      "  Consolidation: AUC=0.823, F1=0.561\n",
      "  Edema: AUC=0.825, F1=0.526\n",
      "  Fracture: AUC=0.745, F1=0.057\n",
      "  Lung Lesion: AUC=0.587, F1=0.004\n",
      "  No Finding: AUC=0.772, F1=0.501\n",
      "  Pleural Effusion: AUC=0.760, F1=0.530\n",
      "  Pleural Other: AUC=0.629, F1=0.000\n",
      "  Pneumonia: AUC=0.697, F1=0.044\n",
      "  Pneumothorax: AUC=0.599, F1=0.000\n",
      "  Support Devices: AUC=0.830, F1=0.637\n"
     ]
    },
    {
     "name": "stderr",
     "output_type": "stream",
     "text": [
      "Validation: 100%|██████████| 136/136 [00:15<00:00,  8.82it/s]\n"
     ]
    },
    {
     "name": "stdout",
     "output_type": "stream",
     "text": [
      "Epoch 6 validation loss: 0.72\n",
      "\n",
      "Validation metrics\n",
      "AUC: 0.8\n",
      "F1: 0.4\n",
      "Precision: 0.4\n",
      "Recall: 0.5\n",
      "\n",
      "Problematic classes:\n",
      "  Atelectasis: AUC=0.835, F1=0.695\n",
      "  Consolidation: AUC=0.838, F1=0.657\n",
      "  Edema: AUC=0.869, F1=0.687\n",
      "  Fracture: AUC=0.810, F1=0.000\n",
      "  Lung Lesion: AUC=0.614, F1=0.000\n",
      "  No Finding: AUC=0.792, F1=0.581\n",
      "  Pleural Effusion: AUC=0.776, F1=0.584\n",
      "  Pleural Other: AUC=0.632, F1=0.000\n",
      "  Pneumonia: AUC=0.772, F1=0.000\n",
      "  Pneumothorax: AUC=0.690, F1=0.000\n"
     ]
    },
    {
     "name": "stderr",
     "output_type": "stream",
     "text": [
      "Epoch 7/10 - train: 100%|██████████| 543/543 [01:04<00:00,  8.48it/s, Loss=0.42]\n"
     ]
    },
    {
     "name": "stdout",
     "output_type": "stream",
     "text": [
      "Epoch 7 train loss: 0.42\n",
      "\n",
      "Train metrics\n",
      "AUC: 0.8\n",
      "F1: 0.4\n",
      "Precision: 0.6\n",
      "Recall: 0.4\n",
      "\n",
      "Problematic classes:\n",
      "  Atelectasis: AUC=0.794, F1=0.643\n",
      "  Cardiomegaly: AUC=0.854, F1=0.683\n",
      "  Consolidation: AUC=0.824, F1=0.559\n",
      "  Edema: AUC=0.829, F1=0.527\n",
      "  Fracture: AUC=0.762, F1=0.085\n",
      "  Lung Lesion: AUC=0.584, F1=0.000\n",
      "  No Finding: AUC=0.783, F1=0.536\n",
      "  Pleural Effusion: AUC=0.765, F1=0.541\n",
      "  Pleural Other: AUC=0.631, F1=0.000\n",
      "  Pneumonia: AUC=0.726, F1=0.025\n",
      "  Pneumothorax: AUC=0.599, F1=0.006\n",
      "  Support Devices: AUC=0.843, F1=0.652\n"
     ]
    },
    {
     "name": "stderr",
     "output_type": "stream",
     "text": [
      "Validation: 100%|██████████| 136/136 [00:15<00:00,  9.05it/s]\n"
     ]
    },
    {
     "name": "stdout",
     "output_type": "stream",
     "text": [
      "Epoch 7 validation loss: 0.72\n",
      "\n",
      "Validation metrics\n",
      "AUC: 0.8\n",
      "F1: 0.4\n",
      "Precision: 0.4\n",
      "Recall: 0.5\n",
      "\n",
      "Problematic classes:\n",
      "  Atelectasis: AUC=0.836, F1=0.683\n",
      "  Consolidation: AUC=0.842, F1=0.670\n",
      "  Edema: AUC=0.872, F1=0.677\n",
      "  Fracture: AUC=0.806, F1=0.000\n",
      "  Lung Lesion: AUC=0.611, F1=0.000\n",
      "  No Finding: AUC=0.797, F1=0.598\n",
      "  Pleural Effusion: AUC=0.779, F1=0.585\n",
      "  Pleural Other: AUC=0.615, F1=0.000\n",
      "  Pneumonia: AUC=0.772, F1=0.000\n",
      "  Pneumothorax: AUC=0.676, F1=0.000\n"
     ]
    },
    {
     "name": "stderr",
     "output_type": "stream",
     "text": [
      "Epoch 8/10 - train: 100%|██████████| 543/543 [01:03<00:00,  8.50it/s, Loss=0.41]\n"
     ]
    },
    {
     "name": "stdout",
     "output_type": "stream",
     "text": [
      "Epoch 8 train loss: 0.41\n",
      "\n",
      "Train metrics\n",
      "AUC: 0.8\n",
      "F1: 0.4\n",
      "Precision: 0.5\n",
      "Recall: 0.4\n",
      "\n",
      "Problematic classes:\n",
      "  Atelectasis: AUC=0.801, F1=0.658\n",
      "  Cardiomegaly: AUC=0.856, F1=0.692\n",
      "  Consolidation: AUC=0.839, F1=0.580\n",
      "  Edema: AUC=0.841, F1=0.552\n",
      "  Fracture: AUC=0.763, F1=0.069\n",
      "  Lung Lesion: AUC=0.592, F1=0.004\n",
      "  No Finding: AUC=0.795, F1=0.537\n",
      "  Pleural Effusion: AUC=0.779, F1=0.561\n",
      "  Pleural Other: AUC=0.653, F1=0.000\n",
      "  Pneumonia: AUC=0.724, F1=0.032\n",
      "  Pneumothorax: AUC=0.613, F1=0.000\n",
      "  Support Devices: AUC=0.851, F1=0.668\n"
     ]
    },
    {
     "name": "stderr",
     "output_type": "stream",
     "text": [
      "Validation: 100%|██████████| 136/136 [00:14<00:00,  9.08it/s]\n"
     ]
    },
    {
     "name": "stdout",
     "output_type": "stream",
     "text": [
      "Epoch 8 validation loss: 0.72\n",
      "\n",
      "Validation metrics\n",
      "AUC: 0.8\n",
      "F1: 0.5\n",
      "Precision: 0.4\n",
      "Recall: 0.5\n",
      "\n",
      "Problematic classes:\n",
      "  Atelectasis: AUC=0.838, F1=0.694\n",
      "  Consolidation: AUC=0.846, F1=0.670\n",
      "  Edema: AUC=0.872, F1=0.685\n",
      "  Fracture: AUC=0.801, F1=0.000\n",
      "  Lung Lesion: AUC=0.623, F1=0.000\n",
      "  No Finding: AUC=0.803, F1=0.620\n",
      "  Pleural Effusion: AUC=0.782, F1=0.590\n",
      "  Pleural Other: AUC=0.633, F1=0.000\n",
      "  Pneumonia: AUC=0.779, F1=0.000\n",
      "  Pneumothorax: AUC=0.689, F1=0.000\n"
     ]
    },
    {
     "name": "stderr",
     "output_type": "stream",
     "text": [
      "Epoch 9/10 - train: 100%|██████████| 543/543 [01:03<00:00,  8.50it/s, Loss=0.41]\n"
     ]
    },
    {
     "name": "stdout",
     "output_type": "stream",
     "text": [
      "Epoch 9 train loss: 0.41\n",
      "\n",
      "Train metrics\n",
      "AUC: 0.8\n",
      "F1: 0.4\n",
      "Precision: 0.5\n",
      "Recall: 0.4\n",
      "\n",
      "Problematic classes:\n",
      "  Atelectasis: AUC=0.796, F1=0.639\n",
      "  Cardiomegaly: AUC=0.863, F1=0.696\n",
      "  Consolidation: AUC=0.845, F1=0.597\n",
      "  Edema: AUC=0.844, F1=0.566\n",
      "  Fracture: AUC=0.768, F1=0.049\n",
      "  Lung Lesion: AUC=0.592, F1=0.000\n",
      "  No Finding: AUC=0.791, F1=0.550\n",
      "  Pleural Effusion: AUC=0.776, F1=0.564\n",
      "  Pleural Other: AUC=0.662, F1=0.000\n",
      "  Pneumonia: AUC=0.740, F1=0.029\n",
      "  Pneumothorax: AUC=0.612, F1=0.000\n",
      "  Support Devices: AUC=0.859, F1=0.668\n"
     ]
    },
    {
     "name": "stderr",
     "output_type": "stream",
     "text": [
      "Validation: 100%|██████████| 136/136 [00:15<00:00,  8.99it/s]\n"
     ]
    },
    {
     "name": "stdout",
     "output_type": "stream",
     "text": [
      "Epoch 9 validation loss: 0.72\n",
      "\n",
      "Validation metrics\n",
      "AUC: 0.8\n",
      "F1: 0.4\n",
      "Precision: 0.4\n",
      "Recall: 0.5\n",
      "\n",
      "Problematic classes:\n",
      "  Atelectasis: AUC=0.833, F1=0.687\n",
      "  Consolidation: AUC=0.841, F1=0.661\n",
      "  Edema: AUC=0.871, F1=0.687\n",
      "  Fracture: AUC=0.799, F1=0.000\n",
      "  Lung Lesion: AUC=0.595, F1=0.000\n",
      "  No Finding: AUC=0.799, F1=0.585\n",
      "  Pleural Effusion: AUC=0.780, F1=0.594\n",
      "  Pleural Other: AUC=0.605, F1=0.000\n",
      "  Pneumonia: AUC=0.765, F1=0.000\n",
      "  Pneumothorax: AUC=0.669, F1=0.000\n"
     ]
    },
    {
     "name": "stderr",
     "output_type": "stream",
     "text": [
      "Epoch 10/10 - train: 100%|██████████| 543/543 [01:03<00:00,  8.54it/s, Loss=0.41]\n"
     ]
    },
    {
     "name": "stdout",
     "output_type": "stream",
     "text": [
      "Epoch 10 train loss: 0.41\n",
      "\n",
      "Train metrics\n",
      "AUC: 0.8\n",
      "F1: 0.4\n",
      "Precision: 0.5\n",
      "Recall: 0.4\n",
      "\n",
      "Problematic classes:\n",
      "  Atelectasis: AUC=0.809, F1=0.661\n",
      "  Cardiomegaly: AUC=0.860, F1=0.690\n",
      "  Consolidation: AUC=0.843, F1=0.601\n",
      "  Edema: AUC=0.842, F1=0.560\n",
      "  Fracture: AUC=0.764, F1=0.043\n",
      "  Lung Lesion: AUC=0.578, F1=0.000\n",
      "  No Finding: AUC=0.799, F1=0.573\n",
      "  Pleural Effusion: AUC=0.777, F1=0.556\n",
      "  Pleural Other: AUC=0.665, F1=0.000\n",
      "  Pneumonia: AUC=0.728, F1=0.023\n",
      "  Pneumothorax: AUC=0.612, F1=0.000\n",
      "  Support Devices: AUC=0.865, F1=0.689\n"
     ]
    },
    {
     "name": "stderr",
     "output_type": "stream",
     "text": [
      "Validation: 100%|██████████| 136/136 [00:15<00:00,  8.96it/s]\n"
     ]
    },
    {
     "name": "stdout",
     "output_type": "stream",
     "text": [
      "Epoch 10 validation loss: 0.72\n",
      "\n",
      "Validation metrics\n",
      "AUC: 0.8\n",
      "F1: 0.5\n",
      "Precision: 0.4\n",
      "Recall: 0.5\n",
      "\n",
      "Problematic classes:\n",
      "  Atelectasis: AUC=0.836, F1=0.681\n",
      "  Consolidation: AUC=0.845, F1=0.659\n",
      "  Edema: AUC=0.868, F1=0.681\n",
      "  Fracture: AUC=0.801, F1=0.000\n",
      "  Lung Lesion: AUC=0.622, F1=0.000\n",
      "  No Finding: AUC=0.803, F1=0.623\n",
      "  Pleural Effusion: AUC=0.782, F1=0.589\n",
      "  Pleural Other: AUC=0.626, F1=0.000\n",
      "  Pneumonia: AUC=0.771, F1=0.000\n",
      "  Pneumothorax: AUC=0.685, F1=0.000\n",
      "The best validation AUC: 0.8017178773880005\n"
     ]
    },
    {
     "data": {
      "image/png": "[encoded data removed]",
      "text/plain": [
       "<Figure size 1500x400 with 3 Axes>"
      ]
     },
     "metadata": {},
     "output_type": "display_data"
    },
    {
     "data": {
      "image/png": "[encoded data removed]",
      "text/plain": [
       "<Figure size 3000x400 with 1 Axes>"
      ]
     },
     "metadata": {},
     "output_type": "display_data"
    },
    {
     "name": "stderr",
     "output_type": "stream",
     "text": [
      "/usr/local/lib/python3.11/dist-packages/torchvision/models/_utils.py:208: UserWarning: The parameter 'pretrained' is deprecated since 0.13 and may be removed in the future, please use 'weights' instead.\n",
      "  warnings.warn(\n",
      "/usr/local/lib/python3.11/dist-packages/torchvision/models/_utils.py:223: UserWarning: Arguments other than a weight enum or `None` for 'weights' are deprecated since 0.13 and may be removed in the future. The current behavior is equivalent to passing `weights=ResNet18_Weights.IMAGENET1K_V1`. You can also use `weights=ResNet18_Weights.DEFAULT` to get the most up-to-date weights.\n",
      "  warnings.warn(msg)\n",
      "Downloading: \"https://download.pytorch.org/models/resnet18-f37072fd.pth\" to /root/.cache/torch/hub/checkpoints/resnet18-f37072fd.pth\n",
      "100%|██████████| 44.7M/44.7M [00:00<00:00, 172MB/s]\n"
     ]
    },
    {
     "name": "stdout",
     "output_type": "stream",
     "text": [
      "Model_name: resnet18\n"
     ]
    },
    {
     "name": "stderr",
     "output_type": "stream",
     "text": [
      "Epoch 1/10 - train: 100%|██████████| 543/543 [01:05<00:00,  8.28it/s, Loss=0.44]\n"
     ]
    },
    {
     "name": "stdout",
     "output_type": "stream",
     "text": [
      "Epoch 1 train loss: 0.44\n",
      "\n",
      "Train metrics\n",
      "AUC: 0.7\n",
      "F1: 0.4\n",
      "Precision: 0.5\n",
      "Recall: 0.4\n",
      "\n",
      "Problematic classes:\n",
      "  Atelectasis: AUC=0.780, F1=0.634\n",
      "  Cardiomegaly: AUC=0.825, F1=0.635\n",
      "  Consolidation: AUC=0.823, F1=0.580\n",
      "  Edema: AUC=0.784, F1=0.476\n",
      "  Fracture: AUC=0.665, F1=0.016\n",
      "  Lung Lesion: AUC=0.576, F1=0.034\n",
      "  No Finding: AUC=0.767, F1=0.523\n",
      "  Pleural Effusion: AUC=0.768, F1=0.580\n",
      "  Pleural Other: AUC=0.561, F1=0.007\n",
      "  Pneumonia: AUC=0.688, F1=0.056\n",
      "  Pneumothorax: AUC=0.571, F1=0.030\n",
      "  Support Devices: AUC=0.818, F1=0.650\n"
     ]
    },
    {
     "name": "stderr",
     "output_type": "stream",
     "text": [
      "Validation: 100%|██████████| 136/136 [00:15<00:00,  8.99it/s]\n"
     ]
    },
    {
     "name": "stdout",
     "output_type": "stream",
     "text": [
      "Epoch 1 validation loss: 0.71\n",
      "\n",
      "Validation metrics\n",
      "AUC: 0.8\n",
      "F1: 0.5\n",
      "Precision: 0.5\n",
      "Recall: 0.5\n",
      "\n",
      "Problematic classes:\n",
      "  Edema: AUC=0.885, F1=0.659\n",
      "  Fracture: AUC=0.836, F1=0.000\n",
      "  Lung Lesion: AUC=0.659, F1=0.000\n",
      "  No Finding: AUC=0.836, F1=0.630\n",
      "  Pleural Effusion: AUC=0.844, F1=0.659\n",
      "  Pleural Other: AUC=0.721, F1=0.000\n",
      "  Pneumonia: AUC=0.824, F1=0.095\n",
      "  Pneumothorax: AUC=0.721, F1=0.000\n"
     ]
    },
    {
     "name": "stderr",
     "output_type": "stream",
     "text": [
      "Epoch 2/10 - train: 100%|██████████| 543/543 [01:03<00:00,  8.55it/s, Loss=0.38]\n"
     ]
    },
    {
     "name": "stdout",
     "output_type": "stream",
     "text": [
      "Epoch 2 train loss: 0.38\n",
      "\n",
      "Train metrics\n",
      "AUC: 0.8\n",
      "F1: 0.5\n",
      "Precision: 0.5\n",
      "Recall: 0.4\n",
      "\n",
      "Problematic classes:\n",
      "  Consolidation: AUC=0.870, F1=0.669\n",
      "  Edema: AUC=0.857, F1=0.597\n",
      "  Fracture: AUC=0.792, F1=0.062\n",
      "  Lung Lesion: AUC=0.635, F1=0.020\n",
      "  No Finding: AUC=0.826, F1=0.601\n",
      "  Pleural Effusion: AUC=0.813, F1=0.622\n",
      "  Pleural Other: AUC=0.693, F1=0.000\n",
      "  Pneumonia: AUC=0.766, F1=0.114\n",
      "  Pneumothorax: AUC=0.653, F1=0.000\n"
     ]
    },
    {
     "name": "stderr",
     "output_type": "stream",
     "text": [
      "Validation: 100%|██████████| 136/136 [00:14<00:00,  9.08it/s]\n"
     ]
    },
    {
     "name": "stdout",
     "output_type": "stream",
     "text": [
      "Epoch 2 validation loss: 0.71\n",
      "\n",
      "Validation metrics\n",
      "AUC: 0.8\n",
      "F1: 0.5\n",
      "Precision: 0.5\n",
      "Recall: 0.5\n",
      "\n",
      "Problematic classes:\n",
      "  Edema: AUC=0.894, F1=0.687\n",
      "  Fracture: AUC=0.853, F1=0.183\n",
      "  Lung Lesion: AUC=0.682, F1=0.000\n",
      "  No Finding: AUC=0.842, F1=0.634\n",
      "  Pleural Effusion: AUC=0.849, F1=0.681\n",
      "  Pleural Other: AUC=0.765, F1=0.000\n",
      "  Pneumonia: AUC=0.827, F1=0.177\n",
      "  Pneumothorax: AUC=0.765, F1=0.000\n"
     ]
    },
    {
     "name": "stderr",
     "output_type": "stream",
     "text": [
      "Epoch 3/10 - train: 100%|██████████| 543/543 [01:04<00:00,  8.47it/s, Loss=0.37]\n"
     ]
    },
    {
     "name": "stdout",
     "output_type": "stream",
     "text": [
      "Epoch 3 train loss: 0.37\n",
      "\n",
      "Train metrics\n",
      "AUC: 0.8\n",
      "F1: 0.5\n",
      "Precision: 0.7\n",
      "Recall: 0.5\n",
      "\n",
      "Problematic classes:\n",
      "  Consolidation: AUC=0.879, F1=0.679\n",
      "  Edema: AUC=0.868, F1=0.613\n",
      "  Fracture: AUC=0.810, F1=0.122\n",
      "  Lung Lesion: AUC=0.688, F1=0.035\n",
      "  No Finding: AUC=0.836, F1=0.610\n",
      "  Pleural Effusion: AUC=0.833, F1=0.649\n",
      "  Pleural Other: AUC=0.738, F1=0.007\n",
      "  Pneumonia: AUC=0.782, F1=0.126\n",
      "  Pneumothorax: AUC=0.664, F1=0.000\n"
     ]
    },
    {
     "name": "stderr",
     "output_type": "stream",
     "text": [
      "Validation: 100%|██████████| 136/136 [00:14<00:00,  9.13it/s]\n"
     ]
    },
    {
     "name": "stdout",
     "output_type": "stream",
     "text": [
      "Epoch 3 validation loss: 0.69\n",
      "\n",
      "Validation metrics\n",
      "AUC: 0.9\n",
      "F1: 0.5\n",
      "Precision: 0.6\n",
      "Recall: 0.5\n",
      "\n",
      "Problematic classes:\n",
      "  Consolidation: AUC=0.889, F1=0.700\n",
      "  Fracture: AUC=0.880, F1=0.213\n",
      "  Lung Lesion: AUC=0.710, F1=0.000\n",
      "  No Finding: AUC=0.858, F1=0.688\n",
      "  Pleural Effusion: AUC=0.863, F1=0.668\n",
      "  Pleural Other: AUC=0.795, F1=0.000\n",
      "  Pneumonia: AUC=0.851, F1=0.144\n",
      "  Pneumothorax: AUC=0.794, F1=0.000\n"
     ]
    },
    {
     "name": "stderr",
     "output_type": "stream",
     "text": [
      "Epoch 4/10 - train: 100%|██████████| 543/543 [01:06<00:00,  8.19it/s, Loss=0.35]\n"
     ]
    },
    {
     "name": "stdout",
     "output_type": "stream",
     "text": [
      "Epoch 4 train loss: 0.35\n",
      "\n",
      "Train metrics\n",
      "AUC: 0.8\n",
      "F1: 0.5\n",
      "Precision: 0.6\n",
      "Recall: 0.5\n",
      "\n",
      "Problematic classes:\n",
      "  Edema: AUC=0.877, F1=0.640\n",
      "  Fracture: AUC=0.849, F1=0.195\n",
      "  Lung Lesion: AUC=0.712, F1=0.064\n",
      "  No Finding: AUC=0.850, F1=0.643\n",
      "  Pleural Effusion: AUC=0.860, F1=0.688\n",
      "  Pleural Other: AUC=0.776, F1=0.000\n",
      "  Pneumonia: AUC=0.811, F1=0.205\n",
      "  Pneumothorax: AUC=0.690, F1=0.000\n"
     ]
    },
    {
     "name": "stderr",
     "output_type": "stream",
     "text": [
      "Validation: 100%|██████████| 136/136 [00:15<00:00,  8.97it/s]\n"
     ]
    },
    {
     "name": "stdout",
     "output_type": "stream",
     "text": [
      "Epoch 4 validation loss: 0.70\n",
      "\n",
      "Validation metrics\n",
      "AUC: 0.9\n",
      "F1: 0.5\n",
      "Precision: 0.6\n",
      "Recall: 0.5\n",
      "\n",
      "Problematic classes:\n",
      "  Fracture: AUC=0.860, F1=0.253\n",
      "  Lung Lesion: AUC=0.698, F1=0.045\n",
      "  No Finding: AUC=0.851, F1=0.634\n",
      "  Pleural Effusion: AUC=0.866, F1=0.683\n",
      "  Pleural Other: AUC=0.779, F1=0.000\n",
      "  Pneumonia: AUC=0.846, F1=0.105\n",
      "  Pneumothorax: AUC=0.777, F1=0.000\n"
     ]
    },
    {
     "name": "stderr",
     "output_type": "stream",
     "text": [
      "Epoch 5/10 - train: 100%|██████████| 543/543 [01:05<00:00,  8.27it/s, Loss=0.35]\n"
     ]
    },
    {
     "name": "stdout",
     "output_type": "stream",
     "text": [
      "Epoch 5 train loss: 0.35\n",
      "\n",
      "Train metrics\n",
      "AUC: 0.8\n",
      "F1: 0.5\n",
      "Precision: 0.7\n",
      "Recall: 0.5\n",
      "\n",
      "Problematic classes:\n",
      "  Edema: AUC=0.884, F1=0.662\n",
      "  Fracture: AUC=0.858, F1=0.250\n",
      "  Lung Lesion: AUC=0.726, F1=0.140\n",
      "  No Finding: AUC=0.847, F1=0.625\n",
      "  Pleural Effusion: AUC=0.862, F1=0.691\n",
      "  Pleural Other: AUC=0.807, F1=0.015\n",
      "  Pneumonia: AUC=0.813, F1=0.232\n",
      "  Pneumothorax: AUC=0.702, F1=0.000\n"
     ]
    },
    {
     "name": "stderr",
     "output_type": "stream",
     "text": [
      "Validation: 100%|██████████| 136/136 [00:15<00:00,  9.01it/s]\n"
     ]
    },
    {
     "name": "stdout",
     "output_type": "stream",
     "text": [
      "Epoch 5 validation loss: 0.69\n",
      "\n",
      "Validation metrics\n",
      "AUC: 0.9\n",
      "F1: 0.5\n",
      "Precision: 0.7\n",
      "Recall: 0.5\n",
      "\n",
      "Problematic classes:\n",
      "  Fracture: AUC=0.861, F1=0.318\n",
      "  Lung Lesion: AUC=0.701, F1=0.112\n",
      "  No Finding: AUC=0.834, F1=0.626\n",
      "  Pleural Effusion: AUC=0.865, F1=0.663\n",
      "  Pleural Other: AUC=0.810, F1=0.027\n",
      "  Pneumonia: AUC=0.840, F1=0.160\n",
      "  Pneumothorax: AUC=0.777, F1=0.000\n"
     ]
    },
    {
     "name": "stderr",
     "output_type": "stream",
     "text": [
      "Epoch 6/10 - train: 100%|██████████| 543/543 [01:04<00:00,  8.36it/s, Loss=0.34]\n"
     ]
    },
    {
     "name": "stdout",
     "output_type": "stream",
     "text": [
      "Epoch 6 train loss: 0.34\n",
      "\n",
      "Train metrics\n",
      "AUC: 0.9\n",
      "F1: 0.5\n",
      "Precision: 0.7\n",
      "Recall: 0.5\n",
      "\n",
      "Problematic classes:\n",
      "  Edema: AUC=0.897, F1=0.677\n",
      "  Fracture: AUC=0.871, F1=0.370\n",
      "  Lung Lesion: AUC=0.753, F1=0.176\n",
      "  No Finding: AUC=0.863, F1=0.660\n",
      "  Pleural Other: AUC=0.808, F1=0.043\n",
      "  Pneumonia: AUC=0.831, F1=0.326\n",
      "  Pneumothorax: AUC=0.721, F1=0.000\n"
     ]
    },
    {
     "name": "stderr",
     "output_type": "stream",
     "text": [
      "Validation: 100%|██████████| 136/136 [00:15<00:00,  8.99it/s]\n"
     ]
    },
    {
     "name": "stdout",
     "output_type": "stream",
     "text": [
      "Epoch 6 validation loss: 0.69\n",
      "\n",
      "Validation metrics\n",
      "AUC: 0.9\n",
      "F1: 0.6\n",
      "Precision: 0.7\n",
      "Recall: 0.6\n",
      "\n",
      "Problematic classes:\n",
      "  Fracture: AUC=0.893, F1=0.542\n",
      "  Lung Lesion: AUC=0.728, F1=0.121\n",
      "  No Finding: AUC=0.849, F1=0.640\n",
      "  Pleural Other: AUC=0.815, F1=0.104\n",
      "  Pneumonia: AUC=0.865, F1=0.423\n",
      "  Pneumothorax: AUC=0.809, F1=0.000\n"
     ]
    },
    {
     "name": "stderr",
     "output_type": "stream",
     "text": [
      "Epoch 7/10 - train: 100%|██████████| 543/543 [01:04<00:00,  8.36it/s, Loss=0.33]\n"
     ]
    },
    {
     "name": "stdout",
     "output_type": "stream",
     "text": [
      "Epoch 7 train loss: 0.33\n",
      "\n",
      "Train metrics\n",
      "AUC: 0.9\n",
      "F1: 0.6\n",
      "Precision: 0.7\n",
      "Recall: 0.5\n",
      "\n",
      "Problematic classes:\n",
      "  Edema: AUC=0.898, F1=0.662\n",
      "  Fracture: AUC=0.875, F1=0.364\n",
      "  Lung Lesion: AUC=0.750, F1=0.210\n",
      "  No Finding: AUC=0.874, F1=0.676\n",
      "  Pleural Other: AUC=0.828, F1=0.057\n",
      "  Pneumonia: AUC=0.835, F1=0.351\n",
      "  Pneumothorax: AUC=0.726, F1=0.000\n"
     ]
    },
    {
     "name": "stderr",
     "output_type": "stream",
     "text": [
      "Validation: 100%|██████████| 136/136 [00:15<00:00,  8.85it/s]\n"
     ]
    },
    {
     "name": "stdout",
     "output_type": "stream",
     "text": [
      "Epoch 7 validation loss: 0.69\n",
      "\n",
      "Validation metrics\n",
      "AUC: 0.9\n",
      "F1: 0.6\n",
      "Precision: 0.6\n",
      "Recall: 0.6\n",
      "\n",
      "Problematic classes:\n",
      "  Fracture: AUC=0.896, F1=0.400\n",
      "  Lung Lesion: AUC=0.750, F1=0.165\n",
      "  No Finding: AUC=0.859, F1=0.652\n",
      "  Pleural Effusion: AUC=0.873, F1=0.698\n",
      "  Pleural Other: AUC=0.815, F1=0.077\n",
      "  Pneumonia: AUC=0.863, F1=0.374\n",
      "  Pneumothorax: AUC=0.775, F1=0.000\n"
     ]
    },
    {
     "name": "stderr",
     "output_type": "stream",
     "text": [
      "Epoch 8/10 - train: 100%|██████████| 543/543 [01:06<00:00,  8.13it/s, Loss=0.32]\n"
     ]
    },
    {
     "name": "stdout",
     "output_type": "stream",
     "text": [
      "Epoch 8 train loss: 0.32\n",
      "\n",
      "Train metrics\n",
      "AUC: 0.9\n",
      "F1: 0.6\n",
      "Precision: 0.8\n",
      "Recall: 0.5\n",
      "\n",
      "Problematic classes:\n",
      "  Edema: AUC=0.901, F1=0.686\n",
      "  Fracture: AUC=0.885, F1=0.419\n",
      "  Lung Lesion: AUC=0.773, F1=0.232\n",
      "  No Finding: AUC=0.870, F1=0.671\n",
      "  Pleural Other: AUC=0.835, F1=0.096\n",
      "  Pneumonia: AUC=0.854, F1=0.380\n",
      "  Pneumothorax: AUC=0.743, F1=0.006\n"
     ]
    },
    {
     "name": "stderr",
     "output_type": "stream",
     "text": [
      "Validation: 100%|██████████| 136/136 [00:15<00:00,  8.88it/s]\n"
     ]
    },
    {
     "name": "stdout",
     "output_type": "stream",
     "text": [
      "Epoch 8 validation loss: 0.68\n",
      "\n",
      "Validation metrics\n",
      "AUC: 0.9\n",
      "F1: 0.5\n",
      "Precision: 0.7\n",
      "Recall: 0.5\n",
      "\n",
      "Problematic classes:\n",
      "  Consolidation: AUC=0.884, F1=0.663\n",
      "  Edema: AUC=0.895, F1=0.543\n",
      "  Fracture: AUC=0.875, F1=0.508\n",
      "  Lung Lesion: AUC=0.718, F1=0.044\n",
      "  No Finding: AUC=0.844, F1=0.661\n",
      "  Pleural Effusion: AUC=0.867, F1=0.664\n",
      "  Pleural Other: AUC=0.770, F1=0.269\n",
      "  Pneumonia: AUC=0.847, F1=0.339\n",
      "  Pneumothorax: AUC=0.754, F1=0.000\n",
      "  Support Devices: AUC=0.926, F1=0.692\n"
     ]
    },
    {
     "name": "stderr",
     "output_type": "stream",
     "text": [
      "Epoch 9/10 - train: 100%|██████████| 543/543 [01:06<00:00,  8.14it/s, Loss=0.31]\n"
     ]
    },
    {
     "name": "stdout",
     "output_type": "stream",
     "text": [
      "Epoch 9 train loss: 0.31\n",
      "\n",
      "Train metrics\n",
      "AUC: 0.9\n",
      "F1: 0.6\n",
      "Precision: 0.7\n",
      "Recall: 0.6\n",
      "\n",
      "Problematic classes:\n",
      "  Edema: AUC=0.906, F1=0.696\n",
      "  Fracture: AUC=0.888, F1=0.450\n",
      "  Lung Lesion: AUC=0.777, F1=0.247\n",
      "  No Finding: AUC=0.879, F1=0.684\n",
      "  Pleural Other: AUC=0.847, F1=0.179\n",
      "  Pneumonia: AUC=0.857, F1=0.440\n",
      "  Pneumothorax: AUC=0.761, F1=0.006\n"
     ]
    },
    {
     "name": "stderr",
     "output_type": "stream",
     "text": [
      "Validation: 100%|██████████| 136/136 [00:15<00:00,  8.88it/s]\n"
     ]
    },
    {
     "name": "stdout",
     "output_type": "stream",
     "text": [
      "Epoch 9 validation loss: 0.68\n",
      "\n",
      "Validation metrics\n",
      "AUC: 0.9\n",
      "F1: 0.5\n",
      "Precision: 0.7\n",
      "Recall: 0.5\n",
      "\n",
      "Problematic classes:\n",
      "  Consolidation: AUC=0.896, F1=0.668\n",
      "  Edema: AUC=0.900, F1=0.614\n",
      "  Fracture: AUC=0.883, F1=0.456\n",
      "  Lung Lesion: AUC=0.734, F1=0.153\n",
      "  No Finding: AUC=0.850, F1=0.663\n",
      "  Pleural Effusion: AUC=0.877, F1=0.630\n",
      "  Pleural Other: AUC=0.797, F1=0.120\n",
      "  Pneumonia: AUC=0.852, F1=0.298\n",
      "  Pneumothorax: AUC=0.766, F1=0.000\n"
     ]
    },
    {
     "name": "stderr",
     "output_type": "stream",
     "text": [
      "Epoch 10/10 - train: 100%|██████████| 543/543 [01:06<00:00,  8.20it/s, Loss=0.31]\n"
     ]
    },
    {
     "name": "stdout",
     "output_type": "stream",
     "text": [
      "Epoch 10 train loss: 0.31\n",
      "\n",
      "Train metrics\n",
      "AUC: 0.9\n",
      "F1: 0.6\n",
      "Precision: 0.7\n",
      "Recall: 0.6\n",
      "\n",
      "Problematic classes:\n",
      "  Fracture: AUC=0.897, F1=0.487\n",
      "  Lung Lesion: AUC=0.792, F1=0.291\n",
      "  Pleural Other: AUC=0.856, F1=0.171\n",
      "  Pneumonia: AUC=0.866, F1=0.470\n",
      "  Pneumothorax: AUC=0.774, F1=0.012\n"
     ]
    },
    {
     "name": "stderr",
     "output_type": "stream",
     "text": [
      "Validation: 100%|██████████| 136/136 [00:15<00:00,  8.97it/s]\n"
     ]
    },
    {
     "name": "stdout",
     "output_type": "stream",
     "text": [
      "Epoch 10 validation loss: 0.69\n",
      "\n",
      "Validation metrics\n",
      "AUC: 0.9\n",
      "F1: 0.6\n",
      "Precision: 0.6\n",
      "Recall: 0.6\n",
      "\n",
      "Problematic classes:\n",
      "  Fracture: AUC=0.881, F1=0.514\n",
      "  Lung Lesion: AUC=0.735, F1=0.238\n",
      "  No Finding: AUC=0.858, F1=0.664\n",
      "  Pleural Effusion: AUC=0.876, F1=0.698\n",
      "  Pleural Other: AUC=0.812, F1=0.305\n",
      "  Pneumonia: AUC=0.864, F1=0.514\n",
      "  Pneumothorax: AUC=0.805, F1=0.044\n",
      "The best validation AUC: 0.8727465867996216\n"
     ]
    },
    {
     "data": {
      "image/png": "[encoded data removed]",
      "text/plain": [
       "<Figure size 1500x400 with 3 Axes>"
      ]
     },
     "metadata": {},
     "output_type": "display_data"
    },
    {
     "data": {
      "image/png": "[encoded data removed]",
      "text/plain": [
       "<Figure size 3000x400 with 1 Axes>"
      ]
     },
     "metadata": {},
     "output_type": "display_data"
    },
    {
     "name": "stderr",
     "output_type": "stream",
     "text": [
      "/usr/local/lib/python3.11/dist-packages/torchvision/models/_utils.py:208: UserWarning: The parameter 'pretrained' is deprecated since 0.13 and may be removed in the future, please use 'weights' instead.\n",
      "  warnings.warn(\n",
      "/usr/local/lib/python3.11/dist-packages/torchvision/models/_utils.py:223: UserWarning: Arguments other than a weight enum or `None` for 'weights' are deprecated since 0.13 and may be removed in the future. The current behavior is equivalent to passing `weights=ResNeXt50_32X4D_Weights.IMAGENET1K_V1`. You can also use `weights=ResNeXt50_32X4D_Weights.DEFAULT` to get the most up-to-date weights.\n",
      "  warnings.warn(msg)\n",
      "Downloading: \"https://download.pytorch.org/models/resnext50_32x4d-7cdf4587.pth\" to /root/.cache/torch/hub/checkpoints/resnext50_32x4d-7cdf4587.pth\n",
      "100%|██████████| 95.8M/95.8M [00:00<00:00, 222MB/s]\n"
     ]
    },
    {
     "name": "stdout",
     "output_type": "stream",
     "text": [
      "Model_name: resnext50\n"
     ]
    },
    {
     "name": "stderr",
     "output_type": "stream",
     "text": [
      "Epoch 1/10 - train: 100%|██████████| 543/543 [01:13<00:00,  7.41it/s, Loss=0.42]\n"
     ]
    },
    {
     "name": "stdout",
     "output_type": "stream",
     "text": [
      "Epoch 1 train loss: 0.42\n",
      "\n",
      "Train metrics\n",
      "AUC: 0.8\n",
      "F1: 0.4\n",
      "Precision: 0.5\n",
      "Recall: 0.4\n",
      "\n",
      "Problematic classes:\n",
      "  Atelectasis: AUC=0.806, F1=0.649\n",
      "  Cardiomegaly: AUC=0.850, F1=0.672\n",
      "  Consolidation: AUC=0.834, F1=0.600\n",
      "  Edema: AUC=0.827, F1=0.506\n",
      "  Fracture: AUC=0.730, F1=0.013\n",
      "  Lung Lesion: AUC=0.596, F1=0.048\n",
      "  No Finding: AUC=0.797, F1=0.560\n",
      "  Pleural Effusion: AUC=0.773, F1=0.575\n",
      "  Pleural Other: AUC=0.646, F1=0.013\n",
      "  Pneumonia: AUC=0.717, F1=0.016\n",
      "  Pneumothorax: AUC=0.620, F1=0.043\n",
      "  Support Devices: AUC=0.854, F1=0.682\n"
     ]
    },
    {
     "name": "stderr",
     "output_type": "stream",
     "text": [
      "Validation: 100%|██████████| 136/136 [00:15<00:00,  8.66it/s]\n"
     ]
    },
    {
     "name": "stdout",
     "output_type": "stream",
     "text": [
      "Epoch 1 validation loss: 0.71\n",
      "\n",
      "Validation metrics\n",
      "AUC: 0.8\n",
      "F1: 0.5\n",
      "Precision: 0.5\n",
      "Recall: 0.5\n",
      "\n",
      "Problematic classes:\n",
      "  Consolidation: AUC=0.872, F1=0.690\n",
      "  Edema: AUC=0.893, F1=0.692\n",
      "  Fracture: AUC=0.824, F1=0.000\n",
      "  Lung Lesion: AUC=0.676, F1=0.000\n",
      "  No Finding: AUC=0.831, F1=0.613\n",
      "  Pleural Effusion: AUC=0.833, F1=0.639\n",
      "  Pleural Other: AUC=0.761, F1=0.000\n",
      "  Pneumonia: AUC=0.801, F1=0.000\n",
      "  Pneumothorax: AUC=0.717, F1=0.000\n"
     ]
    },
    {
     "name": "stderr",
     "output_type": "stream",
     "text": [
      "Epoch 2/10 - train: 100%|██████████| 543/543 [01:12<00:00,  7.44it/s, Loss=0.38]\n"
     ]
    },
    {
     "name": "stdout",
     "output_type": "stream",
     "text": [
      "Epoch 2 train loss: 0.38\n",
      "\n",
      "Train metrics\n",
      "AUC: 0.8\n",
      "F1: 0.5\n",
      "Precision: 0.6\n",
      "Recall: 0.4\n",
      "\n",
      "Problematic classes:\n",
      "  Consolidation: AUC=0.873, F1=0.666\n",
      "  Edema: AUC=0.856, F1=0.588\n",
      "  Fracture: AUC=0.802, F1=0.067\n",
      "  Lung Lesion: AUC=0.643, F1=0.012\n",
      "  No Finding: AUC=0.828, F1=0.590\n",
      "  Pleural Effusion: AUC=0.829, F1=0.637\n",
      "  Pleural Other: AUC=0.703, F1=0.000\n",
      "  Pneumonia: AUC=0.765, F1=0.077\n",
      "  Pneumothorax: AUC=0.673, F1=0.000\n"
     ]
    },
    {
     "name": "stderr",
     "output_type": "stream",
     "text": [
      "Validation: 100%|██████████| 136/136 [00:15<00:00,  8.66it/s]\n"
     ]
    },
    {
     "name": "stdout",
     "output_type": "stream",
     "text": [
      "Epoch 2 validation loss: 0.70\n",
      "\n",
      "Validation metrics\n",
      "AUC: 0.9\n",
      "F1: 0.5\n",
      "Precision: 0.5\n",
      "Recall: 0.5\n",
      "\n",
      "Problematic classes:\n",
      "  Edema: AUC=0.895, F1=0.676\n",
      "  Fracture: AUC=0.865, F1=0.092\n",
      "  Lung Lesion: AUC=0.680, F1=0.000\n",
      "  No Finding: AUC=0.849, F1=0.664\n",
      "  Pleural Effusion: AUC=0.854, F1=0.682\n",
      "  Pleural Other: AUC=0.769, F1=0.000\n",
      "  Pneumonia: AUC=0.829, F1=0.055\n",
      "  Pneumothorax: AUC=0.750, F1=0.000\n"
     ]
    },
    {
     "name": "stderr",
     "output_type": "stream",
     "text": [
      "Epoch 3/10 - train: 100%|██████████| 543/543 [01:13<00:00,  7.39it/s, Loss=0.37]\n"
     ]
    },
    {
     "name": "stdout",
     "output_type": "stream",
     "text": [
      "Epoch 3 train loss: 0.37\n",
      "\n",
      "Train metrics\n",
      "AUC: 0.8\n",
      "F1: 0.5\n",
      "Precision: 0.6\n",
      "Recall: 0.5\n",
      "\n",
      "Problematic classes:\n",
      "  Edema: AUC=0.874, F1=0.632\n",
      "  Fracture: AUC=0.829, F1=0.128\n",
      "  Lung Lesion: AUC=0.662, F1=0.016\n",
      "  No Finding: AUC=0.842, F1=0.623\n",
      "  Pleural Effusion: AUC=0.846, F1=0.670\n",
      "  Pleural Other: AUC=0.747, F1=0.000\n",
      "  Pneumonia: AUC=0.800, F1=0.148\n",
      "  Pneumothorax: AUC=0.679, F1=0.000\n"
     ]
    },
    {
     "name": "stderr",
     "output_type": "stream",
     "text": [
      "Validation: 100%|██████████| 136/136 [00:15<00:00,  8.54it/s]\n"
     ]
    },
    {
     "name": "stdout",
     "output_type": "stream",
     "text": [
      "Epoch 3 validation loss: 0.69\n",
      "\n",
      "Validation metrics\n",
      "AUC: 0.9\n",
      "F1: 0.5\n",
      "Precision: 0.6\n",
      "Recall: 0.5\n",
      "\n",
      "Problematic classes:\n",
      "  Edema: AUC=0.896, F1=0.642\n",
      "  Fracture: AUC=0.858, F1=0.312\n",
      "  Lung Lesion: AUC=0.705, F1=0.000\n",
      "  No Finding: AUC=0.851, F1=0.646\n",
      "  Pleural Effusion: AUC=0.861, F1=0.692\n",
      "  Pleural Other: AUC=0.786, F1=0.000\n",
      "  Pneumonia: AUC=0.829, F1=0.028\n",
      "  Pneumothorax: AUC=0.714, F1=0.000\n"
     ]
    },
    {
     "name": "stderr",
     "output_type": "stream",
     "text": [
      "Epoch 4/10 - train: 100%|██████████| 543/543 [01:15<00:00,  7.22it/s, Loss=0.35]\n"
     ]
    },
    {
     "name": "stdout",
     "output_type": "stream",
     "text": [
      "Epoch 4 train loss: 0.35\n",
      "\n",
      "Train metrics\n",
      "AUC: 0.8\n",
      "F1: 0.5\n",
      "Precision: 0.6\n",
      "Recall: 0.5\n",
      "\n",
      "Problematic classes:\n",
      "  Edema: AUC=0.875, F1=0.624\n",
      "  Fracture: AUC=0.857, F1=0.283\n",
      "  Lung Lesion: AUC=0.718, F1=0.058\n",
      "  No Finding: AUC=0.857, F1=0.648\n",
      "  Pleural Effusion: AUC=0.858, F1=0.690\n",
      "  Pleural Other: AUC=0.785, F1=0.000\n",
      "  Pneumonia: AUC=0.812, F1=0.176\n",
      "  Pneumothorax: AUC=0.679, F1=0.000\n"
     ]
    },
    {
     "name": "stderr",
     "output_type": "stream",
     "text": [
      "Validation: 100%|██████████| 136/136 [00:15<00:00,  8.58it/s]\n"
     ]
    },
    {
     "name": "stdout",
     "output_type": "stream",
     "text": [
      "Epoch 4 validation loss: 0.69\n",
      "\n",
      "Validation metrics\n",
      "AUC: 0.9\n",
      "F1: 0.5\n",
      "Precision: 0.6\n",
      "Recall: 0.5\n",
      "\n",
      "Problematic classes:\n",
      "  Fracture: AUC=0.880, F1=0.398\n",
      "  Lung Lesion: AUC=0.715, F1=0.100\n",
      "  No Finding: AUC=0.850, F1=0.634\n",
      "  Pleural Effusion: AUC=0.869, F1=0.683\n",
      "  Pleural Other: AUC=0.811, F1=0.000\n",
      "  Pneumonia: AUC=0.852, F1=0.241\n",
      "  Pneumothorax: AUC=0.758, F1=0.000\n"
     ]
    },
    {
     "name": "stderr",
     "output_type": "stream",
     "text": [
      "Epoch 5/10 - train: 100%|██████████| 543/543 [01:14<00:00,  7.32it/s, Loss=0.34]\n"
     ]
    },
    {
     "name": "stdout",
     "output_type": "stream",
     "text": [
      "Epoch 5 train loss: 0.34\n",
      "\n",
      "Train metrics\n",
      "AUC: 0.9\n",
      "F1: 0.5\n",
      "Precision: 0.6\n",
      "Recall: 0.5\n",
      "\n",
      "Problematic classes:\n",
      "  Edema: AUC=0.892, F1=0.671\n",
      "  Fracture: AUC=0.858, F1=0.345\n",
      "  Lung Lesion: AUC=0.737, F1=0.120\n",
      "  No Finding: AUC=0.866, F1=0.660\n",
      "  Pleural Effusion: AUC=0.868, F1=0.698\n",
      "  Pleural Other: AUC=0.788, F1=0.015\n",
      "  Pneumonia: AUC=0.819, F1=0.265\n",
      "  Pneumothorax: AUC=0.730, F1=0.000\n"
     ]
    },
    {
     "name": "stderr",
     "output_type": "stream",
     "text": [
      "Validation: 100%|██████████| 136/136 [00:15<00:00,  8.69it/s]\n"
     ]
    },
    {
     "name": "stdout",
     "output_type": "stream",
     "text": [
      "Epoch 5 validation loss: 0.69\n",
      "\n",
      "Validation metrics\n",
      "AUC: 0.9\n",
      "F1: 0.5\n",
      "Precision: 0.6\n",
      "Recall: 0.5\n",
      "\n",
      "Problematic classes:\n",
      "  Fracture: AUC=0.853, F1=0.388\n",
      "  Lung Lesion: AUC=0.728, F1=0.101\n",
      "  No Finding: AUC=0.847, F1=0.659\n",
      "  Pleural Effusion: AUC=0.871, F1=0.668\n",
      "  Pleural Other: AUC=0.774, F1=0.000\n",
      "  Pneumonia: AUC=0.833, F1=0.269\n",
      "  Pneumothorax: AUC=0.715, F1=0.000\n"
     ]
    },
    {
     "name": "stderr",
     "output_type": "stream",
     "text": [
      "Epoch 6/10 - train: 100%|██████████| 543/543 [01:12<00:00,  7.47it/s, Loss=0.33]\n"
     ]
    },
    {
     "name": "stdout",
     "output_type": "stream",
     "text": [
      "Epoch 6 train loss: 0.33\n",
      "\n",
      "Train metrics\n",
      "AUC: 0.9\n",
      "F1: 0.5\n",
      "Precision: 0.7\n",
      "Recall: 0.5\n",
      "\n",
      "Problematic classes:\n",
      "  Edema: AUC=0.897, F1=0.674\n",
      "  Fracture: AUC=0.872, F1=0.359\n",
      "  Lung Lesion: AUC=0.744, F1=0.185\n",
      "  No Finding: AUC=0.865, F1=0.656\n",
      "  Pleural Other: AUC=0.818, F1=0.022\n",
      "  Pneumonia: AUC=0.842, F1=0.329\n",
      "  Pneumothorax: AUC=0.734, F1=0.000\n"
     ]
    },
    {
     "name": "stderr",
     "output_type": "stream",
     "text": [
      "Validation: 100%|██████████| 136/136 [00:15<00:00,  8.73it/s]\n"
     ]
    },
    {
     "name": "stdout",
     "output_type": "stream",
     "text": [
      "Epoch 6 validation loss: 0.69\n",
      "\n",
      "Validation metrics\n",
      "AUC: 0.9\n",
      "F1: 0.5\n",
      "Precision: 0.7\n",
      "Recall: 0.5\n",
      "\n",
      "Problematic classes:\n",
      "  Edema: AUC=0.899, F1=0.665\n",
      "  Fracture: AUC=0.870, F1=0.351\n",
      "  Lung Lesion: AUC=0.732, F1=0.139\n",
      "  No Finding: AUC=0.844, F1=0.627\n",
      "  Pleural Effusion: AUC=0.864, F1=0.691\n",
      "  Pleural Other: AUC=0.799, F1=0.054\n",
      "  Pneumonia: AUC=0.835, F1=0.294\n",
      "  Pneumothorax: AUC=0.751, F1=0.000\n"
     ]
    },
    {
     "name": "stderr",
     "output_type": "stream",
     "text": [
      "Epoch 7/10 - train: 100%|██████████| 543/543 [01:14<00:00,  7.33it/s, Loss=0.32]\n"
     ]
    },
    {
     "name": "stdout",
     "output_type": "stream",
     "text": [
      "Epoch 7 train loss: 0.32\n",
      "\n",
      "Train metrics\n",
      "AUC: 0.9\n",
      "F1: 0.6\n",
      "Precision: 0.7\n",
      "Recall: 0.5\n",
      "\n",
      "Problematic classes:\n",
      "  Edema: AUC=0.903, F1=0.686\n",
      "  Fracture: AUC=0.889, F1=0.431\n",
      "  Lung Lesion: AUC=0.779, F1=0.198\n",
      "  No Finding: AUC=0.876, F1=0.679\n",
      "  Pleural Other: AUC=0.827, F1=0.069\n",
      "  Pneumonia: AUC=0.856, F1=0.415\n",
      "  Pneumothorax: AUC=0.724, F1=0.000\n"
     ]
    },
    {
     "name": "stderr",
     "output_type": "stream",
     "text": [
      "Validation: 100%|██████████| 136/136 [00:15<00:00,  8.69it/s]\n"
     ]
    },
    {
     "name": "stdout",
     "output_type": "stream",
     "text": [
      "Epoch 7 validation loss: 0.69\n",
      "\n",
      "Validation metrics\n",
      "AUC: 0.9\n",
      "F1: 0.6\n",
      "Precision: 0.6\n",
      "Recall: 0.6\n",
      "\n",
      "Problematic classes:\n",
      "  Edema: AUC=0.900, F1=0.685\n",
      "  Fracture: AUC=0.875, F1=0.498\n",
      "  Lung Lesion: AUC=0.742, F1=0.282\n",
      "  No Finding: AUC=0.853, F1=0.641\n",
      "  Pleural Effusion: AUC=0.868, F1=0.692\n",
      "  Pleural Other: AUC=0.798, F1=0.051\n",
      "  Pneumonia: AUC=0.856, F1=0.463\n",
      "  Pneumothorax: AUC=0.791, F1=0.000\n"
     ]
    },
    {
     "name": "stderr",
     "output_type": "stream",
     "text": [
      "Epoch 8/10 - train: 100%|██████████| 543/543 [01:12<00:00,  7.46it/s, Loss=0.31]\n"
     ]
    },
    {
     "name": "stdout",
     "output_type": "stream",
     "text": [
      "Epoch 8 train loss: 0.31\n",
      "\n",
      "Train metrics\n",
      "AUC: 0.9\n",
      "F1: 0.6\n",
      "Precision: 0.7\n",
      "Recall: 0.6\n",
      "\n",
      "Problematic classes:\n",
      "  Fracture: AUC=0.893, F1=0.474\n",
      "  Lung Lesion: AUC=0.788, F1=0.260\n",
      "  Pleural Other: AUC=0.845, F1=0.144\n",
      "  Pneumonia: AUC=0.869, F1=0.448\n",
      "  Pneumothorax: AUC=0.769, F1=0.006\n"
     ]
    },
    {
     "name": "stderr",
     "output_type": "stream",
     "text": [
      "Validation: 100%|██████████| 136/136 [00:15<00:00,  8.56it/s]\n"
     ]
    },
    {
     "name": "stdout",
     "output_type": "stream",
     "text": [
      "Epoch 8 validation loss: 0.68\n",
      "\n",
      "Validation metrics\n",
      "AUC: 0.9\n",
      "F1: 0.6\n",
      "Precision: 0.7\n",
      "Recall: 0.5\n",
      "\n",
      "Problematic classes:\n",
      "  Fracture: AUC=0.879, F1=0.412\n",
      "  Lung Lesion: AUC=0.759, F1=0.292\n",
      "  No Finding: AUC=0.853, F1=0.672\n",
      "  Pleural Effusion: AUC=0.881, F1=0.654\n",
      "  Pleural Other: AUC=0.791, F1=0.171\n",
      "  Pneumonia: AUC=0.869, F1=0.502\n",
      "  Pneumothorax: AUC=0.799, F1=0.000\n"
     ]
    },
    {
     "name": "stderr",
     "output_type": "stream",
     "text": [
      "Epoch 9/10 - train: 100%|██████████| 543/543 [01:13<00:00,  7.37it/s, Loss=0.30]\n"
     ]
    },
    {
     "name": "stdout",
     "output_type": "stream",
     "text": [
      "Epoch 9 train loss: 0.30\n",
      "\n",
      "Train metrics\n",
      "AUC: 0.9\n",
      "F1: 0.6\n",
      "Precision: 0.7\n",
      "Recall: 0.6\n",
      "\n",
      "Problematic classes:\n",
      "  Fracture: AUC=0.906, F1=0.502\n",
      "  Lung Lesion: AUC=0.801, F1=0.303\n",
      "  Pleural Other: AUC=0.867, F1=0.222\n",
      "  Pneumonia: AUC=0.866, F1=0.473\n",
      "  Pneumothorax: AUC=0.778, F1=0.006\n"
     ]
    },
    {
     "name": "stderr",
     "output_type": "stream",
     "text": [
      "Validation: 100%|██████████| 136/136 [00:15<00:00,  8.66it/s]\n"
     ]
    },
    {
     "name": "stdout",
     "output_type": "stream",
     "text": [
      "Epoch 9 validation loss: 0.68\n",
      "\n",
      "Validation metrics\n",
      "AUC: 0.9\n",
      "F1: 0.6\n",
      "Precision: 0.6\n",
      "Recall: 0.6\n",
      "\n",
      "Problematic classes:\n",
      "  Fracture: AUC=0.866, F1=0.490\n",
      "  Lung Lesion: AUC=0.764, F1=0.218\n",
      "  No Finding: AUC=0.859, F1=0.691\n",
      "  Pleural Other: AUC=0.798, F1=0.136\n",
      "  Pneumonia: AUC=0.855, F1=0.428\n",
      "  Pneumothorax: AUC=0.787, F1=0.000\n"
     ]
    },
    {
     "name": "stderr",
     "output_type": "stream",
     "text": [
      "Epoch 10/10 - train: 100%|██████████| 543/543 [01:12<00:00,  7.48it/s, Loss=0.29]\n"
     ]
    },
    {
     "name": "stdout",
     "output_type": "stream",
     "text": [
      "Epoch 10 train loss: 0.29\n",
      "\n",
      "Train metrics\n",
      "AUC: 0.9\n",
      "F1: 0.6\n",
      "Precision: 0.7\n",
      "Recall: 0.6\n",
      "\n",
      "Problematic classes:\n",
      "  Fracture: AUC=0.910, F1=0.559\n",
      "  Lung Lesion: AUC=0.815, F1=0.336\n",
      "  Pleural Other: AUC=0.866, F1=0.265\n",
      "  Pneumonia: AUC=0.887, F1=0.530\n",
      "  Pneumothorax: AUC=0.798, F1=0.000\n"
     ]
    },
    {
     "name": "stderr",
     "output_type": "stream",
     "text": [
      "Validation: 100%|██████████| 136/136 [00:15<00:00,  8.72it/s]\n"
     ]
    },
    {
     "name": "stdout",
     "output_type": "stream",
     "text": [
      "Epoch 10 validation loss: 0.68\n",
      "\n",
      "Validation metrics\n",
      "AUC: 0.9\n",
      "F1: 0.5\n",
      "Precision: 0.7\n",
      "Recall: 0.5\n",
      "\n",
      "Problematic classes:\n",
      "  Cardiomegaly: AUC=0.898, F1=0.696\n",
      "  Consolidation: AUC=0.897, F1=0.694\n",
      "  Edema: AUC=0.885, F1=0.585\n",
      "  Fracture: AUC=0.856, F1=0.462\n",
      "  Lung Lesion: AUC=0.755, F1=0.242\n",
      "  No Finding: AUC=0.847, F1=0.673\n",
      "  Pleural Effusion: AUC=0.871, F1=0.662\n",
      "  Pleural Other: AUC=0.790, F1=0.191\n",
      "  Pneumonia: AUC=0.855, F1=0.469\n",
      "  Pneumothorax: AUC=0.783, F1=0.000\n",
      "  Support Devices: AUC=0.926, F1=0.696\n",
      "The best validation AUC: 0.873791515827179\n"
     ]
    },
    {
     "data": {
      "image/png": "[encoded data removed]",
      "text/plain": [
       "<Figure size 1500x400 with 3 Axes>"
      ]
     },
     "metadata": {},
     "output_type": "display_data"
    },
    {
     "data": {
      "image/png": "[encoded data removed]",
      "text/plain": [
       "<Figure size 3000x400 with 1 Axes>"
      ]
     },
     "metadata": {},
     "output_type": "display_data"
    },
    {
     "name": "stderr",
     "output_type": "stream",
     "text": [
      "/usr/local/lib/python3.11/dist-packages/torchvision/models/_utils.py:208: UserWarning: The parameter 'pretrained' is deprecated since 0.13 and may be removed in the future, please use 'weights' instead.\n",
      "  warnings.warn(\n",
      "/usr/local/lib/python3.11/dist-packages/torchvision/models/_utils.py:223: UserWarning: Arguments other than a weight enum or `None` for 'weights' are deprecated since 0.13 and may be removed in the future. The current behavior is equivalent to passing `weights=EfficientNet_B0_Weights.IMAGENET1K_V1`. You can also use `weights=EfficientNet_B0_Weights.DEFAULT` to get the most up-to-date weights.\n",
      "  warnings.warn(msg)\n",
      "Downloading: \"https://download.pytorch.org/models/efficientnet_b0_rwightman-7f5810bc.pth\" to /root/.cache/torch/hub/checkpoints/efficientnet_b0_rwightman-7f5810bc.pth\n",
      "100%|██████████| 20.5M/20.5M [00:00<00:00, 145MB/s]\n"
     ]
    },
    {
     "name": "stdout",
     "output_type": "stream",
     "text": [
      "Model_name: efficientnet_b0\n"
     ]
    },
    {
     "name": "stderr",
     "output_type": "stream",
     "text": [
      "Epoch 1/10 - train: 100%|██████████| 543/543 [01:07<00:00,  7.99it/s, Loss=0.46]\n"
     ]
    },
    {
     "name": "stdout",
     "output_type": "stream",
     "text": [
      "Epoch 1 train loss: 0.46\n",
      "\n",
      "Train metrics\n",
      "AUC: 0.7\n",
      "F1: 0.4\n",
      "Precision: 0.4\n",
      "Recall: 0.3\n",
      "\n",
      "Problematic classes:\n",
      "  Atelectasis: AUC=0.762, F1=0.583\n",
      "  Cardiomegaly: AUC=0.801, F1=0.547\n",
      "  Consolidation: AUC=0.779, F1=0.520\n",
      "  Edema: AUC=0.789, F1=0.454\n",
      "  Fracture: AUC=0.670, F1=0.024\n",
      "  Lung Lesion: AUC=0.541, F1=0.031\n",
      "  Lung Opacity: AUC=0.790, F1=0.694\n",
      "  No Finding: AUC=0.739, F1=0.471\n",
      "  Pleural Effusion: AUC=0.725, F1=0.538\n",
      "  Pleural Other: AUC=0.528, F1=0.000\n",
      "  Pneumonia: AUC=0.662, F1=0.006\n",
      "  Pneumothorax: AUC=0.563, F1=0.020\n",
      "  Support Devices: AUC=0.828, F1=0.640\n"
     ]
    },
    {
     "name": "stderr",
     "output_type": "stream",
     "text": [
      "Validation: 100%|██████████| 136/136 [00:15<00:00,  8.93it/s]\n"
     ]
    },
    {
     "name": "stdout",
     "output_type": "stream",
     "text": [
      "Epoch 1 validation loss: 0.71\n",
      "\n",
      "Validation metrics\n",
      "AUC: 0.8\n",
      "F1: 0.5\n",
      "Precision: 0.4\n",
      "Recall: 0.5\n",
      "\n",
      "Problematic classes:\n",
      "  Consolidation: AUC=0.854, F1=0.676\n",
      "  Edema: AUC=0.874, F1=0.676\n",
      "  Fracture: AUC=0.755, F1=0.000\n",
      "  Lung Lesion: AUC=0.611, F1=0.000\n",
      "  No Finding: AUC=0.814, F1=0.608\n",
      "  Pleural Effusion: AUC=0.788, F1=0.601\n",
      "  Pleural Other: AUC=0.609, F1=0.000\n",
      "  Pneumonia: AUC=0.783, F1=0.000\n",
      "  Pneumothorax: AUC=0.711, F1=0.000\n"
     ]
    },
    {
     "name": "stderr",
     "output_type": "stream",
     "text": [
      "Epoch 2/10 - train: 100%|██████████| 543/543 [01:06<00:00,  8.15it/s, Loss=0.40]\n"
     ]
    },
    {
     "name": "stdout",
     "output_type": "stream",
     "text": [
      "Epoch 2 train loss: 0.40\n",
      "\n",
      "Train metrics\n",
      "AUC: 0.8\n",
      "F1: 0.4\n",
      "Precision: 0.5\n",
      "Recall: 0.4\n",
      "\n",
      "Problematic classes:\n",
      "  Atelectasis: AUC=0.819, F1=0.692\n",
      "  Consolidation: AUC=0.860, F1=0.644\n",
      "  Edema: AUC=0.852, F1=0.601\n",
      "  Fracture: AUC=0.759, F1=0.006\n",
      "  Lung Lesion: AUC=0.620, F1=0.000\n",
      "  No Finding: AUC=0.807, F1=0.573\n",
      "  Pleural Effusion: AUC=0.796, F1=0.604\n",
      "  Pleural Other: AUC=0.631, F1=0.000\n",
      "  Pneumonia: AUC=0.745, F1=0.013\n",
      "  Pneumothorax: AUC=0.641, F1=0.000\n"
     ]
    },
    {
     "name": "stderr",
     "output_type": "stream",
     "text": [
      "Validation: 100%|██████████| 136/136 [00:15<00:00,  8.89it/s]\n"
     ]
    },
    {
     "name": "stdout",
     "output_type": "stream",
     "text": [
      "Epoch 2 validation loss: 0.71\n",
      "\n",
      "Validation metrics\n",
      "AUC: 0.8\n",
      "F1: 0.5\n",
      "Precision: 0.4\n",
      "Recall: 0.5\n",
      "\n",
      "Problematic classes:\n",
      "  Consolidation: AUC=0.865, F1=0.698\n",
      "  Edema: AUC=0.886, F1=0.698\n",
      "  Fracture: AUC=0.807, F1=0.000\n",
      "  Lung Lesion: AUC=0.634, F1=0.000\n",
      "  No Finding: AUC=0.828, F1=0.595\n",
      "  Pleural Effusion: AUC=0.812, F1=0.626\n",
      "  Pleural Other: AUC=0.657, F1=0.000\n",
      "  Pneumonia: AUC=0.800, F1=0.000\n",
      "  Pneumothorax: AUC=0.728, F1=0.000\n"
     ]
    },
    {
     "name": "stderr",
     "output_type": "stream",
     "text": [
      "Epoch 3/10 - train: 100%|██████████| 543/543 [01:07<00:00,  8.08it/s, Loss=0.39]\n"
     ]
    },
    {
     "name": "stdout",
     "output_type": "stream",
     "text": [
      "Epoch 3 train loss: 0.38\n",
      "\n",
      "Train metrics\n",
      "AUC: 0.8\n",
      "F1: 0.4\n",
      "Precision: 0.5\n",
      "Recall: 0.4\n",
      "\n",
      "Problematic classes:\n",
      "  Atelectasis: AUC=0.826, F1=0.693\n",
      "  Consolidation: AUC=0.867, F1=0.663\n",
      "  Edema: AUC=0.864, F1=0.629\n",
      "  Fracture: AUC=0.792, F1=0.013\n",
      "  Lung Lesion: AUC=0.636, F1=0.000\n",
      "  No Finding: AUC=0.818, F1=0.578\n",
      "  Pleural Effusion: AUC=0.804, F1=0.603\n",
      "  Pleural Other: AUC=0.683, F1=0.000\n",
      "  Pneumonia: AUC=0.754, F1=0.016\n",
      "  Pneumothorax: AUC=0.661, F1=0.000\n"
     ]
    },
    {
     "name": "stderr",
     "output_type": "stream",
     "text": [
      "Validation: 100%|██████████| 136/136 [00:14<00:00,  9.09it/s]\n"
     ]
    },
    {
     "name": "stdout",
     "output_type": "stream",
     "text": [
      "Epoch 3 validation loss: 0.71\n",
      "\n",
      "Validation metrics\n",
      "AUC: 0.8\n",
      "F1: 0.5\n",
      "Precision: 0.5\n",
      "Recall: 0.5\n",
      "\n",
      "Problematic classes:\n",
      "  Fracture: AUC=0.831, F1=0.041\n",
      "  Lung Lesion: AUC=0.645, F1=0.000\n",
      "  No Finding: AUC=0.842, F1=0.640\n",
      "  Pleural Effusion: AUC=0.822, F1=0.643\n",
      "  Pleural Other: AUC=0.709, F1=0.000\n",
      "  Pneumonia: AUC=0.804, F1=0.000\n",
      "  Pneumothorax: AUC=0.751, F1=0.000\n"
     ]
    },
    {
     "name": "stderr",
     "output_type": "stream",
     "text": [
      "Epoch 4/10 - train: 100%|██████████| 543/543 [01:06<00:00,  8.15it/s, Loss=0.38]\n"
     ]
    },
    {
     "name": "stdout",
     "output_type": "stream",
     "text": [
      "Epoch 4 train loss: 0.38\n",
      "\n",
      "Train metrics\n",
      "AUC: 0.8\n",
      "F1: 0.5\n",
      "Precision: 0.5\n",
      "Recall: 0.4\n",
      "\n",
      "Problematic classes:\n",
      "  Consolidation: AUC=0.878, F1=0.676\n",
      "  Edema: AUC=0.866, F1=0.640\n",
      "  Fracture: AUC=0.809, F1=0.032\n",
      "  Lung Lesion: AUC=0.632, F1=0.000\n",
      "  No Finding: AUC=0.831, F1=0.605\n",
      "  Pleural Effusion: AUC=0.813, F1=0.622\n",
      "  Pleural Other: AUC=0.720, F1=0.000\n",
      "  Pneumonia: AUC=0.770, F1=0.038\n",
      "  Pneumothorax: AUC=0.641, F1=0.000\n"
     ]
    },
    {
     "name": "stderr",
     "output_type": "stream",
     "text": [
      "Validation: 100%|██████████| 136/136 [00:15<00:00,  8.82it/s]\n"
     ]
    },
    {
     "name": "stdout",
     "output_type": "stream",
     "text": [
      "Epoch 4 validation loss: 0.70\n",
      "\n",
      "Validation metrics\n",
      "AUC: 0.8\n",
      "F1: 0.5\n",
      "Precision: 0.6\n",
      "Recall: 0.5\n",
      "\n",
      "Problematic classes:\n",
      "  Edema: AUC=0.894, F1=0.696\n",
      "  Fracture: AUC=0.846, F1=0.028\n",
      "  Lung Lesion: AUC=0.651, F1=0.000\n",
      "  No Finding: AUC=0.849, F1=0.653\n",
      "  Pleural Effusion: AUC=0.834, F1=0.633\n",
      "  Pleural Other: AUC=0.760, F1=0.000\n",
      "  Pneumonia: AUC=0.803, F1=0.014\n",
      "  Pneumothorax: AUC=0.765, F1=0.000\n"
     ]
    },
    {
     "name": "stderr",
     "output_type": "stream",
     "text": [
      "Epoch 5/10 - train: 100%|██████████| 543/543 [01:07<00:00,  8.01it/s, Loss=0.37]\n"
     ]
    },
    {
     "name": "stdout",
     "output_type": "stream",
     "text": [
      "Epoch 5 train loss: 0.37\n",
      "\n",
      "Train metrics\n",
      "AUC: 0.8\n",
      "F1: 0.5\n",
      "Precision: 0.5\n",
      "Recall: 0.4\n",
      "\n",
      "Problematic classes:\n",
      "  Consolidation: AUC=0.883, F1=0.691\n",
      "  Edema: AUC=0.878, F1=0.650\n",
      "  Fracture: AUC=0.826, F1=0.050\n",
      "  Lung Lesion: AUC=0.683, F1=0.000\n",
      "  No Finding: AUC=0.837, F1=0.613\n",
      "  Pleural Effusion: AUC=0.825, F1=0.631\n",
      "  Pleural Other: AUC=0.756, F1=0.000\n",
      "  Pneumonia: AUC=0.786, F1=0.032\n",
      "  Pneumothorax: AUC=0.688, F1=0.000\n"
     ]
    },
    {
     "name": "stderr",
     "output_type": "stream",
     "text": [
      "Validation: 100%|██████████| 136/136 [00:15<00:00,  9.01it/s]\n"
     ]
    },
    {
     "name": "stdout",
     "output_type": "stream",
     "text": [
      "Epoch 5 validation loss: 0.69\n",
      "\n",
      "Validation metrics\n",
      "AUC: 0.8\n",
      "F1: 0.5\n",
      "Precision: 0.5\n",
      "Recall: 0.5\n",
      "\n",
      "Problematic classes:\n",
      "  Consolidation: AUC=0.884, F1=0.700\n",
      "  Edema: AUC=0.894, F1=0.676\n",
      "  Fracture: AUC=0.836, F1=0.118\n",
      "  Lung Lesion: AUC=0.667, F1=0.000\n",
      "  No Finding: AUC=0.848, F1=0.668\n",
      "  Pleural Effusion: AUC=0.842, F1=0.632\n",
      "  Pleural Other: AUC=0.762, F1=0.000\n",
      "  Pneumonia: AUC=0.804, F1=0.000\n",
      "  Pneumothorax: AUC=0.754, F1=0.000\n"
     ]
    },
    {
     "name": "stderr",
     "output_type": "stream",
     "text": [
      "Epoch 6/10 - train: 100%|██████████| 543/543 [01:06<00:00,  8.14it/s, Loss=0.35]\n"
     ]
    },
    {
     "name": "stdout",
     "output_type": "stream",
     "text": [
      "Epoch 6 train loss: 0.35\n",
      "\n",
      "Train metrics\n",
      "AUC: 0.8\n",
      "F1: 0.5\n",
      "Precision: 0.6\n",
      "Recall: 0.5\n",
      "\n",
      "Problematic classes:\n",
      "  Edema: AUC=0.883, F1=0.662\n",
      "  Fracture: AUC=0.844, F1=0.142\n",
      "  Lung Lesion: AUC=0.684, F1=0.000\n",
      "  No Finding: AUC=0.853, F1=0.648\n",
      "  Pleural Effusion: AUC=0.847, F1=0.667\n",
      "  Pleural Other: AUC=0.793, F1=0.000\n",
      "  Pneumonia: AUC=0.816, F1=0.071\n",
      "  Pneumothorax: AUC=0.701, F1=0.000\n"
     ]
    },
    {
     "name": "stderr",
     "output_type": "stream",
     "text": [
      "Validation: 100%|██████████| 136/136 [00:15<00:00,  8.93it/s]\n"
     ]
    },
    {
     "name": "stdout",
     "output_type": "stream",
     "text": [
      "Epoch 6 validation loss: 0.70\n",
      "\n",
      "Validation metrics\n",
      "AUC: 0.8\n",
      "F1: 0.5\n",
      "Precision: 0.5\n",
      "Recall: 0.5\n",
      "\n",
      "Problematic classes:\n",
      "  Fracture: AUC=0.853, F1=0.204\n",
      "  Lung Lesion: AUC=0.667, F1=0.000\n",
      "  No Finding: AUC=0.856, F1=0.664\n",
      "  Pleural Effusion: AUC=0.851, F1=0.675\n",
      "  Pleural Other: AUC=0.764, F1=0.000\n",
      "  Pneumonia: AUC=0.809, F1=0.079\n",
      "  Pneumothorax: AUC=0.750, F1=0.000\n"
     ]
    },
    {
     "name": "stderr",
     "output_type": "stream",
     "text": [
      "Epoch 7/10 - train: 100%|██████████| 543/543 [01:06<00:00,  8.21it/s, Loss=0.35]\n"
     ]
    },
    {
     "name": "stdout",
     "output_type": "stream",
     "text": [
      "Epoch 7 train loss: 0.35\n",
      "\n",
      "Train metrics\n",
      "AUC: 0.8\n",
      "F1: 0.5\n",
      "Precision: 0.6\n",
      "Recall: 0.5\n",
      "\n",
      "Problematic classes:\n",
      "  Edema: AUC=0.883, F1=0.660\n",
      "  Fracture: AUC=0.853, F1=0.192\n",
      "  Lung Lesion: AUC=0.671, F1=0.004\n",
      "  No Finding: AUC=0.852, F1=0.639\n",
      "  Pleural Effusion: AUC=0.853, F1=0.668\n",
      "  Pleural Other: AUC=0.779, F1=0.000\n",
      "  Pneumonia: AUC=0.810, F1=0.087\n",
      "  Pneumothorax: AUC=0.710, F1=0.000\n"
     ]
    },
    {
     "name": "stderr",
     "output_type": "stream",
     "text": [
      "Validation: 100%|██████████| 136/136 [00:15<00:00,  9.03it/s]\n"
     ]
    },
    {
     "name": "stdout",
     "output_type": "stream",
     "text": [
      "Epoch 7 validation loss: 0.70\n",
      "\n",
      "Validation metrics\n",
      "AUC: 0.9\n",
      "F1: 0.5\n",
      "Precision: 0.6\n",
      "Recall: 0.5\n",
      "\n",
      "Problematic classes:\n",
      "  Edema: AUC=0.900, F1=0.683\n",
      "  Fracture: AUC=0.854, F1=0.312\n",
      "  Lung Lesion: AUC=0.677, F1=0.000\n",
      "  No Finding: AUC=0.853, F1=0.655\n",
      "  Pleural Effusion: AUC=0.854, F1=0.672\n",
      "  Pleural Other: AUC=0.768, F1=0.000\n",
      "  Pneumonia: AUC=0.822, F1=0.055\n",
      "  Pneumothorax: AUC=0.749, F1=0.000\n"
     ]
    },
    {
     "name": "stderr",
     "output_type": "stream",
     "text": [
      "Epoch 8/10 - train: 100%|██████████| 543/543 [01:05<00:00,  8.24it/s, Loss=0.34]\n"
     ]
    },
    {
     "name": "stdout",
     "output_type": "stream",
     "text": [
      "Epoch 8 train loss: 0.34\n",
      "\n",
      "Train metrics\n",
      "AUC: 0.8\n",
      "F1: 0.5\n",
      "Precision: 0.7\n",
      "Recall: 0.5\n",
      "\n",
      "Problematic classes:\n",
      "  Edema: AUC=0.886, F1=0.669\n",
      "  Fracture: AUC=0.861, F1=0.270\n",
      "  Lung Lesion: AUC=0.693, F1=0.008\n",
      "  No Finding: AUC=0.858, F1=0.656\n",
      "  Pleural Effusion: AUC=0.855, F1=0.672\n",
      "  Pleural Other: AUC=0.803, F1=0.007\n",
      "  Pneumonia: AUC=0.817, F1=0.131\n",
      "  Pneumothorax: AUC=0.699, F1=0.000\n"
     ]
    },
    {
     "name": "stderr",
     "output_type": "stream",
     "text": [
      "Validation: 100%|██████████| 136/136 [00:14<00:00,  9.08it/s]\n"
     ]
    },
    {
     "name": "stdout",
     "output_type": "stream",
     "text": [
      "Epoch 8 validation loss: 0.70\n",
      "\n",
      "Validation metrics\n",
      "AUC: 0.9\n",
      "F1: 0.5\n",
      "Precision: 0.5\n",
      "Recall: 0.5\n",
      "\n",
      "Problematic classes:\n",
      "  Edema: AUC=0.896, F1=0.699\n",
      "  Fracture: AUC=0.858, F1=0.365\n",
      "  Lung Lesion: AUC=0.702, F1=0.000\n",
      "  No Finding: AUC=0.862, F1=0.654\n",
      "  Pleural Effusion: AUC=0.856, F1=0.683\n",
      "  Pleural Other: AUC=0.780, F1=0.000\n",
      "  Pneumonia: AUC=0.837, F1=0.182\n",
      "  Pneumothorax: AUC=0.775, F1=0.000\n"
     ]
    },
    {
     "name": "stderr",
     "output_type": "stream",
     "text": [
      "Epoch 9/10 - train: 100%|██████████| 543/543 [01:06<00:00,  8.11it/s, Loss=0.34]\n"
     ]
    },
    {
     "name": "stdout",
     "output_type": "stream",
     "text": [
      "Epoch 9 train loss: 0.34\n",
      "\n",
      "Train metrics\n",
      "AUC: 0.9\n",
      "F1: 0.5\n",
      "Precision: 0.6\n",
      "Recall: 0.5\n",
      "\n",
      "Problematic classes:\n",
      "  Edema: AUC=0.894, F1=0.670\n",
      "  Fracture: AUC=0.871, F1=0.289\n",
      "  Lung Lesion: AUC=0.722, F1=0.008\n",
      "  No Finding: AUC=0.869, F1=0.677\n",
      "  Pleural Effusion: AUC=0.867, F1=0.694\n",
      "  Pleural Other: AUC=0.813, F1=0.000\n",
      "  Pneumonia: AUC=0.828, F1=0.163\n",
      "  Pneumothorax: AUC=0.707, F1=0.000\n"
     ]
    },
    {
     "name": "stderr",
     "output_type": "stream",
     "text": [
      "Validation: 100%|██████████| 136/136 [00:15<00:00,  8.89it/s]\n"
     ]
    },
    {
     "name": "stdout",
     "output_type": "stream",
     "text": [
      "Epoch 9 validation loss: 0.69\n",
      "\n",
      "Validation metrics\n",
      "AUC: 0.9\n",
      "F1: 0.5\n",
      "Precision: 0.6\n",
      "Recall: 0.5\n",
      "\n",
      "Problematic classes:\n",
      "  Edema: AUC=0.896, F1=0.681\n",
      "  Fracture: AUC=0.853, F1=0.402\n",
      "  Lung Lesion: AUC=0.700, F1=0.000\n",
      "  No Finding: AUC=0.848, F1=0.637\n",
      "  Pleural Effusion: AUC=0.858, F1=0.694\n",
      "  Pleural Other: AUC=0.772, F1=0.000\n",
      "  Pneumonia: AUC=0.826, F1=0.263\n",
      "  Pneumothorax: AUC=0.767, F1=0.000\n"
     ]
    },
    {
     "name": "stderr",
     "output_type": "stream",
     "text": [
      "Epoch 10/10 - train: 100%|██████████| 543/543 [01:07<00:00,  8.10it/s, Loss=0.33]\n"
     ]
    },
    {
     "name": "stdout",
     "output_type": "stream",
     "text": [
      "Epoch 10 train loss: 0.33\n",
      "\n",
      "Train metrics\n",
      "AUC: 0.9\n",
      "F1: 0.5\n",
      "Precision: 0.7\n",
      "Recall: 0.5\n",
      "\n",
      "Problematic classes:\n",
      "  Edema: AUC=0.899, F1=0.685\n",
      "  Fracture: AUC=0.880, F1=0.329\n",
      "  Lung Lesion: AUC=0.706, F1=0.016\n",
      "  No Finding: AUC=0.869, F1=0.666\n",
      "  Pleural Other: AUC=0.817, F1=0.015\n",
      "  Pneumonia: AUC=0.828, F1=0.197\n",
      "  Pneumothorax: AUC=0.717, F1=0.000\n"
     ]
    },
    {
     "name": "stderr",
     "output_type": "stream",
     "text": [
      "Validation: 100%|██████████| 136/136 [00:15<00:00,  8.89it/s]\n"
     ]
    },
    {
     "name": "stdout",
     "output_type": "stream",
     "text": [
      "Epoch 10 validation loss: 0.69\n",
      "\n",
      "Validation metrics\n",
      "AUC: 0.9\n",
      "F1: 0.5\n",
      "Precision: 0.6\n",
      "Recall: 0.5\n",
      "\n",
      "Problematic classes:\n",
      "  Edema: AUC=0.899, F1=0.686\n",
      "  Fracture: AUC=0.862, F1=0.450\n",
      "  Lung Lesion: AUC=0.713, F1=0.000\n",
      "  No Finding: AUC=0.857, F1=0.669\n",
      "  Pleural Effusion: AUC=0.863, F1=0.683\n",
      "  Pleural Other: AUC=0.793, F1=0.000\n",
      "  Pneumonia: AUC=0.840, F1=0.245\n",
      "  Pneumothorax: AUC=0.776, F1=0.000\n",
      "The best validation AUC: 0.8611077070236206\n"
     ]
    },
    {
     "data": {
      "image/png": "[encoded data removed]",
      "text/plain": [
       "<Figure size 1500x400 with 3 Axes>"
      ]
     },
     "metadata": {},
     "output_type": "display_data"
    },
    {
     "data": {
      "image/png": "[encoded data removed]",
      "text/plain": [
       "<Figure size 3000x400 with 1 Axes>"
      ]
     },
     "metadata": {},
     "output_type": "display_data"
    },
    {
     "name": "stderr",
     "output_type": "stream",
     "text": [
      "/usr/local/lib/python3.11/dist-packages/torchvision/models/_utils.py:208: UserWarning: The parameter 'pretrained' is deprecated since 0.13 and may be removed in the future, please use 'weights' instead.\n",
      "  warnings.warn(\n",
      "/usr/local/lib/python3.11/dist-packages/torchvision/models/_utils.py:223: UserWarning: Arguments other than a weight enum or `None` for 'weights' are deprecated since 0.13 and may be removed in the future. The current behavior is equivalent to passing `weights=DenseNet121_Weights.IMAGENET1K_V1`. You can also use `weights=DenseNet121_Weights.DEFAULT` to get the most up-to-date weights.\n",
      "  warnings.warn(msg)\n",
      "Downloading: \"https://download.pytorch.org/models/densenet121-a639ec97.pth\" to /root/.cache/torch/hub/checkpoints/densenet121-a639ec97.pth\n",
      "100%|██████████| 30.8M/30.8M [00:00<00:00, 174MB/s]\n"
     ]
    },
    {
     "name": "stdout",
     "output_type": "stream",
     "text": [
      "Model_name: densenet121\n"
     ]
    },
    {
     "name": "stderr",
     "output_type": "stream",
     "text": [
      "Epoch 1/10 - train: 100%|██████████| 543/543 [01:11<00:00,  7.55it/s, Loss=0.44]\n"
     ]
    },
    {
     "name": "stdout",
     "output_type": "stream",
     "text": [
      "Epoch 1 train loss: 0.44\n",
      "\n",
      "Train metrics\n",
      "AUC: 0.7\n",
      "F1: 0.4\n",
      "Precision: 0.5\n",
      "Recall: 0.4\n",
      "\n",
      "Problematic classes:\n",
      "  Atelectasis: AUC=0.778, F1=0.600\n",
      "  Cardiomegaly: AUC=0.824, F1=0.642\n",
      "  Consolidation: AUC=0.808, F1=0.527\n",
      "  Edema: AUC=0.795, F1=0.449\n",
      "  Fracture: AUC=0.697, F1=0.062\n",
      "  Lung Lesion: AUC=0.563, F1=0.054\n",
      "  Lung Opacity: AUC=0.793, F1=0.694\n",
      "  No Finding: AUC=0.775, F1=0.493\n",
      "  Pleural Effusion: AUC=0.748, F1=0.480\n",
      "  Pleural Other: AUC=0.600, F1=0.050\n",
      "  Pneumonia: AUC=0.672, F1=0.063\n",
      "  Pneumothorax: AUC=0.612, F1=0.048\n",
      "  Support Devices: AUC=0.824, F1=0.629\n"
     ]
    },
    {
     "name": "stderr",
     "output_type": "stream",
     "text": [
      "Validation: 100%|██████████| 136/136 [00:15<00:00,  8.73it/s]\n"
     ]
    },
    {
     "name": "stdout",
     "output_type": "stream",
     "text": [
      "Epoch 1 validation loss: 0.72\n",
      "\n",
      "Validation metrics\n",
      "AUC: 0.8\n",
      "F1: 0.4\n",
      "Precision: 0.4\n",
      "Recall: 0.5\n",
      "\n",
      "Problematic classes:\n",
      "  Consolidation: AUC=0.866, F1=0.687\n",
      "  Fracture: AUC=0.829, F1=0.000\n",
      "  Lung Lesion: AUC=0.641, F1=0.000\n",
      "  No Finding: AUC=0.837, F1=0.477\n",
      "  Pleural Effusion: AUC=0.829, F1=0.655\n",
      "  Pleural Other: AUC=0.753, F1=0.000\n",
      "  Pneumonia: AUC=0.802, F1=0.000\n",
      "  Pneumothorax: AUC=0.730, F1=0.000\n"
     ]
    },
    {
     "name": "stderr",
     "output_type": "stream",
     "text": [
      "Epoch 2/10 - train: 100%|██████████| 543/543 [01:12<00:00,  7.49it/s, Loss=0.39]\n"
     ]
    },
    {
     "name": "stdout",
     "output_type": "stream",
     "text": [
      "Epoch 2 train loss: 0.39\n",
      "\n",
      "Train metrics\n",
      "AUC: 0.8\n",
      "F1: 0.4\n",
      "Precision: 0.5\n",
      "Recall: 0.4\n",
      "\n",
      "Problematic classes:\n",
      "  Atelectasis: AUC=0.832, F1=0.694\n",
      "  Consolidation: AUC=0.866, F1=0.643\n",
      "  Edema: AUC=0.846, F1=0.589\n",
      "  Fracture: AUC=0.793, F1=0.065\n",
      "  Lung Lesion: AUC=0.616, F1=0.004\n",
      "  No Finding: AUC=0.827, F1=0.598\n",
      "  Pleural Effusion: AUC=0.822, F1=0.616\n",
      "  Pleural Other: AUC=0.698, F1=0.000\n",
      "  Pneumonia: AUC=0.757, F1=0.013\n",
      "  Pneumothorax: AUC=0.663, F1=0.000\n"
     ]
    },
    {
     "name": "stderr",
     "output_type": "stream",
     "text": [
      "Validation: 100%|██████████| 136/136 [00:15<00:00,  8.76it/s]\n"
     ]
    },
    {
     "name": "stdout",
     "output_type": "stream",
     "text": [
      "Epoch 2 validation loss: 0.71\n",
      "\n",
      "Validation metrics\n",
      "AUC: 0.8\n",
      "F1: 0.5\n",
      "Precision: 0.5\n",
      "Recall: 0.5\n",
      "\n",
      "Problematic classes:\n",
      "  Edema: AUC=0.888, F1=0.700\n",
      "  Fracture: AUC=0.849, F1=0.054\n",
      "  Lung Lesion: AUC=0.657, F1=0.000\n",
      "  No Finding: AUC=0.839, F1=0.537\n",
      "  Pleural Effusion: AUC=0.849, F1=0.674\n",
      "  Pleural Other: AUC=0.751, F1=0.000\n",
      "  Pneumonia: AUC=0.806, F1=0.000\n",
      "  Pneumothorax: AUC=0.774, F1=0.000\n"
     ]
    },
    {
     "name": "stderr",
     "output_type": "stream",
     "text": [
      "Epoch 3/10 - train: 100%|██████████| 543/543 [01:11<00:00,  7.61it/s, Loss=0.37]\n"
     ]
    },
    {
     "name": "stdout",
     "output_type": "stream",
     "text": [
      "Epoch 3 train loss: 0.37\n",
      "\n",
      "Train metrics\n",
      "AUC: 0.8\n",
      "F1: 0.5\n",
      "Precision: 0.5\n",
      "Recall: 0.4\n",
      "\n",
      "Problematic classes:\n",
      "  Consolidation: AUC=0.875, F1=0.668\n",
      "  Edema: AUC=0.864, F1=0.619\n",
      "  Fracture: AUC=0.808, F1=0.093\n",
      "  Lung Lesion: AUC=0.644, F1=0.000\n",
      "  No Finding: AUC=0.841, F1=0.628\n",
      "  Pleural Effusion: AUC=0.835, F1=0.657\n",
      "  Pleural Other: AUC=0.744, F1=0.000\n",
      "  Pneumonia: AUC=0.770, F1=0.032\n",
      "  Pneumothorax: AUC=0.669, F1=0.000\n"
     ]
    },
    {
     "name": "stderr",
     "output_type": "stream",
     "text": [
      "Validation: 100%|██████████| 136/136 [00:15<00:00,  8.73it/s]\n"
     ]
    },
    {
     "name": "stdout",
     "output_type": "stream",
     "text": [
      "Epoch 3 validation loss: 0.70\n",
      "\n",
      "Validation metrics\n",
      "AUC: 0.9\n",
      "F1: 0.5\n",
      "Precision: 0.5\n",
      "Recall: 0.5\n",
      "\n",
      "Problematic classes:\n",
      "  Edema: AUC=0.890, F1=0.691\n",
      "  Fracture: AUC=0.861, F1=0.068\n",
      "  Lung Lesion: AUC=0.691, F1=0.000\n",
      "  No Finding: AUC=0.843, F1=0.659\n",
      "  Pleural Effusion: AUC=0.855, F1=0.678\n",
      "  Pleural Other: AUC=0.773, F1=0.000\n",
      "  Pneumonia: AUC=0.826, F1=0.000\n",
      "  Pneumothorax: AUC=0.765, F1=0.000\n"
     ]
    },
    {
     "name": "stderr",
     "output_type": "stream",
     "text": [
      "Epoch 4/10 - train: 100%|██████████| 543/543 [01:11<00:00,  7.55it/s, Loss=0.37]\n"
     ]
    },
    {
     "name": "stdout",
     "output_type": "stream",
     "text": [
      "Epoch 4 train loss: 0.37\n",
      "\n",
      "Train metrics\n",
      "AUC: 0.8\n",
      "F1: 0.5\n",
      "Precision: 0.6\n",
      "Recall: 0.5\n",
      "\n",
      "Problematic classes:\n",
      "  Consolidation: AUC=0.885, F1=0.674\n",
      "  Edema: AUC=0.869, F1=0.622\n",
      "  Fracture: AUC=0.821, F1=0.117\n",
      "  Lung Lesion: AUC=0.663, F1=0.012\n",
      "  No Finding: AUC=0.842, F1=0.621\n",
      "  Pleural Effusion: AUC=0.848, F1=0.667\n",
      "  Pleural Other: AUC=0.750, F1=0.000\n",
      "  Pneumonia: AUC=0.772, F1=0.047\n",
      "  Pneumothorax: AUC=0.678, F1=0.000\n"
     ]
    },
    {
     "name": "stderr",
     "output_type": "stream",
     "text": [
      "Validation: 100%|██████████| 136/136 [00:15<00:00,  8.70it/s]\n"
     ]
    },
    {
     "name": "stdout",
     "output_type": "stream",
     "text": [
      "Epoch 4 validation loss: 0.70\n",
      "\n",
      "Validation metrics\n",
      "AUC: 0.9\n",
      "F1: 0.5\n",
      "Precision: 0.5\n",
      "Recall: 0.5\n",
      "\n",
      "Problematic classes:\n",
      "  Edema: AUC=0.900, F1=0.696\n",
      "  Fracture: AUC=0.858, F1=0.129\n",
      "  Lung Lesion: AUC=0.698, F1=0.000\n",
      "  No Finding: AUC=0.835, F1=0.614\n",
      "  Pleural Effusion: AUC=0.867, F1=0.697\n",
      "  Pleural Other: AUC=0.770, F1=0.000\n",
      "  Pneumonia: AUC=0.827, F1=0.000\n",
      "  Pneumothorax: AUC=0.758, F1=0.000\n"
     ]
    },
    {
     "name": "stderr",
     "output_type": "stream",
     "text": [
      "Epoch 5/10 - train: 100%|██████████| 543/543 [01:11<00:00,  7.58it/s, Loss=0.35]\n"
     ]
    },
    {
     "name": "stdout",
     "output_type": "stream",
     "text": [
      "Epoch 5 train loss: 0.35\n",
      "\n",
      "Train metrics\n",
      "AUC: 0.8\n",
      "F1: 0.5\n",
      "Precision: 0.6\n",
      "Recall: 0.5\n",
      "\n",
      "Problematic classes:\n",
      "  Edema: AUC=0.882, F1=0.645\n",
      "  Fracture: AUC=0.844, F1=0.230\n",
      "  Lung Lesion: AUC=0.679, F1=0.004\n",
      "  No Finding: AUC=0.853, F1=0.644\n",
      "  Pleural Effusion: AUC=0.864, F1=0.686\n",
      "  Pleural Other: AUC=0.768, F1=0.000\n",
      "  Pneumonia: AUC=0.801, F1=0.077\n",
      "  Pneumothorax: AUC=0.717, F1=0.000\n"
     ]
    },
    {
     "name": "stderr",
     "output_type": "stream",
     "text": [
      "Validation: 100%|██████████| 136/136 [00:15<00:00,  8.66it/s]\n"
     ]
    },
    {
     "name": "stdout",
     "output_type": "stream",
     "text": [
      "Epoch 5 validation loss: 0.69\n",
      "\n",
      "Validation metrics\n",
      "AUC: 0.9\n",
      "F1: 0.5\n",
      "Precision: 0.6\n",
      "Recall: 0.5\n",
      "\n",
      "Problematic classes:\n",
      "  Edema: AUC=0.896, F1=0.690\n",
      "  Fracture: AUC=0.852, F1=0.186\n",
      "  Lung Lesion: AUC=0.708, F1=0.000\n",
      "  No Finding: AUC=0.839, F1=0.653\n",
      "  Pleural Effusion: AUC=0.870, F1=0.693\n",
      "  Pleural Other: AUC=0.793, F1=0.000\n",
      "  Pneumonia: AUC=0.835, F1=0.095\n",
      "  Pneumothorax: AUC=0.775, F1=0.000\n"
     ]
    },
    {
     "name": "stderr",
     "output_type": "stream",
     "text": [
      "Epoch 6/10 - train: 100%|██████████| 543/543 [01:11<00:00,  7.62it/s, Loss=0.35]\n"
     ]
    },
    {
     "name": "stdout",
     "output_type": "stream",
     "text": [
      "Epoch 6 train loss: 0.35\n",
      "\n",
      "Train metrics\n",
      "AUC: 0.8\n",
      "F1: 0.5\n",
      "Precision: 0.6\n",
      "Recall: 0.5\n",
      "\n",
      "Problematic classes:\n",
      "  Edema: AUC=0.885, F1=0.668\n",
      "  Fracture: AUC=0.844, F1=0.219\n",
      "  Lung Lesion: AUC=0.707, F1=0.024\n",
      "  No Finding: AUC=0.858, F1=0.657\n",
      "  Pleural Effusion: AUC=0.869, F1=0.699\n",
      "  Pleural Other: AUC=0.785, F1=0.000\n",
      "  Pneumonia: AUC=0.816, F1=0.143\n",
      "  Pneumothorax: AUC=0.709, F1=0.000\n"
     ]
    },
    {
     "name": "stderr",
     "output_type": "stream",
     "text": [
      "Validation: 100%|██████████| 136/136 [00:15<00:00,  8.77it/s]\n"
     ]
    },
    {
     "name": "stdout",
     "output_type": "stream",
     "text": [
      "Epoch 6 validation loss: 0.69\n",
      "\n",
      "Validation metrics\n",
      "AUC: 0.9\n",
      "F1: 0.5\n",
      "Precision: 0.6\n",
      "Recall: 0.5\n",
      "\n",
      "Problematic classes:\n",
      "  Edema: AUC=0.895, F1=0.690\n",
      "  Fracture: AUC=0.871, F1=0.355\n",
      "  Lung Lesion: AUC=0.693, F1=0.122\n",
      "  No Finding: AUC=0.850, F1=0.658\n",
      "  Pleural Effusion: AUC=0.869, F1=0.689\n",
      "  Pleural Other: AUC=0.801, F1=0.000\n",
      "  Pneumonia: AUC=0.841, F1=0.381\n",
      "  Pneumothorax: AUC=0.760, F1=0.000\n"
     ]
    },
    {
     "name": "stderr",
     "output_type": "stream",
     "text": [
      "Epoch 7/10 - train: 100%|██████████| 543/543 [01:11<00:00,  7.61it/s, Loss=0.34]\n"
     ]
    },
    {
     "name": "stdout",
     "output_type": "stream",
     "text": [
      "Epoch 7 train loss: 0.34\n",
      "\n",
      "Train metrics\n",
      "AUC: 0.9\n",
      "F1: 0.5\n",
      "Precision: 0.7\n",
      "Recall: 0.5\n",
      "\n",
      "Problematic classes:\n",
      "  Edema: AUC=0.889, F1=0.677\n",
      "  Fracture: AUC=0.855, F1=0.275\n",
      "  Lung Lesion: AUC=0.737, F1=0.020\n",
      "  No Finding: AUC=0.862, F1=0.650\n",
      "  Pleural Other: AUC=0.798, F1=0.007\n",
      "  Pneumonia: AUC=0.820, F1=0.231\n",
      "  Pneumothorax: AUC=0.732, F1=0.000\n"
     ]
    },
    {
     "name": "stderr",
     "output_type": "stream",
     "text": [
      "Validation: 100%|██████████| 136/136 [00:15<00:00,  8.75it/s]\n"
     ]
    },
    {
     "name": "stdout",
     "output_type": "stream",
     "text": [
      "Epoch 7 validation loss: 0.69\n",
      "\n",
      "Validation metrics\n",
      "AUC: 0.9\n",
      "F1: 0.5\n",
      "Precision: 0.6\n",
      "Recall: 0.5\n",
      "\n",
      "Problematic classes:\n",
      "  Fracture: AUC=0.867, F1=0.320\n",
      "  Lung Lesion: AUC=0.729, F1=0.045\n",
      "  No Finding: AUC=0.860, F1=0.687\n",
      "  Pleural Other: AUC=0.790, F1=0.000\n",
      "  Pneumonia: AUC=0.848, F1=0.178\n",
      "  Pneumothorax: AUC=0.775, F1=0.000\n"
     ]
    },
    {
     "name": "stderr",
     "output_type": "stream",
     "text": [
      "Epoch 8/10 - train: 100%|██████████| 543/543 [01:11<00:00,  7.63it/s, Loss=0.33]\n"
     ]
    },
    {
     "name": "stdout",
     "output_type": "stream",
     "text": [
      "Epoch 8 train loss: 0.33\n",
      "\n",
      "Train metrics\n",
      "AUC: 0.9\n",
      "F1: 0.5\n",
      "Precision: 0.7\n",
      "Recall: 0.5\n",
      "\n",
      "Problematic classes:\n",
      "  Edema: AUC=0.897, F1=0.666\n",
      "  Fracture: AUC=0.871, F1=0.326\n",
      "  Lung Lesion: AUC=0.740, F1=0.058\n",
      "  No Finding: AUC=0.869, F1=0.674\n",
      "  Pleural Other: AUC=0.811, F1=0.015\n",
      "  Pneumonia: AUC=0.824, F1=0.198\n",
      "  Pneumothorax: AUC=0.737, F1=0.000\n"
     ]
    },
    {
     "name": "stderr",
     "output_type": "stream",
     "text": [
      "Validation: 100%|██████████| 136/136 [00:15<00:00,  8.74it/s]\n"
     ]
    },
    {
     "name": "stdout",
     "output_type": "stream",
     "text": [
      "Epoch 8 validation loss: 0.69\n",
      "\n",
      "Validation metrics\n",
      "AUC: 0.9\n",
      "F1: 0.5\n",
      "Precision: 0.6\n",
      "Recall: 0.6\n",
      "\n",
      "Problematic classes:\n",
      "  Fracture: AUC=0.860, F1=0.404\n",
      "  Lung Lesion: AUC=0.710, F1=0.114\n",
      "  No Finding: AUC=0.851, F1=0.668\n",
      "  Pleural Other: AUC=0.774, F1=0.000\n",
      "  Pneumonia: AUC=0.846, F1=0.376\n",
      "  Pneumothorax: AUC=0.746, F1=0.000\n"
     ]
    },
    {
     "name": "stderr",
     "output_type": "stream",
     "text": [
      "Epoch 9/10 - train: 100%|██████████| 543/543 [01:11<00:00,  7.60it/s, Loss=0.33]\n"
     ]
    },
    {
     "name": "stdout",
     "output_type": "stream",
     "text": [
      "Epoch 9 train loss: 0.33\n",
      "\n",
      "Train metrics\n",
      "AUC: 0.9\n",
      "F1: 0.5\n",
      "Precision: 0.7\n",
      "Recall: 0.5\n",
      "\n",
      "Problematic classes:\n",
      "  Edema: AUC=0.901, F1=0.681\n",
      "  Fracture: AUC=0.863, F1=0.355\n",
      "  Lung Lesion: AUC=0.768, F1=0.078\n",
      "  No Finding: AUC=0.876, F1=0.685\n",
      "  Pleural Other: AUC=0.825, F1=0.007\n",
      "  Pneumonia: AUC=0.835, F1=0.266\n",
      "  Pneumothorax: AUC=0.737, F1=0.000\n"
     ]
    },
    {
     "name": "stderr",
     "output_type": "stream",
     "text": [
      "Validation: 100%|██████████| 136/136 [00:15<00:00,  8.72it/s]\n"
     ]
    },
    {
     "name": "stdout",
     "output_type": "stream",
     "text": [
      "Epoch 9 validation loss: 0.69\n",
      "\n",
      "Validation metrics\n",
      "AUC: 0.9\n",
      "F1: 0.5\n",
      "Precision: 0.6\n",
      "Recall: 0.5\n",
      "\n",
      "Problematic classes:\n",
      "  Edema: AUC=0.901, F1=0.699\n",
      "  Fracture: AUC=0.859, F1=0.295\n",
      "  Lung Lesion: AUC=0.746, F1=0.191\n",
      "  No Finding: AUC=0.850, F1=0.669\n",
      "  Pleural Effusion: AUC=0.873, F1=0.691\n",
      "  Pleural Other: AUC=0.774, F1=0.000\n",
      "  Pneumonia: AUC=0.831, F1=0.398\n",
      "  Pneumothorax: AUC=0.751, F1=0.000\n"
     ]
    },
    {
     "name": "stderr",
     "output_type": "stream",
     "text": [
      "Epoch 10/10 - train: 100%|██████████| 543/543 [01:11<00:00,  7.63it/s, Loss=0.32]\n"
     ]
    },
    {
     "name": "stdout",
     "output_type": "stream",
     "text": [
      "Epoch 10 train loss: 0.32\n",
      "\n",
      "Train metrics\n",
      "AUC: 0.9\n",
      "F1: 0.6\n",
      "Precision: 0.7\n",
      "Recall: 0.5\n",
      "\n",
      "Problematic classes:\n",
      "  Fracture: AUC=0.880, F1=0.374\n",
      "  Lung Lesion: AUC=0.766, F1=0.154\n",
      "  No Finding: AUC=0.884, F1=0.695\n",
      "  Pleural Other: AUC=0.829, F1=0.015\n",
      "  Pneumonia: AUC=0.837, F1=0.323\n",
      "  Pneumothorax: AUC=0.742, F1=0.000\n"
     ]
    },
    {
     "name": "stderr",
     "output_type": "stream",
     "text": [
      "Validation: 100%|██████████| 136/136 [00:15<00:00,  8.79it/s]\n"
     ]
    },
    {
     "name": "stdout",
     "output_type": "stream",
     "text": [
      "Epoch 10 validation loss: 0.69\n",
      "\n",
      "Validation metrics\n",
      "AUC: 0.9\n",
      "F1: 0.5\n",
      "Precision: 0.6\n",
      "Recall: 0.5\n",
      "\n",
      "Problematic classes:\n",
      "  Fracture: AUC=0.862, F1=0.406\n",
      "  Lung Lesion: AUC=0.715, F1=0.203\n",
      "  No Finding: AUC=0.837, F1=0.616\n",
      "  Pleural Other: AUC=0.763, F1=0.000\n",
      "  Pneumonia: AUC=0.824, F1=0.323\n",
      "  Pneumothorax: AUC=0.729, F1=0.000\n",
      "The best validation AUC: 0.8646711707115173\n"
     ]
    },
    {
     "data": {
      "image/png": "[encoded data removed]",
      "text/plain": [
       "<Figure size 1500x400 with 3 Axes>"
      ]
     },
     "metadata": {},
     "output_type": "display_data"
    },
    {
     "data": {
      "image/png": "[encoded data removed]",
      "text/plain": [
       "<Figure size 3000x400 with 1 Axes>"
      ]
     },
     "metadata": {},
     "output_type": "display_data"
    }
   ],
   "source": [
    "for model_name in MODEL_NAMES:\n",
    "    model = CNNWrapper(model_name)\n",
    "    model.to(DEVICE)\n",
    "    optimizer = torch.optim.Adam(model.parameters(), lr=LR)\n",
    "    criterion = nn.BCEWithLogitsLoss()\n",
    "    training_and_validation(model_name, model, optimizer, criterion)"
   ]
  }
 ],
 "metadata": {
  "kaggle": {
   "accelerator": "gpu",
   "dataSources": [
    {
     "databundleVersionId": 13471427,
     "sourceId": 113002,
     "sourceType": "competition"
    }
   ],
   "dockerImageVersionId": 31090,
   "isGpuEnabled": true,
   "isInternetEnabled": true,
   "language": "python",
   "sourceType": "notebook"
  },
  "kernelspec": {
   "display_name": "Python 3",
   "language": "python",
   "name": "python3"
  },
  "language_info": {
   "codemirror_mode": {
    "name": "ipython",
    "version": 3
   },
   "file_extension": ".py",
   "mimetype": "text/x-python",
   "name": "python",
   "nbconvert_exporter": "python",
   "pygments_lexer": "ipython3",
   "version": "3.11.13"
  }
 },
 "nbformat": 4,
 "nbformat_minor": 4
}
